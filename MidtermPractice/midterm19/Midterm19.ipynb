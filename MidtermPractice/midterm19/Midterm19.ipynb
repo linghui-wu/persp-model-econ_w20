{
 "cells": [
  {
   "cell_type": "markdown",
   "metadata": {},
   "source": [
    "# Midterm (MACS 30150), February 11, 2019 [20 points total]\n",
    "### Solutions\n",
    "### Linghui Wu\n",
    "You will have an hour and fifty minutes to take this exam.\n",
    "1. Put your name in the space provided above (without the brackets).\n",
    "2. Download this notebook and accompanying data `MidtermScores.csv`.\n",
    "3. The class will disconnect their wi-fi and begin taking the exam.\n",
    "4. The exam is open computer, closed internet, open note.\n",
    "5. Once you are done, you will signal to a TA or instructor to come over and monitor while you reconnect to the internet and upload your edited notebook to Canvas.\n",
    "\n",
    "Remember that you must clearly indicate your answers to all questions below. We will give partial credit for partially correct answers. The midterm is worth 20 points (2 problem sets)."
   ]
  },
  {
   "cell_type": "markdown",
   "metadata": {},
   "source": [
    "# 1. Symbolic and Numerical Derivatives [10 points total]\n",
    "This exercise will use the following function. In a household savings problem, the marginal utility of consumption is an important function. If a household has a constant relative risk aversion utility function, the marginal utility functional form can be the following:\n",
    "\\begin{equation}\n",
    "  MU(c_t) \\equiv \\bigl(c_t\\bigr)^{-\\sigma}\n",
    "\\end{equation}\n",
    "where $c_t>0$ is current period consumption and $\\sigma\\geq 1$ is the coefficient of constant relative risk aversion.\n",
    "\n",
    "Assume the budget constraint every period is $c_t + b_{t+1} = (1+r_t)b_t + w_t$, where $b_t$ is the initial wealth in period $t$, $b_{t+1}$ is the savings chosen in period $t$ that comes back to the household in period $t+1$ with interest, and $w_t$ is the wage paid on the unit of inelastically supplied labor. Then we can rewrite the marginal utility of consumption above with the budget constraint substituted in.\n",
    "\\begin{equation}\n",
    "  MU = \\Bigl([1 + r_t]b_t + w_t - b_{t+1}\\Bigr)^{-\\sigma}\n",
    "\\end{equation}\n"
   ]
  },
  {
   "cell_type": "markdown",
   "metadata": {},
   "source": [
    "## 1a) Plot the MU(c) function for different consumption values [2 points]\n",
    "Assume that the coefficient of relative risk aversion is $\\sigma = 1.8$. Use Python to plot the marginal utility of consumption for 100 equally spaced consumption values between 0.7 and 5.0. Make sure your plot has an $x$-axis labeled \"consumption\" and a $y$-axis labeled \"marginal utility\"."
   ]
  },
  {
   "cell_type": "code",
   "execution_count": 1,
   "metadata": {},
   "outputs": [],
   "source": [
    "import numpy as np\n",
    "import matplotlib.pyplot as plt"
   ]
  },
  {
   "cell_type": "code",
   "execution_count": 2,
   "metadata": {},
   "outputs": [
    {
     "data": {
      "image/png": "[encoded data removed]",
      "text/plain": [
       "<Figure size 432x288 with 1 Axes>"
      ]
     },
     "metadata": {
      "needs_background": "light"
     },
     "output_type": "display_data"
    }
   ],
   "source": [
    "cvals = np.linspace(0.7, 5.0, 100)\n",
    "sigma = 1.8\n",
    "mu = lambda x: x ** -sigma\n",
    "\n",
    "plt.plot(cvals, mu(cvals))\n",
    "plt.xlabel(\"consumption\")\n",
    "plt.ylabel(\"marginal utility\");"
   ]
  },
  {
   "cell_type": "markdown",
   "metadata": {},
   "source": [
    "## 1b) Symbolic numerical derivative [2 points]\n",
    "Assume the version of the marginal utility above that has the budget constraint substituted in.\n",
    "\\begin{equation}\n",
    "  MU = \\Bigl([1 + r_t]b_t + w_t - b_{t+1}\\Bigr)^{-\\sigma}\n",
    "\\end{equation}\n",
    "Use Python's symbolic math package `sympy` to compute the analytical derivative of the marginal utility function with respect to beginning-of-period wealth $b_t$. This will involve you declaring each variable and parameter as a symbol, then specifying the $MU$ funtion to be differentiated. The solution should be a function of all the variables and parameters $(b_t, b_{t+1}, r_t, w_t, \\sigma)$. Leave the output in the form that `sympy` produces."
   ]
  },
  {
   "cell_type": "code",
   "execution_count": 3,
   "metadata": {},
   "outputs": [],
   "source": [
    "import sympy as sy"
   ]
  },
  {
   "cell_type": "code",
   "execution_count": 4,
   "metadata": {},
   "outputs": [],
   "source": [
    "r_t, b_t, w_t, b_t_plus_1, sigma = sy.symbols(\"r_t b_t w_t b_{t+1} sigma\")\n",
    "mu = ((1 + r_t) * b_t + w_t - b_t_plus_1) ** -sigma"
   ]
  },
  {
   "cell_type": "code",
   "execution_count": 5,
   "metadata": {},
   "outputs": [
    {
     "data": {
      "text/latex": [
       "$\\displaystyle - \\frac{\\sigma \\left(r_{t} + 1\\right) \\left(b_{t} \\left(r_{t} + 1\\right) - b_{t+1} + w_{t}\\right)^{- \\sigma}}{b_{t} \\left(r_{t} + 1\\right) - b_{t+1} + w_{t}}$"
      ],
      "text/plain": [
       "-sigma*(r_t + 1)*(b_t*(r_t + 1) - b_{t+1} + w_t)**(-sigma)/(b_t*(r_t + 1) - b_{t+1} + w_t)"
      ]
     },
     "execution_count": 5,
     "metadata": {},
     "output_type": "execute_result"
    }
   ],
   "source": [
    "b_t_prime = sy.diff(mu,\"b_t\")\n",
    "b_t_prime"
   ]
  },
  {
   "cell_type": "markdown",
   "metadata": {},
   "source": [
    "## 1c) Write a function that produces the analytical derivative [3 points]\n",
    "Write a function that takes five inputs which are the values for the variables and parameters of the marginal utility $(b_t, b_{t+1}, r_t, w_t, \\sigma)$ and returns the analytical derivative of the marginal utility (scalar) with respect to beginning-of-period wealth $b_t$ associated with those values. Show your function definition in the cell below. Name your function `dMU_c`. Print out the value of the function for the following three combinations of variables and parameters.\n",
    "\n",
    "$$ \\frac{\\partial MU_1}{\\partial b_t}:\\quad b_t=1.0, \\:\\: b_{t+1}=0.8, \\:\\: r_t=0.04, \\:\\: w_t=1.2, \\:\\: \\sigma=2.2 $$\n",
    "\n",
    "$$ \\frac{\\partial MU_2}{\\partial b_t}:\\quad b_t=5.0, \\:\\: b_{t+1}=2.1, \\:\\: r_t=0.01, \\:\\: w_t=1.8, \\:\\: \\sigma=2.0 $$\n",
    "\n",
    "$$ \\frac{\\partial MU_3}{\\partial b_t}:\\quad b_t=3.3, \\:\\: b_{t+1}=3.4, \\:\\: r_t=0.03, \\:\\: w_t=1.0, \\:\\: \\sigma=1.8 $$"
   ]
  },
  {
   "cell_type": "code",
   "execution_count": 6,
   "metadata": {},
   "outputs": [],
   "source": [
    "sy.lambdify?"
   ]
  },
  {
   "cell_type": "code",
   "execution_count": 7,
   "metadata": {},
   "outputs": [],
   "source": [
    "params = [r_t, b_t, w_t, b_t_plus_1, sigma]\n",
    "dMU_c = sy.lambdify(params, b_t_prime)"
   ]
  },
  {
   "cell_type": "code",
   "execution_count": 8,
   "metadata": {},
   "outputs": [
    {
     "name": "stdout",
     "output_type": "stream",
     "text": [
      "-0.7123542921746638\n",
      "-0.018848228604752878\n",
      "-1.8592010790841615\n"
     ]
    }
   ],
   "source": [
    "d1 = dMU_c(0.04, 1.0, 1.2, 0.8, 2.2)\n",
    "d2 = dMU_c(0.01, 5.0, 1.8, 2.1, 2.0)\n",
    "d3 = dMU_c(0.03, 3.3, 1.0, 3.4, 1.8)\n",
    "print(d1, d2, d3, sep=\"\\n\")"
   ]
  },
  {
   "cell_type": "code",
   "execution_count": 9,
   "metadata": {},
   "outputs": [],
   "source": [
    "dMU_c?"
   ]
  },
  {
   "cell_type": "markdown",
   "metadata": {},
   "source": [
    "## 1d) Compute the numerical derivative approximation [3 points]\n",
    "Use the centered second-order finite difference approximation of the derivative to calculate the numerical derivative of the marginal utility function.\n",
    "\n",
    "$$ f'(x_0)\\approx \\frac{f(x_0 + h) - f(x_0 - h)}{2h} $$\n",
    "\n",
    "Recall that our marginal utility function is a function of four variables and the parameter $\\sigma$.\n",
    "\\begin{equation}\n",
    "  MU = \\Bigl([1 + r_t]b_t + w_t - b_{t+1}\\Bigr)^{-\\sigma}\n",
    "\\end{equation}\n",
    "So we want to approximate the derivative of the marginal utility with respect to beginning-of-period wealth $\\partial MU(c)/\\partial b_t$ by using the centered second-order finite difference approximation above. A helpful hint on how to do this is the marginal utility function is like $f(x)$ and the derivative is the centered second-order approximation equation.\n",
    "\n",
    "Define a function named `dMU_c_approx` that takes as inputs the five variables and parameters $(b_t, b_{t+1}, r_t, w_t, \\sigma)$ as well as a finite difference amount $h$. Have this function return the centered second-order approximation of the derivative of the marginal utility function with respect to beginning-of-period wealth.\n",
    "\n",
    "Using your `dMU_c` function from part (c), print the analytical derivative of the marginal utility function with respect to beginning-of-period wealth with the following parameterization.\n",
    "\n",
    "$$ \\frac{\\partial MU}{\\partial b_t}:\\quad b_t=1.0, \\:\\: b_{t+1}=0.8, \\:\\: r_t=0.04, \\:\\: w_t=1.2, \\:\\: \\sigma=2.2 $$\n",
    "\n",
    "Use your `dMU_c_approx` function to print out the numerical approximation of the derivative for the specification above with the following three finite difference amounts: $h_1 = 0.1$, $h_2= 0.001$ and  $h_3=0.00001$."
   ]
  },
  {
   "cell_type": "code",
   "execution_count": 10,
   "metadata": {},
   "outputs": [],
   "source": [
    "def dMU_c_approx(b_t, b_t_plus_1, r_t, w_t, sigma, h):\n",
    "    f1 = ((1 + r_t) * (b_t + h) + w_t - b_t_plus_1) ** -sigma\n",
    "    f2 = ((1 + r_t) * (b_t - h) + w_t - b_t_plus_1) ** -sigma\n",
    "    return (f1 - f2) / (2 * h)"
   ]
  },
  {
   "cell_type": "code",
   "execution_count": 11,
   "metadata": {},
   "outputs": [
    {
     "name": "stdout",
     "output_type": "stream",
     "text": [
      "-0.7123542921746638\n",
      "-0.720747904181559\n",
      "-0.7123551244865578\n",
      "-0.7123542922482516\n"
     ]
    }
   ],
   "source": [
    "d = dMU_c(0.04, 1.0, 1.2, 0.8, 2.2)\n",
    "d_a1 = dMU_c_approx(1.0, 0.8, 0.04, 1.2, 2.2, h=0.1)\n",
    "d_a2 = dMU_c_approx(1.0, 0.8, 0.04, 1.2, 2.2, h=0.001)\n",
    "d_a3 = dMU_c_approx(1.0, 0.8, 0.04, 1.2, 2.2, h=0.00001)\n",
    "print(d, d_a1, d_a2, d_a3, sep=\"\\n\")"
   ]
  },
  {
   "cell_type": "markdown",
   "metadata": {},
   "source": [
    "# 2. Maximum likelihood estimation [10 points total]\n",
    "This exercise will make use of the `MidtermScores.csv` dataset, which contains 97 observations of students' midterm scores $scores_i$ as well as the number of hours they studied for the midterm $hours_i$ and whether the midterm was within a week of Chinese New Year $ch\\_ny_i$.\n",
    "\n",
    "* `scores`: score of $i$th student on midterm\n",
    "* `hours`: number of hours that $i$th student studied for the midterm\n",
    "* `ch_ny`: =1 if the midterm was within a week of Chinese New Year, =0 otherwise\n",
    "\n",
    "You can load these data into Python as a numpy array using the `np.loadtxt()` command."
   ]
  },
  {
   "cell_type": "code",
   "execution_count": 12,
   "metadata": {},
   "outputs": [
    {
     "name": "stdout",
     "output_type": "stream",
     "text": [
      "Shape of the data= (97, 3)\n"
     ]
    }
   ],
   "source": [
    "import numpy as np\n",
    "\n",
    "data = np.loadtxt('MidtermScores.csv', delimiter=',', skiprows=1)\n",
    "print('Shape of the data=', data.shape)\n",
    "scores = data[:, 0]\n",
    "hours = data[:, 1]\n",
    "ch_ny = data[:, 2]"
   ]
  },
  {
   "cell_type": "markdown",
   "metadata": {},
   "source": [
    "Assume that our model of student midterm scores is the following linear model.\n",
    "\n",
    "$$ scores_i = \\beta_0 + \\beta_1 hours_i + \\beta_2 ch\\_ny_i + \\varepsilon_i \\quad\\text{where}\\quad \\varepsilon_i\\sim N(0,\\sigma) $$\n",
    "\n",
    "where the error $\\varepsilon_i$ are normally distributed with mean 0 and standard deviation $\\sigma$."
   ]
  },
  {
   "cell_type": "markdown",
   "metadata": {},
   "source": [
    "## 2a) Log likelihood function [3 points]\n",
    "Define a function named `log_lik` that takes as inputs three data vectors $scores_i$, $hours_i$, $ch\\_ny_i$, three coefficient parameters $\\beta_0$, $\\beta_1$, $\\beta_2$, and the standard deviation $\\sigma$ of the normally distributed errors and returns the log likelihood (a scalar). Print the log likelihood value for the first 10 data observations given all the coefficients are equal to one $\\beta_0, \\beta_1, \\beta_2=1.0$ and the standard deviation of the errors is equal to $\\sigma=0.5$. For the answer to this question, I want to see a function and one scalar log-likelihood value."
   ]
  },
  {
   "cell_type": "code",
   "execution_count": 13,
   "metadata": {},
   "outputs": [],
   "source": [
    "def norm_pdf(xvals, mu, sigma):\n",
    "    pdf_vals = (1 / (sigma * np.sqrt(2 * np.pi))) * np.exp(- 1/2 * ((xvals - mu) / sigma) ** 2)\n",
    "    return pdf_vals"
   ]
  },
  {
   "cell_type": "code",
   "execution_count": 14,
   "metadata": {},
   "outputs": [],
   "source": [
    "def log_lik(scores, hours, ch_ny, b0, b1, b2, sigma):\n",
    "    xvals = scores - b0 - b1 * hours - b2 * ch_ny\n",
    "    pdf_vals = norm_pdf(xvals, 0, sigma)\n",
    "    log_pdf_vals = np.log(pdf_vals)\n",
    "    log_lik_val = log_pdf_vals.sum()\n",
    "    return log_lik_val"
   ]
  },
  {
   "cell_type": "code",
   "execution_count": 15,
   "metadata": {},
   "outputs": [
    {
     "data": {
      "text/plain": [
       "-186.8990404522523"
      ]
     },
     "execution_count": 15,
     "metadata": {},
     "output_type": "execute_result"
    }
   ],
   "source": [
    "b0 = 1\n",
    "b1 = 1\n",
    "b2 = 1\n",
    "sigma = 0.5\n",
    "sc = scores[:10]\n",
    "h = hours[:10]\n",
    "ch = ch_ny[:10]\n",
    "log_lik(sc, h, ch, b0, b1, b2, sigma)"
   ]
  },
  {
   "cell_type": "markdown",
   "metadata": {},
   "source": [
    "## 2b) Estimate the parameters by MLE [7 points]\n",
    "Estimate the four parameters $\\beta_0, \\beta_1, \\beta_2, \\sigma$ to maximize the log likelihood from part (a). Remember that a minimizer will have to minimize the negative of the log likelihood. Use all 97 observations for this estimation. Use an initial guess of $\\beta_0=10.0$, $\\beta_1=1.0$, $\\beta_2=1.0$, and $\\sigma=$ the standard deviation of the $scores_i$ variable. Report your estimated coefficients $\\beta_0, \\beta_1, \\beta_2$ and standard deviation $\\sigma$. What is the predicted effect on a midterm score of a student who takes the test around Chineses New Year $ch\\_ny_i=1$ versus the score of a student who does not take the test around Chinese New year $ch\\_ny_i=0$, other things being equal?"
   ]
  },
  {
   "cell_type": "code",
   "execution_count": 16,
   "metadata": {},
   "outputs": [],
   "source": [
    "import scipy.optimize as opt"
   ]
  },
  {
   "cell_type": "code",
   "execution_count": 17,
   "metadata": {},
   "outputs": [],
   "source": [
    "def criterion(params, *args):\n",
    "    b0, b1, b2, sigma = params\n",
    "    score, hours, ch_ny = args\n",
    "    log_lik_val = log_lik(scores, hours, ch_ny, b0, b1, b2, sigma)\n",
    "    return -log_lik_val"
   ]
  },
  {
   "cell_type": "code",
   "execution_count": 18,
   "metadata": {},
   "outputs": [
    {
     "name": "stdout",
     "output_type": "stream",
     "text": [
      "MLE Estimation Results\n",
      "------------------------------\n",
      "b_0: \t 4.7504416550180935\n",
      "b_1: \t 0.7157362177837505\n",
      "b_2: \t -1.8909273108601898\n",
      "sigma: \t 0.6527539811767141\n",
      "\n",
      "Likelihood function value: -96.26120579658335\n"
     ]
    },
    {
     "data": {
      "text/plain": [
       "      fun: 96.26120579658335\n",
       " hess_inv: array([[ 1.40960431e-01, -8.52778098e-03, -1.40439095e-02,\n",
       "        -1.84051156e-04],\n",
       "       [-8.52778098e-03,  5.83649389e-04, -1.57129276e-04,\n",
       "         1.61087114e-05],\n",
       "       [-1.40439095e-02, -1.57129276e-04,  2.23544446e-02,\n",
       "        -2.41592053e-05],\n",
       "       [-1.84051156e-04,  1.61087114e-05, -2.41592053e-05,\n",
       "         2.21693327e-03]])\n",
       "      jac: array([-1.90734863e-06,  9.53674316e-06, -1.90734863e-06, -9.53674316e-07])\n",
       "  message: 'Optimization terminated successfully.'\n",
       "     nfev: 162\n",
       "      nit: 21\n",
       "     njev: 27\n",
       "   status: 0\n",
       "  success: True\n",
       "        x: array([ 4.75044166,  0.71573622, -1.89092731,  0.65275398])"
      ]
     },
     "execution_count": 18,
     "metadata": {},
     "output_type": "execute_result"
    }
   ],
   "source": [
    "b0_init = 10.0\n",
    "b1_init = 1.0\n",
    "b2_init = 1.0\n",
    "sig_init = scores.std()\n",
    "params_init = np.array([b0_init, b1_init, b2_init, sig_init])\n",
    "mle_args = (scores, hours, ch_ny)\n",
    "results = opt.minimize(criterion, params_init, args=mle_args)\n",
    "b0_mle, b1_mle, b2_mle, sigma_mle = results.x\n",
    "\n",
    "print(\"MLE Estimation Results\")\n",
    "print(\"-\" * 30)\n",
    "print(\"b_0: \\t\", b0_mle)\n",
    "print(\"b_1: \\t\", b1_mle)\n",
    "print(\"b_2: \\t\", b2_mle)\n",
    "print(\"sigma: \\t\", sigma_mle)\n",
    "print(\"\\nLikelihood function value: {}\".format(-results.fun))\n",
    "\n",
    "results"
   ]
  },
  {
   "cell_type": "code",
   "execution_count": 19,
   "metadata": {},
   "outputs": [],
   "source": [
    "import scipy.stats as sts\n",
    "import warnings\n",
    "warnings.filterwarnings(\"ignore\")"
   ]
  },
  {
   "cell_type": "code",
   "execution_count": 20,
   "metadata": {},
   "outputs": [
    {
     "name": "stdout",
     "output_type": "stream",
     "text": [
      "The chi squared of H0 with 2 degrees fo freedom p-value is 0.0\n"
     ]
    }
   ],
   "source": [
    "b0_test = 1.0\n",
    "b1_test = 0.0\n",
    "b2_test = 0.0\n",
    "sigma_test = np.sqrt(0.01)\n",
    "\n",
    "log_lik_h0 = log_lik(scores, hours, ch_ny, b0_test, b1_test, b2_test, sigma_test)\n",
    "log_lik_mle = log_lik(scores, hours, ch_ny, b0_mle, b1_mle, b2_mle, sigma_mle)\n",
    "LR_val = 2 * (log_lik_mle - log_lik_h0)\n",
    "pval_h0 = 1.0 - sts.chi2.cdf(LR_val, 2)\n",
    "print(\"The chi squared of H0 with 2 degrees fo freedom p-value is {}\".format(pval_h0))"
   ]
  },
  {
   "cell_type": "markdown",
   "metadata": {},
   "source": [
    "**Since the p-value is 0.0, we can reject $H_{0}$ at any level of significance and conclude that `ch_ny` has a great impact on student's midterm score.**\n",
    "\n",
    "**To be specific, student who takes the midterm around the Chinese New Year scores 1.891 fewer points thatn student who does not.**"
   ]
  }
 ],
 "metadata": {
  "kernelspec": {
   "display_name": "Python 3",
   "language": "python",
   "name": "python3"
  },
  "language_info": {
   "codemirror_mode": {
    "name": "ipython",
    "version": 3
   },
   "file_extension": ".py",
   "mimetype": "text/x-python",
   "name": "python",
   "nbconvert_exporter": "python",
   "pygments_lexer": "ipython3",
   "version": "3.7.4"
  }
 },
 "nbformat": 4,
 "nbformat_minor": 2
}
