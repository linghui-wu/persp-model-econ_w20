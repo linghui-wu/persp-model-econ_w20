{
 "cells": [
  {
   "cell_type": "markdown",
   "metadata": {},
   "source": [
    "## Problem Set #[2] - Integration\n",
    "MACS 30150, Dr. Evans    \n",
    "Linghui Wu"
   ]
  },
  {
   "cell_type": "code",
   "execution_count": 1,
   "metadata": {},
   "outputs": [],
   "source": [
    "import numpy as np\n",
    "import pandas as pd\n",
    "from scipy.integrate import quad\n",
    "from scipy.stats import norm, lognorm\n",
    "\n",
    "import warnings\n",
    "warnings.filterwarnings(\"ignore\")\n",
    "\n",
    "import matplotlib.pyplot as plt\n",
    "import matplotlib.mlab as mlab"
   ]
  },
  {
   "cell_type": "markdown",
   "metadata": {},
   "source": [
    "### Exercise 2.1."
   ]
  },
  {
   "cell_type": "code",
   "execution_count": 2,
   "metadata": {},
   "outputs": [],
   "source": [
    "def integration(g, a, b, N, method):\n",
    "    if method not in [\"midpoint\", \"trapezoid\", \"Simpsons\"]:\n",
    "        raise ValueError\n",
    "    else:\n",
    "        if method == \"midpoint\":\n",
    "            itgr = 0\n",
    "            for i in range(N):\n",
    "                xi = a + (2 * i + 1) * (b - a) / (2 * N)\n",
    "                itgr += g(xi) * (b - a) / N\n",
    "            return itgr\n",
    "        elif method == \"trapezoid\":\n",
    "            itgr = g(a) + g(b)\n",
    "            for i in range(1, N):\n",
    "                xi = a + i * (b - a) / N\n",
    "                itgr += 2 * g(xi)\n",
    "            return (b - a) / (2 * N) * itgr\n",
    "        elif method == \"Simpsons\":\n",
    "            itgr = g(a) + g(b)\n",
    "            for i in range(1, 2 * N):\n",
    "                xi = a + i * (b - a) / (2 * N)\n",
    "                if i % 2 == 0:\n",
    "                    itgr += 2 * g(xi)\n",
    "                else:\n",
    "                    itgr += 4 * g(xi)\n",
    "            return (b - a) / (6 * N) * itgr"
   ]
  },
  {
   "cell_type": "code",
   "execution_count": 3,
   "metadata": {},
   "outputs": [
    {
     "name": "stdout",
     "output_type": "stream",
     "text": [
      "Midpoint 's approximation value:\t\t 4372.991172499995\n",
      "Difference between  Midpoint and  true value: \t 0.34216083333831193\n",
      "Trapezoid 's approximation value:\t\t 4374.01766\n",
      "Difference between  Trapezoid and  true value: \t 0.6843266666674026\n",
      "Simpsons 's approximation value:\t\t 4373.333334999998\n",
      "Difference between  Simpsons and  true value: \t 1.666665411903523e-06\n"
     ]
    }
   ],
   "source": [
    "g = lambda x: 0.1 * x ** 4 - 1.5 * x ** 3 + 0.53 * x * x + 2 * x + 1\n",
    "N = 200\n",
    "mid = integration(g, -10, 10, N, \"midpoint\")\n",
    "tra = integration(g, -10, 10, N, \"trapezoid\")\n",
    "sim = integration(g, -10, 10, N, \"Simpsons\")\n",
    "tru_val = 4373 + 1 / 3\n",
    "\n",
    "methods = [\"Midpoint\", \"Trapezoid\", \"Simpsons\"]\n",
    "approxs = [mid, tra, sim]\n",
    "for m, a in zip(methods, approxs):\n",
    "    print(m, \"'s approximation value:\\t\\t\", a)\n",
    "    print(\"Difference between \", m, \"and  true value: \\t\", abs(a - tru_val))"
   ]
  },
  {
   "cell_type": "markdown",
   "metadata": {},
   "source": [
    "### Exercise 2.1. (a)"
   ]
  },
  {
   "cell_type": "code",
   "execution_count": 4,
   "metadata": {},
   "outputs": [
    {
     "data": {
      "image/png": "[encoded data removed]",
      "text/plain": [
       "<Figure size 432x288 with 1 Axes>"
      ]
     },
     "metadata": {
      "needs_background": "light"
     },
     "output_type": "display_data"
    }
   ],
   "source": [
    "nvec = np.arange(20, 201, 1)\n",
    "\n",
    "e_mid = np.zeros(0)\n",
    "e_tra = np.zeros(0)\n",
    "e_sim = np.zeros(0)\n",
    "\n",
    "for i in range(20, 201):\n",
    "    e_mid = np.append(e_mid, abs(integration(g, -10, 10, i, \"midpoint\") - tru_val))\n",
    "    e_tra = np.append(e_tra, abs(integration(g, -10, 10, i, \"trapezoid\") - tru_val))\n",
    "    e_sim = np.append(e_sim, abs(integration(g, -10, 10, i, \"Simpsons\") - tru_val))\n",
    "    \n",
    "# plot the figure\n",
    "plt.plot(nvec, e_mid, label=\"Midpoint\")\n",
    "plt.plot(nvec, e_tra, label=\"Trapezoid\")\n",
    "plt.plot(nvec, e_sim, label=\"Simpsons\")\n",
    "plt.legend(loc=\"upper right\")\n",
    "plt.xlabel(\"Number of nodes\")\n",
    "plt.ylabel(\"Absolute error\")\n",
    "plt.show()"
   ]
  },
  {
   "cell_type": "markdown",
   "metadata": {},
   "source": [
    "### Exercise 2.1. (b)"
   ]
  },
  {
   "cell_type": "code",
   "execution_count": 5,
   "metadata": {
    "scrolled": true
   },
   "outputs": [
    {
     "data": {
      "image/png": "[encoded data removed]",
      "text/plain": [
       "<Figure size 432x288 with 1 Axes>"
      ]
     },
     "metadata": {
      "needs_background": "light"
     },
     "output_type": "display_data"
    }
   ],
   "source": [
    "# plot g(x)\n",
    "\n",
    "x_val = np.linspace(-10, 10, 10000)\n",
    "ax = plt.gca()\n",
    "ax.plot(x_val, g(x_val), label=\"g(x)\")\n",
    "ax.spines[\"bottom\"].set_position(\"zero\")\n",
    "ax.spines[\"top\"].set_visible(False)\n",
    "ax.spines[\"right\"].set_visible(False)\n",
    "ax.legend()\n",
    "plt.show()"
   ]
  },
  {
   "cell_type": "markdown",
   "metadata": {},
   "source": [
    "**Considering that g(x) is a polynomial function of the 4th order and is non-liner in x, the Simpsons method offers the best accuracy because it is a non-linear approximation. Trapezoid rule has the largest estimation error since it is largely affected by the convexity and concavity of the function. From the figure above, we can see that in the range \\[-10, 10\\], g(x) is concave in \\[-10, 2\\] and convex in \\[2, 10\\]. As a result, the trapezoid rule in the larger concave part lead to a overestimate result. Midpoint rule employs rectangles to approximate and is less influenced by the concavity and convexity in contrast with the trapezoid rule.**\n",
    "\n",
    "**As a result, for g(x), the rank of the three estimation methods, from best to worst, is the Simpsons, the Midpoint and the Trapezoid.**"
   ]
  },
  {
   "cell_type": "markdown",
   "metadata": {},
   "source": [
    "### Exercise 2.2."
   ]
  },
  {
   "cell_type": "code",
   "execution_count": 6,
   "metadata": {},
   "outputs": [],
   "source": [
    "def NC_discrete(mean, sigma, N, k):\n",
    "    z = np.linspace(mean - k * sigma, mean + k * sigma, N)\n",
    "    w = np.zeros(N)\n",
    "    w[0] = norm.cdf((z[0] + z[1]) / 2, loc=mean, scale=sigma) \n",
    "    w[-1] = 1 - norm.cdf((z[-1] + z[-2]) / 2, loc=mean, scale=sigma)\n",
    "    for i in range(1, N-1):\n",
    "        z_min = (z[i-1] + z[i]) / 2\n",
    "        z_max = (z[i] + z[i+1]) / 2\n",
    "        norm_pdf = lambda x: norm.pdf(x, loc=mean, scale=sigma)\n",
    "        w[i] = quad(norm_pdf, z_min, z_max)[0]\n",
    "    return z, w"
   ]
  },
  {
   "cell_type": "code",
   "execution_count": 7,
   "metadata": {},
   "outputs": [
    {
     "data": {
      "text/html": [
       "<div>\n",
       "<style scoped>\n",
       "    .dataframe tbody tr th:only-of-type {\n",
       "        vertical-align: middle;\n",
       "    }\n",
       "\n",
       "    .dataframe tbody tr th {\n",
       "        vertical-align: top;\n",
       "    }\n",
       "\n",
       "    .dataframe thead th {\n",
       "        text-align: right;\n",
       "    }\n",
       "</style>\n",
       "<table border=\"1\" class=\"dataframe\">\n",
       "  <thead>\n",
       "    <tr style=\"text-align: right;\">\n",
       "      <th></th>\n",
       "      <th>z</th>\n",
       "      <th>weight</th>\n",
       "    </tr>\n",
       "  </thead>\n",
       "  <tbody>\n",
       "    <tr>\n",
       "      <th>1</th>\n",
       "      <td>0.5</td>\n",
       "      <td>0.003467</td>\n",
       "    </tr>\n",
       "    <tr>\n",
       "      <th>2</th>\n",
       "      <td>1.4</td>\n",
       "      <td>0.014397</td>\n",
       "    </tr>\n",
       "    <tr>\n",
       "      <th>3</th>\n",
       "      <td>2.3</td>\n",
       "      <td>0.048943</td>\n",
       "    </tr>\n",
       "    <tr>\n",
       "      <th>4</th>\n",
       "      <td>3.2</td>\n",
       "      <td>0.117253</td>\n",
       "    </tr>\n",
       "    <tr>\n",
       "      <th>5</th>\n",
       "      <td>4.1</td>\n",
       "      <td>0.198028</td>\n",
       "    </tr>\n",
       "    <tr>\n",
       "      <th>6</th>\n",
       "      <td>5.0</td>\n",
       "      <td>0.235823</td>\n",
       "    </tr>\n",
       "    <tr>\n",
       "      <th>7</th>\n",
       "      <td>5.9</td>\n",
       "      <td>0.198028</td>\n",
       "    </tr>\n",
       "    <tr>\n",
       "      <th>8</th>\n",
       "      <td>6.8</td>\n",
       "      <td>0.117253</td>\n",
       "    </tr>\n",
       "    <tr>\n",
       "      <th>9</th>\n",
       "      <td>7.7</td>\n",
       "      <td>0.048943</td>\n",
       "    </tr>\n",
       "    <tr>\n",
       "      <th>10</th>\n",
       "      <td>8.6</td>\n",
       "      <td>0.014397</td>\n",
       "    </tr>\n",
       "    <tr>\n",
       "      <th>11</th>\n",
       "      <td>9.5</td>\n",
       "      <td>0.003467</td>\n",
       "    </tr>\n",
       "  </tbody>\n",
       "</table>\n",
       "</div>"
      ],
      "text/plain": [
       "      z    weight\n",
       "1   0.5  0.003467\n",
       "2   1.4  0.014397\n",
       "3   2.3  0.048943\n",
       "4   3.2  0.117253\n",
       "5   4.1  0.198028\n",
       "6   5.0  0.235823\n",
       "7   5.9  0.198028\n",
       "8   6.8  0.117253\n",
       "9   7.7  0.048943\n",
       "10  8.6  0.014397\n",
       "11  9.5  0.003467"
      ]
     },
     "execution_count": 7,
     "metadata": {},
     "output_type": "execute_result"
    }
   ],
   "source": [
    "z, w = NC_discrete(5, 1.5, 11, 3)\n",
    "norm_df = pd.DataFrame({\"z\":z, \"weight\": w})\n",
    "norm_df.index += 1\n",
    "norm_df"
   ]
  },
  {
   "cell_type": "code",
   "execution_count": 8,
   "metadata": {},
   "outputs": [
    {
     "data": {
      "image/png": "[encoded data removed]",
      "text/plain": [
       "<Figure size 432x288 with 1 Axes>"
      ]
     },
     "metadata": {
      "needs_background": "light"
     },
     "output_type": "display_data"
    }
   ],
   "source": [
    "plt.plot(z, w, label=\"Newton-Cotes approximation\")\n",
    "\n",
    "x = np.linspace(0, 10, 1000)\n",
    "plt.plot(x, mlab.normpdf(x, 5, 1.5), label=\"Normal Distribution\")\n",
    "\n",
    "plt.legend()\n",
    "plt.show()"
   ]
  },
  {
   "cell_type": "markdown",
   "metadata": {},
   "source": [
    "**It can be inferred from the graph that the Newton-Cotes discrete method is a good approximation of the normal distribution.**"
   ]
  },
  {
   "cell_type": "markdown",
   "metadata": {},
   "source": [
    "### Exercise 2.3."
   ]
  },
  {
   "cell_type": "code",
   "execution_count": 9,
   "metadata": {},
   "outputs": [],
   "source": [
    "def NC_logdiscrete(mean, sigma, N, k):\n",
    "    z, w = NC_discrete(mean, sigma, N, k)\n",
    "    A = np.exp(z)\n",
    "    return A, w"
   ]
  },
  {
   "cell_type": "code",
   "execution_count": 10,
   "metadata": {},
   "outputs": [
    {
     "data": {
      "text/html": [
       "<div>\n",
       "<style scoped>\n",
       "    .dataframe tbody tr th:only-of-type {\n",
       "        vertical-align: middle;\n",
       "    }\n",
       "\n",
       "    .dataframe tbody tr th {\n",
       "        vertical-align: top;\n",
       "    }\n",
       "\n",
       "    .dataframe thead th {\n",
       "        text-align: right;\n",
       "    }\n",
       "</style>\n",
       "<table border=\"1\" class=\"dataframe\">\n",
       "  <thead>\n",
       "    <tr style=\"text-align: right;\">\n",
       "      <th></th>\n",
       "      <th>A</th>\n",
       "      <th>weight</th>\n",
       "    </tr>\n",
       "  </thead>\n",
       "  <tbody>\n",
       "    <tr>\n",
       "      <th>1</th>\n",
       "      <td>1.648721</td>\n",
       "      <td>0.003467</td>\n",
       "    </tr>\n",
       "    <tr>\n",
       "      <th>2</th>\n",
       "      <td>4.055200</td>\n",
       "      <td>0.014397</td>\n",
       "    </tr>\n",
       "    <tr>\n",
       "      <th>3</th>\n",
       "      <td>9.974182</td>\n",
       "      <td>0.048943</td>\n",
       "    </tr>\n",
       "    <tr>\n",
       "      <th>4</th>\n",
       "      <td>24.532530</td>\n",
       "      <td>0.117253</td>\n",
       "    </tr>\n",
       "    <tr>\n",
       "      <th>5</th>\n",
       "      <td>60.340288</td>\n",
       "      <td>0.198028</td>\n",
       "    </tr>\n",
       "    <tr>\n",
       "      <th>6</th>\n",
       "      <td>148.413159</td>\n",
       "      <td>0.235823</td>\n",
       "    </tr>\n",
       "    <tr>\n",
       "      <th>7</th>\n",
       "      <td>365.037468</td>\n",
       "      <td>0.198028</td>\n",
       "    </tr>\n",
       "    <tr>\n",
       "      <th>8</th>\n",
       "      <td>897.847292</td>\n",
       "      <td>0.117253</td>\n",
       "    </tr>\n",
       "    <tr>\n",
       "      <th>9</th>\n",
       "      <td>2208.347992</td>\n",
       "      <td>0.048943</td>\n",
       "    </tr>\n",
       "    <tr>\n",
       "      <th>10</th>\n",
       "      <td>5431.659591</td>\n",
       "      <td>0.014397</td>\n",
       "    </tr>\n",
       "    <tr>\n",
       "      <th>11</th>\n",
       "      <td>13359.726830</td>\n",
       "      <td>0.003467</td>\n",
       "    </tr>\n",
       "  </tbody>\n",
       "</table>\n",
       "</div>"
      ],
      "text/plain": [
       "               A    weight\n",
       "1       1.648721  0.003467\n",
       "2       4.055200  0.014397\n",
       "3       9.974182  0.048943\n",
       "4      24.532530  0.117253\n",
       "5      60.340288  0.198028\n",
       "6     148.413159  0.235823\n",
       "7     365.037468  0.198028\n",
       "8     897.847292  0.117253\n",
       "9    2208.347992  0.048943\n",
       "10   5431.659591  0.014397\n",
       "11  13359.726830  0.003467"
      ]
     },
     "execution_count": 10,
     "metadata": {},
     "output_type": "execute_result"
    }
   ],
   "source": [
    "A, w = NC_logdiscrete(5, 1.5, 11, 3)\n",
    "lognorm_df = pd.DataFrame({\"A\": A, \"weight\": w})\n",
    "lognorm_df.index += 1\n",
    "lognorm_df"
   ]
  },
  {
   "cell_type": "code",
   "execution_count": 11,
   "metadata": {},
   "outputs": [
    {
     "data": {
      "image/png": "[encoded data removed]",
      "text/plain": [
       "<Figure size 432x288 with 1 Axes>"
      ]
     },
     "metadata": {
      "needs_background": "light"
     },
     "output_type": "display_data"
    }
   ],
   "source": [
    "plt.plot(A, w, label=\"Newton-Cotes approximation\")\n",
    "plt.legend(loc=\"upper right\")\n",
    "plt.show()"
   ]
  },
  {
   "cell_type": "markdown",
   "metadata": {},
   "source": [
    "### Exercise 2.4."
   ]
  },
  {
   "cell_type": "code",
   "execution_count": 12,
   "metadata": {},
   "outputs": [
    {
     "name": "stdout",
     "output_type": "stream",
     "text": [
      "My approximation:  50352.456192765894\n",
      "The exact expected value:  50011.087008521754\n",
      "The difference:  341.36918424414034\n"
     ]
    }
   ],
   "source": [
    "mean = 10.5\n",
    "sigma = 0.8\n",
    "\n",
    "w, z = NC_logdiscrete(mean, sigma, 11, 3)\n",
    "approx_income = sum(w * z)\n",
    "exact_income = np.exp(mean + sigma ** 2 / 2)\n",
    "print(\"My approximation: \", approx_income)\n",
    "print(\"The exact expected value: \", exact_income)\n",
    "print(\"The difference: \", abs(approx_income - exact_income))"
   ]
  },
  {
   "cell_type": "markdown",
   "metadata": {},
   "source": [
    "### Exercise 3.1."
   ]
  },
  {
   "cell_type": "code",
   "execution_count": 13,
   "metadata": {},
   "outputs": [],
   "source": [
    "from scipy import optimize\n",
    "\n",
    "def Gaus(g, a, b, N):\n",
    "    init_weight = [1 / N for i in range(N)]\n",
    "    init_x = [a + i * (b - a) / (N - 1) for i in range(N)]\n",
    "    init = init_weight + init_x\n",
    "\n",
    "    def funcs(x):\n",
    "        result = []\n",
    "        for i in range(2 * N):\n",
    "            weight = x[:N]\n",
    "            node = x[N:]\n",
    "            equal_right = sum(weight[k] * (node[k] ** i) for k in range(N))\n",
    "            equal_left = (b ** (i + 1) - a ** (i + 1)) / (i + 1)\n",
    "            result.append(equal_left - equal_right)\n",
    "        return tuple(val for val in result)\n",
    "\n",
    "    optimal = [val for val in optimize.root(funcs, init)[\"x\"]]\n",
    "    weights = optimal[:N]\n",
    "    nodes = optimal[N:]\n",
    "    rv = 0\n",
    "    for i in range(N):\n",
    "        rv += weights[i] * g(nodes[i])\n",
    "    return rv, weights, nodes"
   ]
  },
  {
   "cell_type": "code",
   "execution_count": 14,
   "metadata": {},
   "outputs": [
    {
     "name": "stdout",
     "output_type": "stream",
     "text": [
      "The Gaussian quadrature nodes: [-7.745966692834513, 6.129873603502169e-10, 7.745966692737809]\n",
      "The Gaussian quadrature weights: [5.555555554280963, 8.88888889109055, 5.555555554628487]\n",
      "Gaussian Quadrature method approximation value: 4373.333333189601\n",
      "Difference between Gaussian Quadrature method and the true value: 1.4373199519468471e-07\n"
     ]
    }
   ],
   "source": [
    "g = lambda x: 0.1 * x ** 4 - 1.5 * x ** 3 + 0.53 * x * x + 2 * x + 1\n",
    "gaus1, weights, nodes = Gaus(g, -10, 10, 3)\n",
    "\n",
    "print(\"The Gaussian quadrature nodes:\", nodes)\n",
    "print(\"The Gaussian quadrature weights:\", weights)\n",
    "print(\"Gaussian Quadrature method approximation value:\", gaus1)\n",
    "print(\"Difference between Gaussian Quadrature method and the true value:\", abs(gaus1 - tru_val))"
   ]
  },
  {
   "cell_type": "markdown",
   "metadata": {},
   "source": [
    "**The Gaussian method provides a approximate integral to the 7th decimal of the true value.**\n",
    "\n",
    "**Note that the weights and nodes calculated by the `scipy.optimize.root` method have some fractional error compared to a more accurate N=3 weights and nodes(https://pomax.github.io/bezierinfo/legendre-gauss.html#n3).**"
   ]
  },
  {
   "cell_type": "code",
   "execution_count": 15,
   "metadata": {
    "scrolled": false
   },
   "outputs": [
    {
     "name": "stdout",
     "output_type": "stream",
     "text": [
      "More accurate Gaussian Quadrature method approximation value: 4373.333333333334\n",
      "Difference between Gaussian Quadrature method and the true value: 9.094947017729282e-13\n"
     ]
    }
   ],
   "source": [
    "import math\n",
    "a, b = -10, 10\n",
    "(w1, w2, w3, x1, x2, x3) = (8/9, 5/9, 5/9, 0, -math.sqrt(0.6), math.sqrt(0.6))\n",
    "s, e = (b - a) / 2, (b + a) / 2\n",
    "gaus2 = s * (w1 * g(s * x1 + e) + w2 * g(s * x2 + e) + w3 * g(s * x3 + e))\n",
    "\n",
    "print(\"More accurate Gaussian Quadrature method approximation value:\", gaus2)\n",
    "print(\"Difference between Gaussian Quadrature method and the true value:\", abs(gaus2 - tru_val))"
   ]
  },
  {
   "cell_type": "markdown",
   "metadata": {},
   "source": [
    "**Compared to the approximations from Exercise 2.1., the accuracy improves using the Gaussian quadrature method.**"
   ]
  },
  {
   "cell_type": "markdown",
   "metadata": {},
   "source": [
    "### Exercise 3.2."
   ]
  },
  {
   "cell_type": "code",
   "execution_count": 16,
   "metadata": {},
   "outputs": [
    {
     "name": "stdout",
     "output_type": "stream",
     "text": [
      "Scipy Gaussian Quadrature method approximation value: 4373.333333333334\n",
      "Difference between Gaussian Quadrature method and the true value: 9.094947017729282e-13\n"
     ]
    }
   ],
   "source": [
    "from scipy.integrate import quad\n",
    "g = lambda x: 0.1*x** 4 - 1.5*x**3 + 0.53*x*x + 2*x + 1\n",
    "gaus3 = quad(g, -10, 10)[0]\n",
    "\n",
    "print(\"Scipy Gaussian Quadrature method approximation value:\", gaus3)\n",
    "print(\"Difference between Gaussian Quadrature method and the true value:\", abs(gaus3 - tru_val))"
   ]
  },
  {
   "cell_type": "markdown",
   "metadata": {},
   "source": [
    "**The approximation error is so far the smallest using the Python Gaussian quadrature command.**"
   ]
  },
  {
   "cell_type": "markdown",
   "metadata": {},
   "source": [
    "### Exercise 4.1."
   ]
  },
  {
   "cell_type": "code",
   "execution_count": 17,
   "metadata": {},
   "outputs": [],
   "source": [
    "np.random.seed(seed = 25)\n",
    "g = lambda x, y: x**2 + y**2 <= 1\n",
    "\n",
    "def MonteCarlo(g, omega, N):\n",
    "    rand_x = np.random.uniform(omega[0][0], omega[0][1], N)\n",
    "    rand_y = np.random.uniform(omega[1][0], omega[1][1], N)\n",
    "    total = np.sum(g(rand_x, rand_y))\n",
    "    \n",
    "    area = abs(omega[0][0]- omega[0][1]) * abs(omega[1][0]- omega[1][1])\n",
    "    return area * total / N"
   ]
  },
  {
   "cell_type": "code",
   "execution_count": 18,
   "metadata": {},
   "outputs": [
    {
     "name": "stdout",
     "output_type": "stream",
     "text": [
      "The smallest number of random draws N is  615\n"
     ]
    }
   ],
   "source": [
    "N = 1\n",
    "omega = np.array([[-1, 1,], [-1, 1]])\n",
    "while round(MonteCarlo(g, omega, N), 4) != 3.1415:\n",
    "    N += 1\n",
    "print(\"The smallest number of random draws N is \", N)"
   ]
  },
  {
   "cell_type": "markdown",
   "metadata": {},
   "source": [
    "### Exercise 4.2."
   ]
  },
  {
   "cell_type": "code",
   "execution_count": 19,
   "metadata": {},
   "outputs": [],
   "source": [
    "import numpy as np\n",
    "\n",
    "def isPrime(n):\n",
    "    '''\n",
    "    --------------------------------------------------------------------\n",
    "    This function returns a boolean indicating whether an integer n is a\n",
    "    prime number\n",
    "    --------------------------------------------------------------------\n",
    "    INPUTS:\n",
    "    n = scalar, any scalar value\n",
    "\n",
    "    OTHER FUNCTIONS AND FILES CALLED BY THIS FUNCTION: None\n",
    "\n",
    "    OBJECTS CREATED WITHIN FUNCTION:\n",
    "    i = integer in [2, sqrt(n)]\n",
    "\n",
    "    FILES CREATED BY THIS FUNCTION: None\n",
    "\n",
    "    RETURN: boolean\n",
    "    --------------------------------------------------------------------\n",
    "    '''\n",
    "    for i in range(2, int(np.sqrt(n) + 1)):\n",
    "        if n % i == 0:\n",
    "            return False\n",
    "\n",
    "    return True"
   ]
  },
  {
   "cell_type": "code",
   "execution_count": 20,
   "metadata": {},
   "outputs": [],
   "source": [
    "def primes_ascend(N, min_val=2):\n",
    "    '''\n",
    "    --------------------------------------------------------------------\n",
    "    This function generates an ordered sequence of N consecutive prime\n",
    "    numbers, the smallest of which is greater than or equal to 1 using\n",
    "    the Sieve of Eratosthenes algorithm.\n",
    "    (https://en.wikipedia.org/wiki/Sieve_of_Eratosthenes)\n",
    "    --------------------------------------------------------------------\n",
    "    INPUTS:\n",
    "    N       = integer, number of elements in sequence of consecutive\n",
    "              prime numbers\n",
    "    min_val = scalar >= 2, the smallest prime number in the consecutive\n",
    "              sequence must be greater-than-or-equal-to this value\n",
    "\n",
    "    OTHER FUNCTIONS AND FILES CALLED BY THIS FUNCTION:\n",
    "        isPrime()\n",
    "\n",
    "    OBJECTS CREATED WITHIN FUNCTION:\n",
    "    primes_vec     = (N,) vector, consecutive prime numbers greater than\n",
    "                     min_val\n",
    "    MinIsEven      = boolean, =True if min_val is even, =False otherwise\n",
    "    MinIsGrtrThn2  = boolean, =True if min_val is\n",
    "                     greater-than-or-equal-to 2, =False otherwise\n",
    "    curr_prime_ind = integer >= 0, running count of prime numbers found\n",
    "\n",
    "    FILES CREATED BY THIS FUNCTION: None\n",
    "\n",
    "    RETURN: primes_vec\n",
    "    --------------------------------------------------------------------\n",
    "    '''\n",
    "    primes_vec = np.zeros(N, dtype=int)\n",
    "    MinIsEven = 1 - min_val % 2\n",
    "    MinIsGrtrThn2 = min_val > 2\n",
    "    curr_prime_ind = 0\n",
    "    if not MinIsGrtrThn2:\n",
    "        i = 2\n",
    "        curr_prime_ind += 1\n",
    "        primes_vec[0] = i\n",
    "    i = min(3, min_val + (MinIsEven * 1))\n",
    "    while curr_prime_ind < N:\n",
    "        if isPrime(i):\n",
    "            curr_prime_ind += 1\n",
    "            primes_vec[curr_prime_ind - 1] = i\n",
    "        i += 2\n",
    "\n",
    "    return primes_vec"
   ]
  },
  {
   "cell_type": "code",
   "execution_count": 21,
   "metadata": {},
   "outputs": [],
   "source": [
    "def equiseq(n, d, seq):\n",
    "    prime_seq = primes_ascend(d, min_val = 2)\n",
    "    if seq == \"Weyl\":\n",
    "        weyl_1 = np.sqrt(prime_seq) * n\n",
    "        weyl = weyl_1 - np.floor(weyl_1)\n",
    "        return weyl\n",
    "    elif seq == \"Haber\":\n",
    "        haber_1 = np.sqrt(prime_seq) * n * (n+1) / 2\n",
    "        haber = haber_1 - np.floor(haber_1)\n",
    "        return haber\n",
    "    elif seq == \"Niederreiter\":\n",
    "        e = np.arange(1, d + 1) / (d + 1)\n",
    "        niederreiter_1 = n * (2 ** e)\n",
    "        niederreiter = niederreiter_1 - np.floor(niederreiter_1)\n",
    "        return niederreiter    \n",
    "    elif seq == \"Baker\":\n",
    "        baker_1 = n * np.exp(prime_seq)\n",
    "        baker = baker_1 - np.floor(baker_1)\n",
    "        return baker"
   ]
  },
  {
   "cell_type": "code",
   "execution_count": 22,
   "metadata": {
    "scrolled": true
   },
   "outputs": [
    {
     "name": "stdout",
     "output_type": "stream",
     "text": [
      "Weyl :  [0.28427125 0.64101615 0.72135955 0.91502622]\n",
      "Haber :  [0.9848481  0.73066959 0.57427527 0.60777532]\n",
      "Niederreiter :  [0.9739671  0.39015822 0.31433133 0.82202253]\n",
      "Baker :  [0.78112198 0.71073846 0.26318205 0.66316857]\n"
     ]
    }
   ],
   "source": [
    "for i in [\"Weyl\", \"Haber\", \"Niederreiter\", \"Baker\"]:\n",
    "    print(i, \": \", equiseq(20, 4, i))"
   ]
  },
  {
   "cell_type": "code",
   "execution_count": 23,
   "metadata": {},
   "outputs": [
    {
     "data": {
      "image/png": "[encoded data removed]",
      "text/plain": [
       "<Figure size 576x576 with 4 Axes>"
      ]
     },
     "metadata": {
      "needs_background": "light"
     },
     "output_type": "display_data"
    }
   ],
   "source": [
    "# plot for testing\n",
    "\n",
    "x_1, y_1 = [], []\n",
    "x_2, y_2 = [], []\n",
    "x_3, y_3 = [], []\n",
    "x_4, y_4 = [], []\n",
    "\n",
    "\n",
    "for i in range(0, 1000):\n",
    "    x_1.append(equiseq(i, 2,'Weyl')[0])\n",
    "    y_1.append(equiseq(i, 2,'Weyl')[1])\n",
    "    x_2.append(equiseq(i, 2,'Haber')[0])\n",
    "    y_2.append(equiseq(i, 2,'Haber')[1])\n",
    "    x_3.append(equiseq(i, 2,'Niederreiter')[0])\n",
    "    y_3.append(equiseq(i, 2,'Niederreiter')[1])    \n",
    "    x_4.append(equiseq(i, 2,'Baker')[0])\n",
    "    y_4.append(equiseq(i, 2,'Baker')[1])\n",
    "\n",
    "fig = plt.figure(figsize=(8, 8))\n",
    "ax1 = fig.add_subplot(221)\n",
    "ax1.scatter(x_1, y_1)\n",
    "ax1.set_title(\"weyl\")\n",
    "ax2 = fig.add_subplot(222)\n",
    "ax2.scatter(x_2, y_2)\n",
    "ax2.set_title(\"haber\")\n",
    "ax3 = fig.add_subplot(223)\n",
    "ax3.scatter(x_3, y_3)\n",
    "ax3.set_title(\"nie\")\n",
    "ax4 = fig.add_subplot(224)\n",
    "ax4.scatter(x_4, y_4)\n",
    "ax4.set_title(\"baker\")\n",
    "plt.show()"
   ]
  },
  {
   "cell_type": "markdown",
   "metadata": {},
   "source": [
    "### Exercise 4.3."
   ]
  },
  {
   "cell_type": "code",
   "execution_count": 24,
   "metadata": {},
   "outputs": [],
   "source": [
    "np.random.seed(seed=25)\n",
    "g = lambda x, y: x**2 + y**2 <= 1\n",
    "\n",
    "def QuasiMonteCarlo(g, omega, N, seq):\n",
    "    var = []\n",
    "    for i in range(N):\n",
    "        var.append((2 * equiseq(i, 2, seq)[0] - 1, 2 * equiseq(i, 2, seq)[1] - 1))\n",
    "    total = 0\n",
    "    for i in range(N):\n",
    "        total += g(var[i][0], var[i][1])\n",
    "    area = abs(omega[0][0]- omega[0][1]) * abs(omega[1][0]- omega[1][1])\n",
    "    return area * total / N"
   ]
  },
  {
   "cell_type": "code",
   "execution_count": 25,
   "metadata": {},
   "outputs": [
    {
     "name": "stdout",
     "output_type": "stream",
     "text": [
      "The approximation of pi\n",
      "Weyl: 3.08\n",
      "Haber: 3.36\n",
      "Niederreiter: 3.12\n",
      "Baker: 3.2\n"
     ]
    }
   ],
   "source": [
    "print(\"The approximation of pi\")\n",
    "omega = np.array([[-1, 1,], [-1, 1]])\n",
    "N = 100\n",
    "for i in [\"Weyl\", \"Haber\", \"Niederreiter\", \"Baker\"]:\n",
    "    print(i, \": \", QuasiMonteCarlo(g, omega, N, i), sep=\"\")"
   ]
  },
  {
   "cell_type": "code",
   "execution_count": 26,
   "metadata": {},
   "outputs": [],
   "source": [
    "def min_N(seq):\n",
    "    N = 1\n",
    "    while round(QuasiMonteCarlo(g, omega, N, seq), 4) != 3.1415:\n",
    "        N += 1\n",
    "        if N >= 5000:\n",
    "            print(i, \"'s smallest number of random draws exceeds 5000'\", sep=\"\")\n",
    "            break\n",
    "    print(\"The smallest number of random draws N with \", i, \" is \", N, sep=\"\")"
   ]
  },
  {
   "cell_type": "code",
   "execution_count": 27,
   "metadata": {},
   "outputs": [
    {
     "name": "stdout",
     "output_type": "stream",
     "text": [
      "The smallest number of random draws N with Weyl is 1230\n",
      "The smallest number of random draws N with Haber is 2064\n",
      "The smallest number of random draws N with Niederreiter is 1845\n",
      "The smallest number of random draws N with Baker is 1272\n"
     ]
    }
   ],
   "source": [
    "for i in [\"Weyl\", \"Haber\", \"Niederreiter\", \"Baker\"]:\n",
    "    min_N(i)"
   ]
  },
  {
   "cell_type": "markdown",
   "metadata": {},
   "source": [
    "**The results above show that `Weyl` is the fastest method converging to 3.1415, followed by `Baker` and `Niederreiter`, `Haber` is the slowest one.**"
   ]
  }
 ],
 "metadata": {
  "kernelspec": {
   "display_name": "Python 3",
   "language": "python",
   "name": "python3"
  },
  "language_info": {
   "codemirror_mode": {
    "name": "ipython",
    "version": 3
   },
   "file_extension": ".py",
   "mimetype": "text/x-python",
   "name": "python",
   "nbconvert_exporter": "python",
   "pygments_lexer": "ipython3",
   "version": "3.7.4"
  }
 },
 "nbformat": 4,
 "nbformat_minor": 2
}
