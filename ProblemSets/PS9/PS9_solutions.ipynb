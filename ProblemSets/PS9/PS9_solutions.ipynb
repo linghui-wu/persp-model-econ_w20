{
 "cells": [
  {
   "cell_type": "markdown",
   "metadata": {},
   "source": [
    "## Problem Set #[9]\n",
    "MACS 30150, Dr. Evans\n",
    "\n",
    "Linghui Wu"
   ]
  },
  {
   "cell_type": "code",
   "execution_count": 1,
   "metadata": {},
   "outputs": [],
   "source": [
    "import pandas as pd\n",
    "import matplotlib.pyplot as plt\n",
    "from scipy.stats import uniform as sp_uniform\n",
    "from scipy.stats import randint as sp_randint\n",
    "from sklearn.linear_model import LogisticRegression\n",
    "from sklearn.model_selection import RandomizedSearchCV\n",
    "from sklearn.ensemble import RandomForestClassifier\n",
    "from sklearn.svm import SVC\n",
    "from sklearn.neural_network import MLPClassifier"
   ]
  },
  {
   "cell_type": "markdown",
   "metadata": {},
   "source": [
    "### Question 1"
   ]
  },
  {
   "cell_type": "markdown",
   "metadata": {},
   "source": [
    "#### (a)"
   ]
  },
  {
   "cell_type": "code",
   "execution_count": 2,
   "metadata": {
    "scrolled": true
   },
   "outputs": [
    {
     "data": {
      "text/html": [
       "<div>\n",
       "<style scoped>\n",
       "    .dataframe tbody tr th:only-of-type {\n",
       "        vertical-align: middle;\n",
       "    }\n",
       "\n",
       "    .dataframe tbody tr th {\n",
       "        vertical-align: top;\n",
       "    }\n",
       "\n",
       "    .dataframe thead th {\n",
       "        text-align: right;\n",
       "    }\n",
       "</style>\n",
       "<table border=\"1\" class=\"dataframe\">\n",
       "  <thead>\n",
       "    <tr style=\"text-align: right;\">\n",
       "      <th></th>\n",
       "      <th>cultivar</th>\n",
       "      <th>alco</th>\n",
       "      <th>malic</th>\n",
       "      <th>ash</th>\n",
       "      <th>alk</th>\n",
       "      <th>magn</th>\n",
       "      <th>tot_phen</th>\n",
       "      <th>flav</th>\n",
       "      <th>nonfl_phen</th>\n",
       "      <th>proanth</th>\n",
       "      <th>color_int</th>\n",
       "      <th>hue</th>\n",
       "      <th>OD280rat</th>\n",
       "      <th>proline</th>\n",
       "    </tr>\n",
       "  </thead>\n",
       "  <tbody>\n",
       "    <tr>\n",
       "      <th>0</th>\n",
       "      <td>1</td>\n",
       "      <td>14.23</td>\n",
       "      <td>1.71</td>\n",
       "      <td>2.43</td>\n",
       "      <td>15.6</td>\n",
       "      <td>127</td>\n",
       "      <td>2.80</td>\n",
       "      <td>3.06</td>\n",
       "      <td>0.28</td>\n",
       "      <td>2.29</td>\n",
       "      <td>5.64</td>\n",
       "      <td>1.04</td>\n",
       "      <td>3.92</td>\n",
       "      <td>1065</td>\n",
       "    </tr>\n",
       "    <tr>\n",
       "      <th>1</th>\n",
       "      <td>1</td>\n",
       "      <td>13.20</td>\n",
       "      <td>1.78</td>\n",
       "      <td>2.14</td>\n",
       "      <td>11.2</td>\n",
       "      <td>100</td>\n",
       "      <td>2.65</td>\n",
       "      <td>2.76</td>\n",
       "      <td>0.26</td>\n",
       "      <td>1.28</td>\n",
       "      <td>4.38</td>\n",
       "      <td>1.05</td>\n",
       "      <td>3.40</td>\n",
       "      <td>1050</td>\n",
       "    </tr>\n",
       "    <tr>\n",
       "      <th>2</th>\n",
       "      <td>1</td>\n",
       "      <td>13.16</td>\n",
       "      <td>2.36</td>\n",
       "      <td>2.67</td>\n",
       "      <td>18.6</td>\n",
       "      <td>101</td>\n",
       "      <td>2.80</td>\n",
       "      <td>3.24</td>\n",
       "      <td>0.30</td>\n",
       "      <td>2.81</td>\n",
       "      <td>5.68</td>\n",
       "      <td>1.03</td>\n",
       "      <td>3.17</td>\n",
       "      <td>1185</td>\n",
       "    </tr>\n",
       "    <tr>\n",
       "      <th>3</th>\n",
       "      <td>1</td>\n",
       "      <td>14.37</td>\n",
       "      <td>1.95</td>\n",
       "      <td>2.50</td>\n",
       "      <td>16.8</td>\n",
       "      <td>113</td>\n",
       "      <td>3.85</td>\n",
       "      <td>3.49</td>\n",
       "      <td>0.24</td>\n",
       "      <td>2.18</td>\n",
       "      <td>7.80</td>\n",
       "      <td>0.86</td>\n",
       "      <td>3.45</td>\n",
       "      <td>1480</td>\n",
       "    </tr>\n",
       "    <tr>\n",
       "      <th>4</th>\n",
       "      <td>1</td>\n",
       "      <td>13.24</td>\n",
       "      <td>2.59</td>\n",
       "      <td>2.87</td>\n",
       "      <td>21.0</td>\n",
       "      <td>118</td>\n",
       "      <td>2.80</td>\n",
       "      <td>2.69</td>\n",
       "      <td>0.39</td>\n",
       "      <td>1.82</td>\n",
       "      <td>4.32</td>\n",
       "      <td>1.04</td>\n",
       "      <td>2.93</td>\n",
       "      <td>735</td>\n",
       "    </tr>\n",
       "  </tbody>\n",
       "</table>\n",
       "</div>"
      ],
      "text/plain": [
       "   cultivar   alco  malic   ash   alk  magn  tot_phen  flav  nonfl_phen  \\\n",
       "0         1  14.23   1.71  2.43  15.6   127      2.80  3.06        0.28   \n",
       "1         1  13.20   1.78  2.14  11.2   100      2.65  2.76        0.26   \n",
       "2         1  13.16   2.36  2.67  18.6   101      2.80  3.24        0.30   \n",
       "3         1  14.37   1.95  2.50  16.8   113      3.85  3.49        0.24   \n",
       "4         1  13.24   2.59  2.87  21.0   118      2.80  2.69        0.39   \n",
       "\n",
       "   proanth  color_int   hue  OD280rat  proline  \n",
       "0     2.29       5.64  1.04      3.92     1065  \n",
       "1     1.28       4.38  1.05      3.40     1050  \n",
       "2     2.81       5.68  1.03      3.17     1185  \n",
       "3     2.18       7.80  0.86      3.45     1480  \n",
       "4     1.82       4.32  1.04      2.93      735  "
      ]
     },
     "execution_count": 2,
     "metadata": {},
     "output_type": "execute_result"
    }
   ],
   "source": [
    "drink = pd.read_csv(\"data/strongdrink.txt\")\n",
    "drink.head()"
   ]
  },
  {
   "cell_type": "code",
   "execution_count": 3,
   "metadata": {},
   "outputs": [
    {
     "data": {
      "text/plain": [
       "cultivar      0\n",
       "alco          0\n",
       "malic         0\n",
       "ash           0\n",
       "alk           0\n",
       "magn          0\n",
       "tot_phen      0\n",
       "flav          0\n",
       "nonfl_phen    0\n",
       "proanth       0\n",
       "color_int     0\n",
       "hue           0\n",
       "OD280rat      0\n",
       "proline       0\n",
       "dtype: int64"
      ]
     },
     "execution_count": 3,
     "metadata": {},
     "output_type": "execute_result"
    }
   ],
   "source": [
    "drink.isna().sum()"
   ]
  },
  {
   "cell_type": "code",
   "execution_count": 4,
   "metadata": {},
   "outputs": [
    {
     "data": {
      "image/png": "[encoded data removed]",
      "text/plain": [
       "<Figure size 432x288 with 1 Axes>"
      ]
     },
     "metadata": {
      "needs_background": "light"
     },
     "output_type": "display_data"
    }
   ],
   "source": [
    "alco = drink[\"alco\"]\n",
    "color_int = drink[\"color_int\"]\n",
    "\n",
    "for i in range(1, 4):\n",
    "    plt.scatter(alco.loc[drink[\"cultivar\"] == i], color_int.loc[drink[\"cultivar\"] == i], label=\"cultivatr = \" + str(i))\n",
    "\n",
    "plt.xlabel(\"Alcohol\")\n",
    "plt.ylabel(\"Color Indensity\")\n",
    "plt.title(\"Alcohol and Color Indensity, Grouped by Cultivars\")\n",
    "plt.legend()\n",
    "plt.show();"
   ]
  },
  {
   "cell_type": "markdown",
   "metadata": {},
   "source": [
    "#### (b)"
   ]
  },
  {
   "cell_type": "code",
   "execution_count": 5,
   "metadata": {},
   "outputs": [],
   "source": [
    "X = drink[[\"alco\", \"malic\", \"tot_phen\", \"color_int\"]]\n",
    "y = drink[\"cultivar\"]"
   ]
  },
  {
   "cell_type": "code",
   "execution_count": 6,
   "metadata": {},
   "outputs": [
    {
     "name": "stdout",
     "output_type": "stream",
     "text": [
      "The optimal tuning parameter values of Logistic Regression are {'C': 9.565064414817147, 'penalty': 'l2'}.\n",
      "The MSE of the optimal results of Logistic Regression is 0.09571428571428572.\n"
     ]
    }
   ],
   "source": [
    "lr = LogisticRegression(solver=\"lbfgs\", multi_class=\"multinomial\")\n",
    "\n",
    "params_dist1 = {\n",
    "    \"penalty\": [\"l1\", \"l2\"],\n",
    "    \"C\": sp_uniform(0.1, 10.0)\n",
    "}\n",
    "\n",
    "search1 = RandomizedSearchCV(\n",
    "    lr, \n",
    "    param_distributions=params_dist1,\n",
    "    n_iter=200,\n",
    "    n_jobs=-1,\n",
    "    cv=5,\n",
    "    random_state=25,\n",
    "    scoring=\"neg_mean_squared_error\"\n",
    ")\n",
    "\n",
    "search1.fit(X, y)\n",
    "print(\"The optimal tuning parameter values of Logistic Regression are {}.\".format(search1.best_params_))\n",
    "print(\"The MSE of the optimal results of Logistic Regression is {}.\".format(abs(search1.best_score_)))"
   ]
  },
  {
   "cell_type": "markdown",
   "metadata": {},
   "source": [
    "#### (c)"
   ]
  },
  {
   "cell_type": "code",
   "execution_count": 7,
   "metadata": {},
   "outputs": [
    {
     "name": "stdout",
     "output_type": "stream",
     "text": [
      "The optimal tuning parameter values of Random Forest are {'max_depth': 3, 'max_features': 1, 'min_samples_leaf': 17, 'min_samples_split': 14, 'n_estimators': 94}.\n",
      "The MSE of the optimal results of Random Forest is 0.11904761904761904.\n"
     ]
    }
   ],
   "source": [
    "rf = RandomForestClassifier(bootstrap=True, oob_score=True)\n",
    "\n",
    "params_dist2 = {'n_estimators': sp_randint(10, 200),\n",
    "               'max_depth': sp_randint(2, 4),\n",
    "               'min_samples_split': sp_randint(2, 20),\n",
    "               'min_samples_leaf': sp_randint(2, 20),\n",
    "               'max_features': sp_randint(1, 4)}\n",
    "\n",
    "search2 = RandomizedSearchCV(\n",
    "    rf,\n",
    "    param_distributions=params_dist2,\n",
    "    n_iter=200,\n",
    "    n_jobs=-1,\n",
    "    cv=5,\n",
    "    random_state=25,\n",
    "    scoring=\"neg_mean_squared_error\"\n",
    ")\n",
    "\n",
    "search2.fit(X, y)\n",
    "print(\"The optimal tuning parameter values of Random Forest are {}.\".format(search2.best_params_))\n",
    "print(\"The MSE of the optimal results of Random Forest is {}.\".format(abs(search2.best_score_)))"
   ]
  },
  {
   "cell_type": "markdown",
   "metadata": {},
   "source": [
    "#### (d)"
   ]
  },
  {
   "cell_type": "code",
   "execution_count": 8,
   "metadata": {},
   "outputs": [
    {
     "name": "stdout",
     "output_type": "stream",
     "text": [
      "The optimal tuning parameter values of SVM are {'C': 8.801241366272118, 'gamma': 'scale', 'shrinking': False}.\n",
      "The MSE of the optimal results of SVM is 0.1461904761904762.\n"
     ]
    }
   ],
   "source": [
    "svc = SVC(kernel=\"rbf\")\n",
    "\n",
    "params_dist3 = {\n",
    "    \"C\": sp_uniform(loc=0.1, scale=10.0),\n",
    "    \"gamma\": [\"scale\", \"auto\"],\n",
    "    \"shrinking\": [True, False]\n",
    "}\n",
    "\n",
    "search3 = RandomizedSearchCV(\n",
    "    svc,\n",
    "    param_distributions=params_dist3,\n",
    "    n_iter=200,\n",
    "    n_jobs=-1,\n",
    "    cv=5,\n",
    "    random_state=25,\n",
    "    scoring=\"neg_mean_squared_error\"\n",
    ")\n",
    "\n",
    "search3.fit(X, y)\n",
    "print(\"The optimal tuning parameter values of SVM are {}.\".format(search3.best_params_))\n",
    "print(\"The MSE of the optimal results of SVM is {}.\".format(abs(search3.best_score_)))"
   ]
  },
  {
   "cell_type": "markdown",
   "metadata": {},
   "source": [
    "#### (e)"
   ]
  },
  {
   "cell_type": "code",
   "execution_count": 9,
   "metadata": {},
   "outputs": [
    {
     "name": "stdout",
     "output_type": "stream",
     "text": [
      "The optimal tuning parameter values of Neural Network are {'activation': 'relu', 'alpha': 0.3814739739579308, 'hidden_layer_sizes': 42}.\n",
      "The MSE of the optimal results of Neural Network is 0.0726984126984127.\n"
     ]
    }
   ],
   "source": [
    "mlp = MLPClassifier(solver=\"lbfgs\", max_iter=1000)\n",
    "\n",
    "params_dist4 = {\n",
    "    \"hidden_layer_sizes\": sp_randint(1, 100),\n",
    "    \"activation\": [\"logistic\", \"relu\"],\n",
    "    \"alpha\": sp_uniform(0.1, 10.0)\n",
    "}\n",
    "\n",
    "search4 = RandomizedSearchCV(\n",
    "    mlp,\n",
    "    param_distributions=params_dist4,\n",
    "    n_iter=200,\n",
    "    n_jobs=-1,\n",
    "    cv=5,\n",
    "    random_state=25,\n",
    "    scoring=\"neg_mean_squared_error\"\n",
    ")\n",
    "\n",
    "search4.fit(X, y)\n",
    "print(\"The optimal tuning parameter values of Neural Network are {}.\".format(search4.best_params_))\n",
    "print(\"The MSE of the optimal results of Neural Network is {}.\".format(abs(search4.best_score_)))"
   ]
  },
  {
   "cell_type": "markdown",
   "metadata": {},
   "source": [
    "#### (f)"
   ]
  },
  {
   "cell_type": "code",
   "execution_count": 10,
   "metadata": {},
   "outputs": [
    {
     "name": "stdout",
     "output_type": "stream",
     "text": [
      "MSE of the optimal results from different classifiers:\n",
      "\n",
      "Logistic Regression: 0.09571428571428572\n",
      "Random Forest: 0.11904761904761904\n",
      "SVM: 0.1461904761904762\n",
      "Neural Network: 0.0726984126984127\n",
      "\n",
      "The best predictor of `cultivar` is Neural Network: because it has the smallesr MSE.\n"
     ]
    }
   ],
   "source": [
    "print(\"MSE of the optimal results from different classifiers:\\n\")\n",
    "\n",
    "MSE = {\n",
    "    \"Logistic Regression:\": abs(search1.best_score_),\n",
    "    \"Random Forest:\": abs(search2.best_score_),\n",
    "    \"SVM:\": abs(search3.best_score_),\n",
    "    \"Neural Network:\": abs(search4.best_score_)\n",
    "}\n",
    "\n",
    "for k, v in MSE.items():\n",
    "    print(k, v)\n",
    "\n",
    "min_mse = min(MSE.values())\n",
    "method = [k for k, v in MSE.items() if v == min_mse]\n",
    "\n",
    "print(\"\\nThe best predictor of `cultivar` is {} because it has the smallesr MSE.\".format(method[0]))"
   ]
  }
 ],
 "metadata": {
  "kernelspec": {
   "display_name": "Python 3",
   "language": "python",
   "name": "python3"
  },
  "language_info": {
   "codemirror_mode": {
    "name": "ipython",
    "version": 3
   },
   "file_extension": ".py",
   "mimetype": "text/x-python",
   "name": "python",
   "nbconvert_exporter": "python",
   "pygments_lexer": "ipython3",
   "version": "3.7.4"
  }
 },
 "nbformat": 4,
 "nbformat_minor": 2
}
