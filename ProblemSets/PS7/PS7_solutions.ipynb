{
 "cells": [
  {
   "cell_type": "markdown",
   "metadata": {},
   "source": [
    "## Problem Set #[7]\n",
    "MACS 30150, Dr. Evans\n",
    "\n",
    "Linghui Wu"
   ]
  },
  {
   "cell_type": "code",
   "execution_count": 1,
   "metadata": {},
   "outputs": [],
   "source": [
    "import numpy as np\n",
    "import pandas as pd\n",
    "from sklearn.linear_model import LogisticRegression\n",
    "from sklearn.model_selection import train_test_split, LeaveOneOut, KFold\n",
    "from sklearn.metrics import classification_report, mean_squared_error\n",
    "import matplotlib.pyplot as plt\n",
    "\n",
    "import warnings\n",
    "warnings.filterwarnings(\"ignore\")"
   ]
  },
  {
   "cell_type": "markdown",
   "metadata": {},
   "source": [
    "### Question 1"
   ]
  },
  {
   "cell_type": "markdown",
   "metadata": {},
   "source": [
    "#### (a)"
   ]
  },
  {
   "cell_type": "code",
   "execution_count": 2,
   "metadata": {},
   "outputs": [
    {
     "data": {
      "text/html": [
       "<div>\n",
       "<style scoped>\n",
       "    .dataframe tbody tr th:only-of-type {\n",
       "        vertical-align: middle;\n",
       "    }\n",
       "\n",
       "    .dataframe tbody tr th {\n",
       "        vertical-align: top;\n",
       "    }\n",
       "\n",
       "    .dataframe thead th {\n",
       "        text-align: right;\n",
       "    }\n",
       "</style>\n",
       "<table border=\"1\" class=\"dataframe\">\n",
       "  <thead>\n",
       "    <tr style=\"text-align: right;\">\n",
       "      <th></th>\n",
       "      <th>cultivar</th>\n",
       "      <th>alco</th>\n",
       "      <th>malic</th>\n",
       "      <th>ash</th>\n",
       "      <th>alk</th>\n",
       "      <th>magn</th>\n",
       "      <th>tot_phen</th>\n",
       "      <th>flav</th>\n",
       "      <th>nonfl_phen</th>\n",
       "      <th>proanth</th>\n",
       "      <th>color_int</th>\n",
       "      <th>hue</th>\n",
       "      <th>OD280rat</th>\n",
       "      <th>proline</th>\n",
       "    </tr>\n",
       "  </thead>\n",
       "  <tbody>\n",
       "    <tr>\n",
       "      <td>0</td>\n",
       "      <td>1</td>\n",
       "      <td>14.23</td>\n",
       "      <td>1.71</td>\n",
       "      <td>2.43</td>\n",
       "      <td>15.6</td>\n",
       "      <td>127</td>\n",
       "      <td>2.80</td>\n",
       "      <td>3.06</td>\n",
       "      <td>0.28</td>\n",
       "      <td>2.29</td>\n",
       "      <td>5.64</td>\n",
       "      <td>1.04</td>\n",
       "      <td>3.92</td>\n",
       "      <td>1065</td>\n",
       "    </tr>\n",
       "    <tr>\n",
       "      <td>1</td>\n",
       "      <td>1</td>\n",
       "      <td>13.20</td>\n",
       "      <td>1.78</td>\n",
       "      <td>2.14</td>\n",
       "      <td>11.2</td>\n",
       "      <td>100</td>\n",
       "      <td>2.65</td>\n",
       "      <td>2.76</td>\n",
       "      <td>0.26</td>\n",
       "      <td>1.28</td>\n",
       "      <td>4.38</td>\n",
       "      <td>1.05</td>\n",
       "      <td>3.40</td>\n",
       "      <td>1050</td>\n",
       "    </tr>\n",
       "    <tr>\n",
       "      <td>2</td>\n",
       "      <td>1</td>\n",
       "      <td>13.16</td>\n",
       "      <td>2.36</td>\n",
       "      <td>2.67</td>\n",
       "      <td>18.6</td>\n",
       "      <td>101</td>\n",
       "      <td>2.80</td>\n",
       "      <td>3.24</td>\n",
       "      <td>0.30</td>\n",
       "      <td>2.81</td>\n",
       "      <td>5.68</td>\n",
       "      <td>1.03</td>\n",
       "      <td>3.17</td>\n",
       "      <td>1185</td>\n",
       "    </tr>\n",
       "    <tr>\n",
       "      <td>3</td>\n",
       "      <td>1</td>\n",
       "      <td>14.37</td>\n",
       "      <td>1.95</td>\n",
       "      <td>2.50</td>\n",
       "      <td>16.8</td>\n",
       "      <td>113</td>\n",
       "      <td>3.85</td>\n",
       "      <td>3.49</td>\n",
       "      <td>0.24</td>\n",
       "      <td>2.18</td>\n",
       "      <td>7.80</td>\n",
       "      <td>0.86</td>\n",
       "      <td>3.45</td>\n",
       "      <td>1480</td>\n",
       "    </tr>\n",
       "    <tr>\n",
       "      <td>4</td>\n",
       "      <td>1</td>\n",
       "      <td>13.24</td>\n",
       "      <td>2.59</td>\n",
       "      <td>2.87</td>\n",
       "      <td>21.0</td>\n",
       "      <td>118</td>\n",
       "      <td>2.80</td>\n",
       "      <td>2.69</td>\n",
       "      <td>0.39</td>\n",
       "      <td>1.82</td>\n",
       "      <td>4.32</td>\n",
       "      <td>1.04</td>\n",
       "      <td>2.93</td>\n",
       "      <td>735</td>\n",
       "    </tr>\n",
       "  </tbody>\n",
       "</table>\n",
       "</div>"
      ],
      "text/plain": [
       "   cultivar   alco  malic   ash   alk  magn  tot_phen  flav  nonfl_phen  \\\n",
       "0         1  14.23   1.71  2.43  15.6   127      2.80  3.06        0.28   \n",
       "1         1  13.20   1.78  2.14  11.2   100      2.65  2.76        0.26   \n",
       "2         1  13.16   2.36  2.67  18.6   101      2.80  3.24        0.30   \n",
       "3         1  14.37   1.95  2.50  16.8   113      3.85  3.49        0.24   \n",
       "4         1  13.24   2.59  2.87  21.0   118      2.80  2.69        0.39   \n",
       "\n",
       "   proanth  color_int   hue  OD280rat  proline  \n",
       "0     2.29       5.64  1.04      3.92     1065  \n",
       "1     1.28       4.38  1.05      3.40     1050  \n",
       "2     2.81       5.68  1.03      3.17     1185  \n",
       "3     2.18       7.80  0.86      3.45     1480  \n",
       "4     1.82       4.32  1.04      2.93      735  "
      ]
     },
     "execution_count": 2,
     "metadata": {},
     "output_type": "execute_result"
    }
   ],
   "source": [
    "drink = pd.read_csv(\"data/strongdrink.txt\")\n",
    "drink.head()"
   ]
  },
  {
   "cell_type": "code",
   "execution_count": 3,
   "metadata": {},
   "outputs": [
    {
     "data": {
      "text/html": [
       "<div>\n",
       "<style scoped>\n",
       "    .dataframe tbody tr th:only-of-type {\n",
       "        vertical-align: middle;\n",
       "    }\n",
       "\n",
       "    .dataframe tbody tr th {\n",
       "        vertical-align: top;\n",
       "    }\n",
       "\n",
       "    .dataframe thead th {\n",
       "        text-align: right;\n",
       "    }\n",
       "</style>\n",
       "<table border=\"1\" class=\"dataframe\">\n",
       "  <thead>\n",
       "    <tr style=\"text-align: right;\">\n",
       "      <th></th>\n",
       "      <th>Variables</th>\n",
       "      <th>j=1</th>\n",
       "      <th>j=2</th>\n",
       "    </tr>\n",
       "  </thead>\n",
       "  <tbody>\n",
       "    <tr>\n",
       "      <td>0</td>\n",
       "      <td>beta0</td>\n",
       "      <td>-24.027621</td>\n",
       "      <td>22.780736</td>\n",
       "    </tr>\n",
       "    <tr>\n",
       "      <td>1</td>\n",
       "      <td>beta1</td>\n",
       "      <td>1.701735</td>\n",
       "      <td>-1.466297</td>\n",
       "    </tr>\n",
       "    <tr>\n",
       "      <td>2</td>\n",
       "      <td>beta2</td>\n",
       "      <td>-0.265788</td>\n",
       "      <td>-0.332953</td>\n",
       "    </tr>\n",
       "    <tr>\n",
       "      <td>3</td>\n",
       "      <td>beta3</td>\n",
       "      <td>1.224101</td>\n",
       "      <td>0.663556</td>\n",
       "    </tr>\n",
       "    <tr>\n",
       "      <td>4</td>\n",
       "      <td>beta4</td>\n",
       "      <td>0.022506</td>\n",
       "      <td>-0.922682</td>\n",
       "    </tr>\n",
       "  </tbody>\n",
       "</table>\n",
       "</div>"
      ],
      "text/plain": [
       "  Variables        j=1        j=2\n",
       "0     beta0 -24.027621  22.780736\n",
       "1     beta1   1.701735  -1.466297\n",
       "2     beta2  -0.265788  -0.332953\n",
       "3     beta3   1.224101   0.663556\n",
       "4     beta4   0.022506  -0.922682"
      ]
     },
     "execution_count": 3,
     "metadata": {},
     "output_type": "execute_result"
    }
   ],
   "source": [
    "X = drink[[\"alco\", \"malic\", \"tot_phen\", \"color_int\"]]\n",
    "y = drink[\"cultivar\"]\n",
    "X_train, X_test, y_train, y_test = train_test_split(X, y, test_size=0.25, random_state=20)\n",
    "clf = LogisticRegression(random_state=0, solver=\"lbfgs\", multi_class=\"multinomial\").fit(X_train, y_train)\n",
    "\n",
    "results = {\"Variables\": [\"beta0\", \"beta1\", \"beta2\", \"beta3\", \"beta4\"],\n",
    "          \"j=1\": np.hstack((clf.intercept_[0], clf.coef_[0])),\n",
    "          \"j=2\": np.hstack((clf.intercept_[1], clf.coef_[1]))}\n",
    "pd.DataFrame(results)"
   ]
  },
  {
   "cell_type": "code",
   "execution_count": 4,
   "metadata": {
    "scrolled": false
   },
   "outputs": [
    {
     "name": "stdout",
     "output_type": "stream",
     "text": [
      "              precision    recall  f1-score   support\n",
      "\n",
      "           1       0.87      1.00      0.93        13\n",
      "           2       1.00      0.90      0.95        21\n",
      "           3       1.00      1.00      1.00        10\n",
      "\n",
      "    accuracy                           0.95        44\n",
      "   macro avg       0.96      0.97      0.96        44\n",
      "weighted avg       0.96      0.95      0.96        44\n",
      "\n"
     ]
    }
   ],
   "source": [
    "y_pred = clf.predict(X_test)\n",
    "print(classification_report(y_test, y_pred))"
   ]
  },
  {
   "cell_type": "code",
   "execution_count": 5,
   "metadata": {},
   "outputs": [
    {
     "data": {
      "text/plain": [
       "2    71\n",
       "1    59\n",
       "3    46\n",
       "Name: cultivar, dtype: int64"
      ]
     },
     "execution_count": 5,
     "metadata": {},
     "output_type": "execute_result"
    }
   ],
   "source": [
    "drink[\"cultivar\"].value_counts()"
   ]
  },
  {
   "cell_type": "markdown",
   "metadata": {},
   "source": [
    "The error rates on the test set are **13%**, **0%**, and **0%** for group 1, 2 and 3 respectively.\n",
    "\n",
    "The model is best at predicting **the third category** of cultivar because it has the highest f1-score among the three, but the most accurately predicted category (Group 3) is not the one with the most observations (Group 2)."
   ]
  },
  {
   "cell_type": "code",
   "execution_count": 6,
   "metadata": {},
   "outputs": [
    {
     "name": "stdout",
     "output_type": "stream",
     "text": [
      "The MSE from the test set is 0.045454545454545456.\n"
     ]
    }
   ],
   "source": [
    "mse = mean_squared_error(y_test, y_pred)\n",
    "print(\"The MSE from the test set is {}.\".format(mse))"
   ]
  },
  {
   "cell_type": "markdown",
   "metadata": {},
   "source": [
    "#### (b)  LOOCV"
   ]
  },
  {
   "cell_type": "code",
   "execution_count": 7,
   "metadata": {
    "scrolled": true
   },
   "outputs": [
    {
     "name": "stdout",
     "output_type": "stream",
     "text": [
      "MSE for test set [0]  is [0.]\n",
      "MSE for test set [1]  is [0.]\n",
      "MSE for test set [2]  is [0.]\n",
      "MSE for test set [3]  is [0.]\n",
      "MSE for test set [4]  is [0.]\n",
      "MSE for test set [5]  is [0.]\n",
      "MSE for test set [6]  is [0.]\n",
      "MSE for test set [7]  is [0.]\n",
      "MSE for test set [8]  is [0.]\n",
      "MSE for test set [9]  is [0.]\n",
      "MSE for test set [10]  is [0.]\n",
      "MSE for test set [11]  is [0.]\n",
      "MSE for test set [12]  is [0.]\n",
      "MSE for test set [13]  is [0.]\n",
      "MSE for test set [14]  is [0.]\n",
      "MSE for test set [15]  is [0.]\n",
      "MSE for test set [16]  is [0.]\n",
      "MSE for test set [17]  is [0.]\n",
      "MSE for test set [18]  is [0.]\n",
      "MSE for test set [19]  is [0.]\n",
      "MSE for test set [20]  is [0.]\n",
      "MSE for test set [21]  is [0.]\n",
      "MSE for test set [22]  is [0.]\n",
      "MSE for test set [23]  is [1.]\n",
      "MSE for test set [24]  is [0.]\n",
      "MSE for test set [25]  is [1.]\n",
      "MSE for test set [26]  is [0.]\n",
      "MSE for test set [27]  is [0.]\n",
      "MSE for test set [28]  is [0.]\n",
      "MSE for test set [29]  is [0.]\n",
      "MSE for test set [30]  is [0.]\n",
      "MSE for test set [31]  is [0.]\n",
      "MSE for test set [32]  is [0.]\n",
      "MSE for test set [33]  is [0.]\n",
      "MSE for test set [34]  is [0.]\n",
      "MSE for test set [35]  is [0.]\n",
      "MSE for test set [36]  is [0.]\n",
      "MSE for test set [37]  is [1.]\n",
      "MSE for test set [38]  is [1.]\n",
      "MSE for test set [39]  is [0.]\n",
      "MSE for test set [40]  is [0.]\n",
      "MSE for test set [41]  is [0.]\n",
      "MSE for test set [42]  is [0.]\n",
      "MSE for test set [43]  is [0.]\n",
      "MSE for test set [44]  is [0.]\n",
      "MSE for test set [45]  is [0.]\n",
      "MSE for test set [46]  is [0.]\n",
      "MSE for test set [47]  is [0.]\n",
      "MSE for test set [48]  is [0.]\n",
      "MSE for test set [49]  is [0.]\n",
      "MSE for test set [50]  is [0.]\n",
      "MSE for test set [51]  is [0.]\n",
      "MSE for test set [52]  is [0.]\n",
      "MSE for test set [53]  is [0.]\n",
      "MSE for test set [54]  is [0.]\n",
      "MSE for test set [55]  is [0.]\n",
      "MSE for test set [56]  is [0.]\n",
      "MSE for test set [57]  is [0.]\n",
      "MSE for test set [58]  is [0.]\n",
      "MSE for test set [59]  is [0.]\n",
      "MSE for test set [60]  is [0.]\n",
      "MSE for test set [61]  is [1.]\n",
      "MSE for test set [62]  is [1.]\n",
      "MSE for test set [63]  is [0.]\n",
      "MSE for test set [64]  is [0.]\n",
      "MSE for test set [65]  is [0.]\n",
      "MSE for test set [66]  is [1.]\n",
      "MSE for test set [67]  is [0.]\n",
      "MSE for test set [68]  is [0.]\n",
      "MSE for test set [69]  is [0.]\n",
      "MSE for test set [70]  is [0.]\n",
      "MSE for test set [71]  is [1.]\n",
      "MSE for test set [72]  is [1.]\n",
      "MSE for test set [73]  is [0.]\n",
      "MSE for test set [74]  is [0.]\n",
      "MSE for test set [75]  is [0.]\n",
      "MSE for test set [76]  is [0.]\n",
      "MSE for test set [77]  is [0.]\n",
      "MSE for test set [78]  is [0.]\n",
      "MSE for test set [79]  is [0.]\n",
      "MSE for test set [80]  is [0.]\n",
      "MSE for test set [81]  is [0.]\n",
      "MSE for test set [82]  is [0.]\n",
      "MSE for test set [83]  is [1.]\n",
      "MSE for test set [84]  is [0.]\n",
      "MSE for test set [85]  is [0.]\n",
      "MSE for test set [86]  is [0.]\n",
      "MSE for test set [87]  is [0.]\n",
      "MSE for test set [88]  is [0.]\n",
      "MSE for test set [89]  is [0.]\n",
      "MSE for test set [90]  is [0.]\n",
      "MSE for test set [91]  is [0.]\n",
      "MSE for test set [92]  is [0.]\n",
      "MSE for test set [93]  is [0.]\n",
      "MSE for test set [94]  is [0.]\n",
      "MSE for test set [95]  is [0.]\n",
      "MSE for test set [96]  is [0.]\n",
      "MSE for test set [97]  is [0.]\n",
      "MSE for test set [98]  is [0.]\n",
      "MSE for test set [99]  is [0.]\n",
      "MSE for test set [100]  is [0.]\n",
      "MSE for test set [101]  is [0.]\n",
      "MSE for test set [102]  is [0.]\n",
      "MSE for test set [103]  is [0.]\n",
      "MSE for test set [104]  is [0.]\n",
      "MSE for test set [105]  is [0.]\n",
      "MSE for test set [106]  is [0.]\n",
      "MSE for test set [107]  is [0.]\n",
      "MSE for test set [108]  is [0.]\n",
      "MSE for test set [109]  is [0.]\n",
      "MSE for test set [110]  is [0.]\n",
      "MSE for test set [111]  is [0.]\n",
      "MSE for test set [112]  is [0.]\n",
      "MSE for test set [113]  is [0.]\n",
      "MSE for test set [114]  is [0.]\n",
      "MSE for test set [115]  is [0.]\n",
      "MSE for test set [116]  is [0.]\n",
      "MSE for test set [117]  is [0.]\n",
      "MSE for test set [118]  is [0.]\n",
      "MSE for test set [119]  is [0.]\n",
      "MSE for test set [120]  is [0.]\n",
      "MSE for test set [121]  is [0.]\n",
      "MSE for test set [122]  is [0.]\n",
      "MSE for test set [123]  is [1.]\n",
      "MSE for test set [124]  is [0.]\n",
      "MSE for test set [125]  is [0.]\n",
      "MSE for test set [126]  is [0.]\n",
      "MSE for test set [127]  is [0.]\n",
      "MSE for test set [128]  is [0.]\n",
      "MSE for test set [129]  is [0.]\n",
      "MSE for test set [130]  is [1.]\n",
      "MSE for test set [131]  is [0.]\n",
      "MSE for test set [132]  is [0.]\n",
      "MSE for test set [133]  is [0.]\n",
      "MSE for test set [134]  is [1.]\n",
      "MSE for test set [135]  is [0.]\n",
      "MSE for test set [136]  is [0.]\n",
      "MSE for test set [137]  is [0.]\n",
      "MSE for test set [138]  is [1.]\n",
      "MSE for test set [139]  is [0.]\n",
      "MSE for test set [140]  is [0.]\n",
      "MSE for test set [141]  is [0.]\n",
      "MSE for test set [142]  is [0.]\n",
      "MSE for test set [143]  is [0.]\n",
      "MSE for test set [144]  is [0.]\n",
      "MSE for test set [145]  is [0.]\n",
      "MSE for test set [146]  is [0.]\n",
      "MSE for test set [147]  is [0.]\n",
      "MSE for test set [148]  is [0.]\n",
      "MSE for test set [149]  is [0.]\n",
      "MSE for test set [150]  is [0.]\n",
      "MSE for test set [151]  is [0.]\n",
      "MSE for test set [152]  is [0.]\n",
      "MSE for test set [153]  is [0.]\n",
      "MSE for test set [154]  is [0.]\n",
      "MSE for test set [155]  is [0.]\n",
      "MSE for test set [156]  is [0.]\n",
      "MSE for test set [157]  is [0.]\n",
      "MSE for test set [158]  is [0.]\n",
      "MSE for test set [159]  is [0.]\n",
      "MSE for test set [160]  is [0.]\n",
      "MSE for test set [161]  is [0.]\n",
      "MSE for test set [162]  is [0.]\n",
      "MSE for test set [163]  is [0.]\n",
      "MSE for test set [164]  is [0.]\n",
      "MSE for test set [165]  is [0.]\n",
      "MSE for test set [166]  is [0.]\n",
      "MSE for test set [167]  is [0.]\n",
      "MSE for test set [168]  is [0.]\n",
      "MSE for test set [169]  is [0.]\n",
      "MSE for test set [170]  is [0.]\n",
      "MSE for test set [171]  is [0.]\n",
      "MSE for test set [172]  is [0.]\n",
      "MSE for test set [173]  is [0.]\n",
      "MSE for test set [174]  is [0.]\n",
      "MSE for test set [175]  is [0.]\n"
     ]
    }
   ],
   "source": [
    "Xvars = drink[[\"alco\", \"malic\", \"tot_phen\", \"color_int\"]].values\n",
    "yvars = drink[\"cultivar\"]\n",
    "\n",
    "N_loo = Xvars.shape[0]\n",
    "loo = LeaveOneOut()\n",
    "loo.get_n_splits(Xvars)\n",
    "\n",
    "MSE_vec = np.zeros(N_loo)\n",
    "y_test_arr = np.zeros(N_loo)\n",
    "y_pred_arr = np.zeros(N_loo)\n",
    "for train_index, test_index in loo.split(Xvars):\n",
    "    X_train, X_test = Xvars[train_index], Xvars[test_index]\n",
    "    y_train, y_test = yvars[train_index], yvars[test_index]\n",
    "    y_test_arr[test_index] = y_test\n",
    "    \n",
    "    LogReg = LogisticRegression(solver=\"lbfgs\", multi_class=\"multinomial\", max_iter=200)\n",
    "    LogReg.fit(X_train, y_train)\n",
    "    \n",
    "    y_pred = LogReg.predict(X_test)\n",
    "    y_pred_arr[test_index] = y_pred\n",
    "    if y_pred == y_test_arr[test_index]:\n",
    "        MSE_vec[test_index] = 0\n",
    "    else:\n",
    "        MSE_vec[test_index] = 1\n",
    "    \n",
    "    print('MSE for test set', test_index, ' is', MSE_vec[test_index])"
   ]
  },
  {
   "cell_type": "code",
   "execution_count": 8,
   "metadata": {},
   "outputs": [
    {
     "name": "stdout",
     "output_type": "stream",
     "text": [
      "The LOOCV estimate MSE is 0.07954545454545454.\n",
      "The LOOCV estimate standard error is 0.2705882022679695.\n"
     ]
    }
   ],
   "source": [
    "MSE_loo_mean = MSE_vec.mean()\n",
    "MSE_loo_std = MSE_vec.std()\n",
    "print(\"The LOOCV estimate MSE is {}.\".format(MSE_loo_mean))\n",
    "print(\"The LOOCV estimate standard error is {}.\".format(MSE_loo_std))"
   ]
  },
  {
   "cell_type": "code",
   "execution_count": 9,
   "metadata": {
    "scrolled": false
   },
   "outputs": [
    {
     "name": "stdout",
     "output_type": "stream",
     "text": [
      "              precision    recall  f1-score   support\n",
      "\n",
      "         1.0       0.90      0.93      0.92        59\n",
      "         2.0       0.91      0.90      0.91        71\n",
      "         3.0       0.96      0.93      0.95        46\n",
      "\n",
      "    accuracy                           0.92       176\n",
      "   macro avg       0.92      0.92      0.92       176\n",
      "weighted avg       0.92      0.92      0.92       176\n",
      "\n"
     ]
    }
   ],
   "source": [
    "print(classification_report(y_test_arr, y_pred_arr))"
   ]
  },
  {
   "cell_type": "markdown",
   "metadata": {},
   "source": [
    "The error rates on the test set are **10%**, **9%**, and **4%** for group 1, 2 and 3 respectively.\n",
    "\n",
    "Compare to part(a), the error rate for $j=1$ decreased, while the error rate for $j=2$ and $j=3$ increased."
   ]
  },
  {
   "cell_type": "markdown",
   "metadata": {},
   "source": [
    "#### (c)"
   ]
  },
  {
   "cell_type": "code",
   "execution_count": 10,
   "metadata": {
    "scrolled": true
   },
   "outputs": [
    {
     "name": "stdout",
     "output_type": "stream",
     "text": [
      "The K-fold estimate MSE for the test set 0 is 0.1590909090909091.\n",
      "The K-fold estimate MSE for the test set 1 is 0.11363636363636363.\n",
      "The K-fold estimate MSE for the test set 2 is 0.045454545454545456.\n",
      "The K-fold estimate MSE for the test set 3 is 0.045454545454545456.\n"
     ]
    }
   ],
   "source": [
    "k = 4\n",
    "kf = KFold(n_splits=k, random_state=10, shuffle=True)\n",
    "MSE_vec_kf = np.zeros(k)\n",
    "kf.get_n_splits(Xvars)\n",
    "\n",
    "y_test_arr = np.zeros(N_loo)\n",
    "y_pred_arr = np.zeros(N_loo)\n",
    "\n",
    "k_ind = int(0)\n",
    "for train_index, test_index in kf.split(Xvars):\n",
    "    X_train, X_test = Xvars[train_index], Xvars[test_index]\n",
    "    y_train, y_test = yvars[train_index], yvars[test_index]\n",
    "    \n",
    "    LogReg = LogisticRegression(solver=\"lbfgs\", multi_class=\"multinomial\", max_iter=200)\n",
    "    LogReg.fit(X_train, y_train)\n",
    "    y_pred = LogReg.predict(X_test)\n",
    "    \n",
    "    y_test_arr[test_index] = y_test\n",
    "    y_pred_arr[test_index] = y_pred\n",
    "    \n",
    "    MSE_vec_kf[k_ind] = (y_test != y_pred).mean()\n",
    "    print(\"The K-fold estimate MSE for the test set {} is {}.\".format(k_ind, MSE_vec_kf[k_ind]))\n",
    "    k_ind += 1"
   ]
  },
  {
   "cell_type": "code",
   "execution_count": 11,
   "metadata": {},
   "outputs": [
    {
     "name": "stdout",
     "output_type": "stream",
     "text": [
      "The K-fold estimate MSE is 0.09090909090909091.\n",
      "The K-fold estimate standard error is 0.04821182598999188.\n"
     ]
    }
   ],
   "source": [
    "MSE_kf_mean = MSE_vec_kf.mean()\n",
    "MSE_kf_std = MSE_vec_kf.std()\n",
    "print(\"The K-fold estimate MSE is {}.\".format(MSE_kf_mean))\n",
    "print(\"The K-fold estimate standard error is {}.\".format(MSE_kf_std))"
   ]
  },
  {
   "cell_type": "code",
   "execution_count": 12,
   "metadata": {
    "scrolled": true
   },
   "outputs": [
    {
     "name": "stdout",
     "output_type": "stream",
     "text": [
      "              precision    recall  f1-score   support\n",
      "\n",
      "         1.0       0.87      0.93      0.90        59\n",
      "         2.0       0.91      0.87      0.89        71\n",
      "         3.0       0.96      0.93      0.95        46\n",
      "\n",
      "    accuracy                           0.91       176\n",
      "   macro avg       0.91      0.91      0.91       176\n",
      "weighted avg       0.91      0.91      0.91       176\n",
      "\n"
     ]
    }
   ],
   "source": [
    "print(classification_report(y_test_arr, y_pred_arr))"
   ]
  },
  {
   "cell_type": "markdown",
   "metadata": {},
   "source": [
    "The error rates on the test set are **13%**, **9%**, and **4%** for group 1, 2 and 3 respectively. \n",
    "\n",
    "Compared to part(a), the error rate for $j=1$ remained unchanged, while the error rates for $j=2$ and $j=3$ increased.\n",
    "\n",
    "Compared to part(b), the error rate for $j=1$ increased, while the error rates for $j=2$ and $j=3$ remained unchanged."
   ]
  },
  {
   "cell_type": "markdown",
   "metadata": {},
   "source": [
    "### Question 2"
   ]
  },
  {
   "cell_type": "markdown",
   "metadata": {},
   "source": [
    "#### (a)"
   ]
  },
  {
   "cell_type": "code",
   "execution_count": 13,
   "metadata": {},
   "outputs": [
    {
     "data": {
      "text/html": [
       "<div>\n",
       "<style scoped>\n",
       "    .dataframe tbody tr th:only-of-type {\n",
       "        vertical-align: middle;\n",
       "    }\n",
       "\n",
       "    .dataframe tbody tr th {\n",
       "        vertical-align: top;\n",
       "    }\n",
       "\n",
       "    .dataframe thead th {\n",
       "        text-align: right;\n",
       "    }\n",
       "</style>\n",
       "<table border=\"1\" class=\"dataframe\">\n",
       "  <thead>\n",
       "    <tr style=\"text-align: right;\">\n",
       "      <th></th>\n",
       "      <th>age</th>\n",
       "      <th>coolness</th>\n",
       "    </tr>\n",
       "  </thead>\n",
       "  <tbody>\n",
       "    <tr>\n",
       "      <td>0</td>\n",
       "      <td>11.0</td>\n",
       "      <td>10.981602</td>\n",
       "    </tr>\n",
       "    <tr>\n",
       "      <td>1</td>\n",
       "      <td>11.0</td>\n",
       "      <td>11.364925</td>\n",
       "    </tr>\n",
       "    <tr>\n",
       "      <td>2</td>\n",
       "      <td>11.0</td>\n",
       "      <td>10.190227</td>\n",
       "    </tr>\n",
       "    <tr>\n",
       "      <td>3</td>\n",
       "      <td>11.0</td>\n",
       "      <td>9.903725</td>\n",
       "    </tr>\n",
       "    <tr>\n",
       "      <td>4</td>\n",
       "      <td>11.0</td>\n",
       "      <td>8.997918</td>\n",
       "    </tr>\n",
       "  </tbody>\n",
       "</table>\n",
       "</div>"
      ],
      "text/plain": [
       "    age   coolness\n",
       "0  11.0  10.981602\n",
       "1  11.0  11.364925\n",
       "2  11.0  10.190227\n",
       "3  11.0   9.903725\n",
       "4  11.0   8.997918"
      ]
     },
     "execution_count": 13,
     "metadata": {},
     "output_type": "execute_result"
    }
   ],
   "source": [
    "cool = pd.read_csv(\"data/CoolIndex.txt\", names=[\"age\", \"coolness\"])\n",
    "cool.head()"
   ]
  },
  {
   "cell_type": "code",
   "execution_count": 14,
   "metadata": {},
   "outputs": [
    {
     "data": {
      "image/png": "[encoded data removed]",
      "text/plain": [
       "<Figure size 432x288 with 1 Axes>"
      ]
     },
     "metadata": {
      "needs_background": "light"
     },
     "output_type": "display_data"
    }
   ],
   "source": [
    "plt.scatter(cool[\"age\"], cool[\"coolness\"], alpha=0.8, marker=\"o\")\n",
    "plt.xlabel(\"Age\")\n",
    "plt.ylabel(\"Coolness\")\n",
    "plt.title(\"Relationship between Coolness Index and Age\")\n",
    "plt.show();"
   ]
  },
  {
   "cell_type": "markdown",
   "metadata": {},
   "source": [
    "#### (b)"
   ]
  },
  {
   "cell_type": "code",
   "execution_count": 15,
   "metadata": {
    "scrolled": false
   },
   "outputs": [
    {
     "name": "stdout",
     "output_type": "stream",
     "text": [
      "                            OLS Regression Results                            \n",
      "==============================================================================\n",
      "Dep. Variable:               coolness   R-squared:                       0.429\n",
      "Model:                            OLS   Adj. R-squared:                  0.427\n",
      "Method:                 Least Squares   F-statistic:                     178.7\n",
      "Date:                Tue, 25 Feb 2020   Prob (F-statistic):          3.73e-114\n",
      "Time:                        20:46:12   Log-Likelihood:                -3214.5\n",
      "No. Observations:                 956   AIC:                             6439.\n",
      "Df Residuals:                     951   BIC:                             6463.\n",
      "Df Model:                           4                                         \n",
      "Covariance Type:            nonrobust                                         \n",
      "==============================================================================\n",
      "                 coef    std err          t      P>|t|      [0.025      0.975]\n",
      "------------------------------------------------------------------------------\n",
      "a1            20.1025      0.562     35.746      0.000      18.999      21.206\n",
      "a2            34.4758      0.431     80.006      0.000      33.630      35.321\n",
      "a3            37.6351      0.424     88.814      0.000      36.804      38.467\n",
      "a4            35.2254      0.485     72.560      0.000      34.273      36.178\n",
      "a5            27.2964      0.936     29.175      0.000      25.460      29.132\n",
      "==============================================================================\n",
      "Omnibus:                       80.102   Durbin-Watson:                   1.236\n",
      "Prob(Omnibus):                  0.000   Jarque-Bera (JB):              101.718\n",
      "Skew:                           0.714   Prob(JB):                     8.17e-23\n",
      "Kurtosis:                       3.719   Cond. No.                         2.21\n",
      "==============================================================================\n",
      "\n",
      "Warnings:\n",
      "[1] Standard Errors assume that the covariance matrix of the errors is correctly specified.\n"
     ]
    }
   ],
   "source": [
    "import statsmodels.api as sm\n",
    "\n",
    "cool[\"a1\"] = np.where((cool[\"age\"] >= 11) & (cool[\"age\"] < 22), 1, 0)\n",
    "cool[\"a2\"] = np.where((cool[\"age\"] >= 22) & (cool[\"age\"] < 40), 1, 0)\n",
    "cool[\"a3\"] = np.where((cool[\"age\"] >= 40) & (cool[\"age\"] < 59), 1, 0)\n",
    "cool[\"a4\"] = np.where((cool[\"age\"] >= 59) & (cool[\"age\"] < 77), 1, 0)\n",
    "cool[\"a5\"] = np.where((cool[\"age\"] >= 77) & (cool[\"age\"] <= 95), 1, 0)\n",
    "\n",
    "X = cool[[\"a1\", \"a2\", \"a3\", \"a4\", \"a5\"]]\n",
    "y = cool[\"coolness\"]\n",
    "\n",
    "result = sm.OLS(endog=y, exog=X).fit()\n",
    "print(result.summary())"
   ]
  },
  {
   "cell_type": "code",
   "execution_count": 16,
   "metadata": {},
   "outputs": [
    {
     "data": {
      "image/png": "[encoded data removed]",
      "text/plain": [
       "<Figure size 432x288 with 1 Axes>"
      ]
     },
     "metadata": {
      "needs_background": "light"
     },
     "output_type": "display_data"
    }
   ],
   "source": [
    "vals = result.params.values\n",
    "plt.scatter(cool[\"age\"], cool[\"coolness\"], alpha=0.8, label=\"Coolness Index\")\n",
    "x_min = np.array([11, 22, 40, 59, 77])\n",
    "x_max = np.array([22, 40, 59, 77, 95])\n",
    "plt.hlines(vals, x_min, x_max, color=\"crimson\", lw=2, label=\"Step Function\")\n",
    "plt.xlabel(\"Age\")\n",
    "plt.ylabel(\"Coolness\")\n",
    "plt.legend(loc=\"best\")\n",
    "plt.title(\"Relationship between Coolness Index and Age\");"
   ]
  },
  {
   "cell_type": "code",
   "execution_count": 17,
   "metadata": {},
   "outputs": [
    {
     "name": "stdout",
     "output_type": "stream",
     "text": [
      "The estimated step funcion values for each bin are:\n",
      "a1    20.102457\n",
      "a2    34.475788\n",
      "a3    37.635105\n",
      "a4    35.225400\n",
      "a5    27.296378\n",
      "dtype: float64\n"
     ]
    }
   ],
   "source": [
    "print(\"The estimated step funcion values for each bin are:\")\n",
    "print(result.params)"
   ]
  },
  {
   "cell_type": "code",
   "execution_count": 18,
   "metadata": {},
   "outputs": [
    {
     "name": "stdout",
     "output_type": "stream",
     "text": [
      "The predicted coolness of a 73-year old from the stepwise function is 35.22540004024275.\n"
     ]
    }
   ],
   "source": [
    "pred_coolness1 = result.predict([0,0,0,1,0])\n",
    "print(\"The predicted coolness of a 73-year old from the stepwise function is {}.\".format(pred_coolness1[0]))"
   ]
  },
  {
   "cell_type": "markdown",
   "metadata": {},
   "source": [
    "#### (c)"
   ]
  },
  {
   "cell_type": "code",
   "execution_count": 19,
   "metadata": {},
   "outputs": [
    {
     "data": {
      "image/png": "[encoded data removed]",
      "text/plain": [
       "<Figure size 432x288 with 1 Axes>"
      ]
     },
     "metadata": {
      "needs_background": "light"
     },
     "output_type": "display_data"
    }
   ],
   "source": [
    "from scipy.interpolate import LSQUnivariateSpline\n",
    "t = np.array([22, 40, 59, 77])\n",
    "cool.sort_index(0, ascending=True, inplace=True)\n",
    "group = cool.groupby(\"age\", as_index=False).mean()\n",
    "linear_spline = LSQUnivariateSpline(group[\"age\"].values, group[\"coolness\"].values, t, k=1)\n",
    "age_vals = np.linspace(cool[\"age\"].min(), cool[\"age\"].max(), 100)\n",
    "\n",
    "plt.scatter(cool[\"age\"], cool[\"coolness\"], alpha=0.8, label=\"Coolness Index\")\n",
    "plt.hlines(vals, x_min, x_max, color=\"crimson\", lw=2, label=\"Step Function\")\n",
    "plt.plot(age_vals, linear_spline(age_vals), color=\"yellow\", lw=2, label=\"Linear Spline\")\n",
    "plt.xlabel(\"Age\")\n",
    "plt.ylabel(\"Coolness\")\n",
    "plt.legend(loc=\"best\")\n",
    "plt.title(\"Relationship between Coolness Index and Age\");"
   ]
  },
  {
   "cell_type": "code",
   "execution_count": 20,
   "metadata": {},
   "outputs": [
    {
     "name": "stdout",
     "output_type": "stream",
     "text": [
      "The predicted coolness of a 73-year old from the linear spline is 32.86784862349653.\n"
     ]
    }
   ],
   "source": [
    "pred_coolness2 = linear_spline(73)\n",
    "print(\"The predicted coolness of a 73-year old from the linear spline is {}.\".format(pred_coolness2))"
   ]
  },
  {
   "cell_type": "markdown",
   "metadata": {},
   "source": [
    "#### (d)"
   ]
  },
  {
   "cell_type": "code",
   "execution_count": 21,
   "metadata": {},
   "outputs": [
    {
     "data": {
      "image/png": "[encoded data removed]",
      "text/plain": [
       "<Figure size 432x288 with 1 Axes>"
      ]
     },
     "metadata": {
      "needs_background": "light"
     },
     "output_type": "display_data"
    }
   ],
   "source": [
    "cubic_spline = LSQUnivariateSpline(group[\"age\"].values, group[\"coolness\"].values, t, k=3)\n",
    "\n",
    "plt.scatter(cool[\"age\"], cool[\"coolness\"], alpha=0.8, label=\"Coolness Index\")\n",
    "plt.hlines(vals, x_min, x_max, color=\"crimson\", lw=2, label=\"Step Function\")\n",
    "plt.plot(age_vals, linear_spline(age_vals), color=\"yellow\", lw=2, label=\"Linear Spline\")\n",
    "plt.plot(age_vals, cubic_spline(age_vals), color=\"black\", lw=2, ls=\"--\", label=\"Cubic Spline\")\n",
    "plt.xlabel(\"Age\")\n",
    "plt.ylabel(\"Coolness\")\n",
    "plt.legend(loc=\"best\")\n",
    "plt.title(\"Relationship between Coolness Index and Age\");"
   ]
  },
  {
   "cell_type": "code",
   "execution_count": 22,
   "metadata": {},
   "outputs": [
    {
     "name": "stdout",
     "output_type": "stream",
     "text": [
      "The predicted coolness of a 73-year old from the cubic spline is 32.642301066279764.\n"
     ]
    }
   ],
   "source": [
    "pred_coolness3 = cubic_spline(73)\n",
    "print(\"The predicted coolness of a 73-year old from the cubic spline is {}.\".format(pred_coolness3))"
   ]
  }
 ],
 "metadata": {
  "kernelspec": {
   "display_name": "Python 3",
   "language": "python",
   "name": "python3"
  },
  "language_info": {
   "codemirror_mode": {
    "name": "ipython",
    "version": 3
   },
   "file_extension": ".py",
   "mimetype": "text/x-python",
   "name": "python",
   "nbconvert_exporter": "python",
   "pygments_lexer": "ipython3",
   "version": "3.7.4"
  }
 },
 "nbformat": 4,
 "nbformat_minor": 2
}
