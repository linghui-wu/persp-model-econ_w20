{
 "cells": [
  {
   "cell_type": "markdown",
   "metadata": {},
   "source": [
    "## Problem Set #[8]\n",
    "MACS 30150, Dr. Evans\n",
    "\n",
    "Linghui Wu"
   ]
  },
  {
   "cell_type": "markdown",
   "metadata": {},
   "source": [
    "### Question 1"
   ]
  },
  {
   "cell_type": "code",
   "execution_count": 1,
   "metadata": {},
   "outputs": [],
   "source": [
    "# Import the necessary packages\n",
    "import pandas as pd\n",
    "import numpy as np\n",
    "\n",
    "from sklearn.model_selection import train_test_split\n",
    "from sklearn.tree import DecisionTreeRegressor\n",
    "\n",
    "from sklearn.tree import export_graphviz\n",
    "import graphviz\n",
    "\n",
    "from sklearn.metrics import mean_squared_error\n",
    "\n",
    "from scipy.stats import randint as sp_randint\n",
    "from sklearn.model_selection import RandomizedSearchCV\n",
    "\n",
    "from sklearn.ensemble import RandomForestRegressor, RandomForestClassifier\n",
    "import warnings\n",
    "warnings.filterwarnings(\"ignore\")"
   ]
  },
  {
   "cell_type": "markdown",
   "metadata": {},
   "source": [
    "#### (a)"
   ]
  },
  {
   "cell_type": "code",
   "execution_count": 2,
   "metadata": {},
   "outputs": [
    {
     "data": {
      "text/html": [
       "<div>\n",
       "<style scoped>\n",
       "    .dataframe tbody tr th:only-of-type {\n",
       "        vertical-align: middle;\n",
       "    }\n",
       "\n",
       "    .dataframe tbody tr th {\n",
       "        vertical-align: top;\n",
       "    }\n",
       "\n",
       "    .dataframe thead th {\n",
       "        text-align: right;\n",
       "    }\n",
       "</style>\n",
       "<table border=\"1\" class=\"dataframe\">\n",
       "  <thead>\n",
       "    <tr style=\"text-align: right;\">\n",
       "      <th></th>\n",
       "      <th>biden</th>\n",
       "      <th>female</th>\n",
       "      <th>age</th>\n",
       "      <th>educ</th>\n",
       "      <th>dem</th>\n",
       "      <th>rep</th>\n",
       "    </tr>\n",
       "  </thead>\n",
       "  <tbody>\n",
       "    <tr>\n",
       "      <td>0</td>\n",
       "      <td>90</td>\n",
       "      <td>0</td>\n",
       "      <td>19</td>\n",
       "      <td>12</td>\n",
       "      <td>1</td>\n",
       "      <td>0</td>\n",
       "    </tr>\n",
       "    <tr>\n",
       "      <td>1</td>\n",
       "      <td>70</td>\n",
       "      <td>1</td>\n",
       "      <td>51</td>\n",
       "      <td>14</td>\n",
       "      <td>1</td>\n",
       "      <td>0</td>\n",
       "    </tr>\n",
       "    <tr>\n",
       "      <td>2</td>\n",
       "      <td>60</td>\n",
       "      <td>0</td>\n",
       "      <td>27</td>\n",
       "      <td>14</td>\n",
       "      <td>0</td>\n",
       "      <td>0</td>\n",
       "    </tr>\n",
       "    <tr>\n",
       "      <td>3</td>\n",
       "      <td>50</td>\n",
       "      <td>1</td>\n",
       "      <td>43</td>\n",
       "      <td>14</td>\n",
       "      <td>1</td>\n",
       "      <td>0</td>\n",
       "    </tr>\n",
       "    <tr>\n",
       "      <td>4</td>\n",
       "      <td>60</td>\n",
       "      <td>1</td>\n",
       "      <td>38</td>\n",
       "      <td>14</td>\n",
       "      <td>0</td>\n",
       "      <td>1</td>\n",
       "    </tr>\n",
       "  </tbody>\n",
       "</table>\n",
       "</div>"
      ],
      "text/plain": [
       "   biden  female  age  educ  dem  rep\n",
       "0     90       0   19    12    1    0\n",
       "1     70       1   51    14    1    0\n",
       "2     60       0   27    14    0    0\n",
       "3     50       1   43    14    1    0\n",
       "4     60       1   38    14    0    1"
      ]
     },
     "execution_count": 2,
     "metadata": {},
     "output_type": "execute_result"
    }
   ],
   "source": [
    "biden = pd.read_csv(\"biden.csv\")\n",
    "biden.head()"
   ]
  },
  {
   "cell_type": "code",
   "execution_count": 3,
   "metadata": {
    "scrolled": true
   },
   "outputs": [
    {
     "data": {
      "text/plain": [
       "biden     0\n",
       "female    0\n",
       "age       0\n",
       "educ      0\n",
       "dem       0\n",
       "rep       0\n",
       "dtype: int64"
      ]
     },
     "execution_count": 3,
     "metadata": {},
     "output_type": "execute_result"
    }
   ],
   "source": [
    "biden.isna().sum()"
   ]
  },
  {
   "cell_type": "code",
   "execution_count": 4,
   "metadata": {},
   "outputs": [],
   "source": [
    "y = biden[\"biden\"].values\n",
    "X = biden[[\"female\", \"age\", \"educ\", \"dem\", \"rep\"]].values"
   ]
  },
  {
   "cell_type": "code",
   "execution_count": 5,
   "metadata": {},
   "outputs": [
    {
     "data": {
      "text/plain": [
       "DecisionTreeRegressor(criterion='mse', max_depth=3, max_features=None,\n",
       "                      max_leaf_nodes=None, min_impurity_decrease=0.0,\n",
       "                      min_impurity_split=None, min_samples_leaf=5,\n",
       "                      min_samples_split=2, min_weight_fraction_leaf=0.0,\n",
       "                      presort=False, random_state=None, splitter='best')"
      ]
     },
     "execution_count": 5,
     "metadata": {},
     "output_type": "execute_result"
    }
   ],
   "source": [
    "X_train, X_test, y_train, y_test = train_test_split(X, y, test_size=0.3, random_state=25)\n",
    "\n",
    "biden_tree1 = DecisionTreeRegressor(max_depth=3, min_samples_leaf=5)\n",
    "biden_tree1.fit(X_train, y_train)"
   ]
  },
  {
   "cell_type": "code",
   "execution_count": 6,
   "metadata": {
    "scrolled": true
   },
   "outputs": [
    {
     "data": {
      "image/svg+xml": [
       "<?xml version=\"1.0\" encoding=\"UTF-8\" standalone=\"no\"?>\n",
       "<!DOCTYPE svg PUBLIC \"-//W3C//DTD SVG 1.1//EN\"\n",
       " \"http://www.w3.org/Graphics/SVG/1.1/DTD/svg11.dtd\">\n",
       "<!-- Generated by graphviz version 2.40.1 (20161225.0304)\n",
       " -->\n",
       "<!-- Title: Tree Pages: 1 -->\n",
       "<svg width=\"934pt\" height=\"373pt\"\n",
       " viewBox=\"0.00 0.00 934.00 373.00\" xmlns=\"http://www.w3.org/2000/svg\" xmlns:xlink=\"http://www.w3.org/1999/xlink\">\n",
       "<g id=\"graph0\" class=\"graph\" transform=\"scale(1 1) rotate(0) translate(4 369)\">\n",
       "<title>Tree</title>\n",
       "<polygon fill=\"#ffffff\" stroke=\"transparent\" points=\"-4,4 -4,-369 930,-369 930,4 -4,4\"/>\n",
       "<!-- 0 -->\n",
       "<g id=\"node1\" class=\"node\">\n",
       "<title>0</title>\n",
       "<polygon fill=\"#f0b78f\" stroke=\"#000000\" points=\"515.5,-365 410.5,-365 410.5,-297 515.5,-297 515.5,-365\"/>\n",
       "<text text-anchor=\"middle\" x=\"463\" y=\"-349.8\" font-family=\"Times,serif\" font-size=\"14.00\" fill=\"#000000\">X[3] &lt;= 0.5</text>\n",
       "<text text-anchor=\"middle\" x=\"463\" y=\"-334.8\" font-family=\"Times,serif\" font-size=\"14.00\" fill=\"#000000\">mse = 556.262</text>\n",
       "<text text-anchor=\"middle\" x=\"463\" y=\"-319.8\" font-family=\"Times,serif\" font-size=\"14.00\" fill=\"#000000\">samples = 1264</text>\n",
       "<text text-anchor=\"middle\" x=\"463\" y=\"-304.8\" font-family=\"Times,serif\" font-size=\"14.00\" fill=\"#000000\">value = 62.165</text>\n",
       "</g>\n",
       "<!-- 1 -->\n",
       "<g id=\"node2\" class=\"node\">\n",
       "<title>1</title>\n",
       "<polygon fill=\"#f6d4bb\" stroke=\"#000000\" points=\"395,-261 295,-261 295,-193 395,-193 395,-261\"/>\n",
       "<text text-anchor=\"middle\" x=\"345\" y=\"-245.8\" font-family=\"Times,serif\" font-size=\"14.00\" fill=\"#000000\">X[4] &lt;= 0.5</text>\n",
       "<text text-anchor=\"middle\" x=\"345\" y=\"-230.8\" font-family=\"Times,serif\" font-size=\"14.00\" fill=\"#000000\">mse = 507.397</text>\n",
       "<text text-anchor=\"middle\" x=\"345\" y=\"-215.8\" font-family=\"Times,serif\" font-size=\"14.00\" fill=\"#000000\">samples = 724</text>\n",
       "<text text-anchor=\"middle\" x=\"345\" y=\"-200.8\" font-family=\"Times,serif\" font-size=\"14.00\" fill=\"#000000\">value = 52.811</text>\n",
       "</g>\n",
       "<!-- 0&#45;&gt;1 -->\n",
       "<g id=\"edge1\" class=\"edge\">\n",
       "<title>0&#45;&gt;1</title>\n",
       "<path fill=\"none\" stroke=\"#000000\" d=\"M424.3624,-296.9465C413.8696,-287.6986 402.3974,-277.5876 391.5186,-267.9994\"/>\n",
       "<polygon fill=\"#000000\" stroke=\"#000000\" points=\"393.5407,-265.1163 383.7244,-261.13 388.9123,-270.3678 393.5407,-265.1163\"/>\n",
       "<text text-anchor=\"middle\" x=\"385.2979\" y=\"-282.3804\" font-family=\"Times,serif\" font-size=\"14.00\" fill=\"#000000\">True</text>\n",
       "</g>\n",
       "<!-- 8 -->\n",
       "<g id=\"node9\" class=\"node\">\n",
       "<title>8</title>\n",
       "<polygon fill=\"#e89253\" stroke=\"#000000\" points=\"631,-261 531,-261 531,-193 631,-193 631,-261\"/>\n",
       "<text text-anchor=\"middle\" x=\"581\" y=\"-245.8\" font-family=\"Times,serif\" font-size=\"14.00\" fill=\"#000000\">X[1] &lt;= 54.5</text>\n",
       "<text text-anchor=\"middle\" x=\"581\" y=\"-230.8\" font-family=\"Times,serif\" font-size=\"14.00\" fill=\"#000000\">mse = 347.197</text>\n",
       "<text text-anchor=\"middle\" x=\"581\" y=\"-215.8\" font-family=\"Times,serif\" font-size=\"14.00\" fill=\"#000000\">samples = 540</text>\n",
       "<text text-anchor=\"middle\" x=\"581\" y=\"-200.8\" font-family=\"Times,serif\" font-size=\"14.00\" fill=\"#000000\">value = 74.706</text>\n",
       "</g>\n",
       "<!-- 0&#45;&gt;8 -->\n",
       "<g id=\"edge8\" class=\"edge\">\n",
       "<title>0&#45;&gt;8</title>\n",
       "<path fill=\"none\" stroke=\"#000000\" d=\"M501.6376,-296.9465C512.1304,-287.6986 523.6026,-277.5876 534.4814,-267.9994\"/>\n",
       "<polygon fill=\"#000000\" stroke=\"#000000\" points=\"537.0877,-270.3678 542.2756,-261.13 532.4593,-265.1163 537.0877,-270.3678\"/>\n",
       "<text text-anchor=\"middle\" x=\"540.7021\" y=\"-282.3804\" font-family=\"Times,serif\" font-size=\"14.00\" fill=\"#000000\">False</text>\n",
       "</g>\n",
       "<!-- 2 -->\n",
       "<g id=\"node3\" class=\"node\">\n",
       "<title>2</title>\n",
       "<polygon fill=\"#f2c19e\" stroke=\"#000000\" points=\"218,-157 118,-157 118,-89 218,-89 218,-157\"/>\n",
       "<text text-anchor=\"middle\" x=\"168\" y=\"-141.8\" font-family=\"Times,serif\" font-size=\"14.00\" fill=\"#000000\">X[0] &lt;= 0.5</text>\n",
       "<text text-anchor=\"middle\" x=\"168\" y=\"-126.8\" font-family=\"Times,serif\" font-size=\"14.00\" fill=\"#000000\">mse = 444.551</text>\n",
       "<text text-anchor=\"middle\" x=\"168\" y=\"-111.8\" font-family=\"Times,serif\" font-size=\"14.00\" fill=\"#000000\">samples = 468</text>\n",
       "<text text-anchor=\"middle\" x=\"168\" y=\"-96.8\" font-family=\"Times,serif\" font-size=\"14.00\" fill=\"#000000\">value = 58.868</text>\n",
       "</g>\n",
       "<!-- 1&#45;&gt;2 -->\n",
       "<g id=\"edge2\" class=\"edge\">\n",
       "<title>1&#45;&gt;2</title>\n",
       "<path fill=\"none\" stroke=\"#000000\" d=\"M294.7524,-197.476C273.6426,-185.0725 248.9374,-170.5564 226.9728,-157.6507\"/>\n",
       "<polygon fill=\"#000000\" stroke=\"#000000\" points=\"228.4617,-154.4661 218.0667,-152.4177 224.9155,-160.5014 228.4617,-154.4661\"/>\n",
       "</g>\n",
       "<!-- 5 -->\n",
       "<g id=\"node6\" class=\"node\">\n",
       "<title>5</title>\n",
       "<polygon fill=\"#fdf5ef\" stroke=\"#000000\" points=\"395,-157 295,-157 295,-89 395,-89 395,-157\"/>\n",
       "<text text-anchor=\"middle\" x=\"345\" y=\"-141.8\" font-family=\"Times,serif\" font-size=\"14.00\" fill=\"#000000\">X[0] &lt;= 0.5</text>\n",
       "<text text-anchor=\"middle\" x=\"345\" y=\"-126.8\" font-family=\"Times,serif\" font-size=\"14.00\" fill=\"#000000\">mse = 432.623</text>\n",
       "<text text-anchor=\"middle\" x=\"345\" y=\"-111.8\" font-family=\"Times,serif\" font-size=\"14.00\" fill=\"#000000\">samples = 256</text>\n",
       "<text text-anchor=\"middle\" x=\"345\" y=\"-96.8\" font-family=\"Times,serif\" font-size=\"14.00\" fill=\"#000000\">value = 41.738</text>\n",
       "</g>\n",
       "<!-- 1&#45;&gt;5 -->\n",
       "<g id=\"edge5\" class=\"edge\">\n",
       "<title>1&#45;&gt;5</title>\n",
       "<path fill=\"none\" stroke=\"#000000\" d=\"M345,-192.9465C345,-184.776 345,-175.9318 345,-167.3697\"/>\n",
       "<polygon fill=\"#000000\" stroke=\"#000000\" points=\"348.5001,-167.13 345,-157.13 341.5001,-167.13 348.5001,-167.13\"/>\n",
       "</g>\n",
       "<!-- 3 -->\n",
       "<g id=\"node4\" class=\"node\">\n",
       "<title>3</title>\n",
       "<polygon fill=\"#f4c8a9\" stroke=\"#000000\" points=\"100,-53 0,-53 0,0 100,0 100,-53\"/>\n",
       "<text text-anchor=\"middle\" x=\"50\" y=\"-37.8\" font-family=\"Times,serif\" font-size=\"14.00\" fill=\"#000000\">mse = 470.335</text>\n",
       "<text text-anchor=\"middle\" x=\"50\" y=\"-22.8\" font-family=\"Times,serif\" font-size=\"14.00\" fill=\"#000000\">samples = 235</text>\n",
       "<text text-anchor=\"middle\" x=\"50\" y=\"-7.8\" font-family=\"Times,serif\" font-size=\"14.00\" fill=\"#000000\">value = 56.489</text>\n",
       "</g>\n",
       "<!-- 2&#45;&gt;3 -->\n",
       "<g id=\"edge3\" class=\"edge\">\n",
       "<title>2&#45;&gt;3</title>\n",
       "<path fill=\"none\" stroke=\"#000000\" d=\"M126.3976,-88.9777C114.7526,-79.4545 102.1146,-69.1191 90.5325,-59.6473\"/>\n",
       "<polygon fill=\"#000000\" stroke=\"#000000\" points=\"92.6648,-56.8697 82.708,-53.2485 88.2333,-62.2885 92.6648,-56.8697\"/>\n",
       "</g>\n",
       "<!-- 4 -->\n",
       "<g id=\"node5\" class=\"node\">\n",
       "<title>4</title>\n",
       "<polygon fill=\"#f1ba93\" stroke=\"#000000\" points=\"218,-53 118,-53 118,0 218,0 218,-53\"/>\n",
       "<text text-anchor=\"middle\" x=\"168\" y=\"-37.8\" font-family=\"Times,serif\" font-size=\"14.00\" fill=\"#000000\">mse = 407.088</text>\n",
       "<text text-anchor=\"middle\" x=\"168\" y=\"-22.8\" font-family=\"Times,serif\" font-size=\"14.00\" fill=\"#000000\">samples = 233</text>\n",
       "<text text-anchor=\"middle\" x=\"168\" y=\"-7.8\" font-family=\"Times,serif\" font-size=\"14.00\" fill=\"#000000\">value = 61.266</text>\n",
       "</g>\n",
       "<!-- 2&#45;&gt;4 -->\n",
       "<g id=\"edge4\" class=\"edge\">\n",
       "<title>2&#45;&gt;4</title>\n",
       "<path fill=\"none\" stroke=\"#000000\" d=\"M168,-88.9777C168,-80.7364 168,-71.887 168,-63.5153\"/>\n",
       "<polygon fill=\"#000000\" stroke=\"#000000\" points=\"171.5001,-63.2484 168,-53.2485 164.5001,-63.2485 171.5001,-63.2484\"/>\n",
       "</g>\n",
       "<!-- 6 -->\n",
       "<g id=\"node7\" class=\"node\">\n",
       "<title>6</title>\n",
       "<polygon fill=\"#ffffff\" stroke=\"#000000\" points=\"336,-53 236,-53 236,0 336,0 336,-53\"/>\n",
       "<text text-anchor=\"middle\" x=\"286\" y=\"-37.8\" font-family=\"Times,serif\" font-size=\"14.00\" fill=\"#000000\">mse = 456.775</text>\n",
       "<text text-anchor=\"middle\" x=\"286\" y=\"-22.8\" font-family=\"Times,serif\" font-size=\"14.00\" fill=\"#000000\">samples = 123</text>\n",
       "<text text-anchor=\"middle\" x=\"286\" y=\"-7.8\" font-family=\"Times,serif\" font-size=\"14.00\" fill=\"#000000\">value = 38.333</text>\n",
       "</g>\n",
       "<!-- 5&#45;&gt;6 -->\n",
       "<g id=\"edge6\" class=\"edge\">\n",
       "<title>5&#45;&gt;6</title>\n",
       "<path fill=\"none\" stroke=\"#000000\" d=\"M324.1988,-88.9777C318.8242,-80.187 313.0265,-70.7044 307.6115,-61.8477\"/>\n",
       "<polygon fill=\"#000000\" stroke=\"#000000\" points=\"310.5564,-59.9545 302.354,-53.2485 304.5842,-63.6059 310.5564,-59.9545\"/>\n",
       "</g>\n",
       "<!-- 7 -->\n",
       "<g id=\"node8\" class=\"node\">\n",
       "<title>7</title>\n",
       "<polygon fill=\"#fbebe0\" stroke=\"#000000\" points=\"454,-53 354,-53 354,0 454,0 454,-53\"/>\n",
       "<text text-anchor=\"middle\" x=\"404\" y=\"-37.8\" font-family=\"Times,serif\" font-size=\"14.00\" fill=\"#000000\">mse = 389.649</text>\n",
       "<text text-anchor=\"middle\" x=\"404\" y=\"-22.8\" font-family=\"Times,serif\" font-size=\"14.00\" fill=\"#000000\">samples = 133</text>\n",
       "<text text-anchor=\"middle\" x=\"404\" y=\"-7.8\" font-family=\"Times,serif\" font-size=\"14.00\" fill=\"#000000\">value = 44.887</text>\n",
       "</g>\n",
       "<!-- 5&#45;&gt;7 -->\n",
       "<g id=\"edge7\" class=\"edge\">\n",
       "<title>5&#45;&gt;7</title>\n",
       "<path fill=\"none\" stroke=\"#000000\" d=\"M365.8012,-88.9777C371.1758,-80.187 376.9735,-70.7044 382.3885,-61.8477\"/>\n",
       "<polygon fill=\"#000000\" stroke=\"#000000\" points=\"385.4158,-63.6059 387.646,-53.2485 379.4436,-59.9545 385.4158,-63.6059\"/>\n",
       "</g>\n",
       "<!-- 9 -->\n",
       "<g id=\"node10\" class=\"node\">\n",
       "<title>9</title>\n",
       "<polygon fill=\"#ea985d\" stroke=\"#000000\" points=\"631,-157 531,-157 531,-89 631,-89 631,-157\"/>\n",
       "<text text-anchor=\"middle\" x=\"581\" y=\"-141.8\" font-family=\"Times,serif\" font-size=\"14.00\" fill=\"#000000\">X[2] &lt;= 15.5</text>\n",
       "<text text-anchor=\"middle\" x=\"581\" y=\"-126.8\" font-family=\"Times,serif\" font-size=\"14.00\" fill=\"#000000\">mse = 345.027</text>\n",
       "<text text-anchor=\"middle\" x=\"581\" y=\"-111.8\" font-family=\"Times,serif\" font-size=\"14.00\" fill=\"#000000\">samples = 340</text>\n",
       "<text text-anchor=\"middle\" x=\"581\" y=\"-96.8\" font-family=\"Times,serif\" font-size=\"14.00\" fill=\"#000000\">value = 72.606</text>\n",
       "</g>\n",
       "<!-- 8&#45;&gt;9 -->\n",
       "<g id=\"edge9\" class=\"edge\">\n",
       "<title>8&#45;&gt;9</title>\n",
       "<path fill=\"none\" stroke=\"#000000\" d=\"M581,-192.9465C581,-184.776 581,-175.9318 581,-167.3697\"/>\n",
       "<polygon fill=\"#000000\" stroke=\"#000000\" points=\"584.5001,-167.13 581,-157.13 577.5001,-167.13 584.5001,-167.13\"/>\n",
       "</g>\n",
       "<!-- 12 -->\n",
       "<g id=\"node13\" class=\"node\">\n",
       "<title>12</title>\n",
       "<polygon fill=\"#e68743\" stroke=\"#000000\" points=\"808,-157 708,-157 708,-89 808,-89 808,-157\"/>\n",
       "<text text-anchor=\"middle\" x=\"758\" y=\"-141.8\" font-family=\"Times,serif\" font-size=\"14.00\" fill=\"#000000\">X[0] &lt;= 0.5</text>\n",
       "<text text-anchor=\"middle\" x=\"758\" y=\"-126.8\" font-family=\"Times,serif\" font-size=\"14.00\" fill=\"#000000\">mse = 330.649</text>\n",
       "<text text-anchor=\"middle\" x=\"758\" y=\"-111.8\" font-family=\"Times,serif\" font-size=\"14.00\" fill=\"#000000\">samples = 200</text>\n",
       "<text text-anchor=\"middle\" x=\"758\" y=\"-96.8\" font-family=\"Times,serif\" font-size=\"14.00\" fill=\"#000000\">value = 78.275</text>\n",
       "</g>\n",
       "<!-- 8&#45;&gt;12 -->\n",
       "<g id=\"edge12\" class=\"edge\">\n",
       "<title>8&#45;&gt;12</title>\n",
       "<path fill=\"none\" stroke=\"#000000\" d=\"M631.2476,-197.476C652.3574,-185.0725 677.0626,-170.5564 699.0272,-157.6507\"/>\n",
       "<polygon fill=\"#000000\" stroke=\"#000000\" points=\"701.0845,-160.5014 707.9333,-152.4177 697.5383,-154.4661 701.0845,-160.5014\"/>\n",
       "</g>\n",
       "<!-- 10 -->\n",
       "<g id=\"node11\" class=\"node\">\n",
       "<title>10</title>\n",
       "<polygon fill=\"#eb9d64\" stroke=\"#000000\" points=\"572,-53 472,-53 472,0 572,0 572,-53\"/>\n",
       "<text text-anchor=\"middle\" x=\"522\" y=\"-37.8\" font-family=\"Times,serif\" font-size=\"14.00\" fill=\"#000000\">mse = 369.301</text>\n",
       "<text text-anchor=\"middle\" x=\"522\" y=\"-22.8\" font-family=\"Times,serif\" font-size=\"14.00\" fill=\"#000000\">samples = 247</text>\n",
       "<text text-anchor=\"middle\" x=\"522\" y=\"-7.8\" font-family=\"Times,serif\" font-size=\"14.00\" fill=\"#000000\">value = 71.105</text>\n",
       "</g>\n",
       "<!-- 9&#45;&gt;10 -->\n",
       "<g id=\"edge10\" class=\"edge\">\n",
       "<title>9&#45;&gt;10</title>\n",
       "<path fill=\"none\" stroke=\"#000000\" d=\"M560.1988,-88.9777C554.8242,-80.187 549.0265,-70.7044 543.6115,-61.8477\"/>\n",
       "<polygon fill=\"#000000\" stroke=\"#000000\" points=\"546.5564,-59.9545 538.354,-53.2485 540.5842,-63.6059 546.5564,-59.9545\"/>\n",
       "</g>\n",
       "<!-- 11 -->\n",
       "<g id=\"node12\" class=\"node\">\n",
       "<title>11</title>\n",
       "<polygon fill=\"#e78c4a\" stroke=\"#000000\" points=\"690,-53 590,-53 590,0 690,0 690,-53\"/>\n",
       "<text text-anchor=\"middle\" x=\"640\" y=\"-37.8\" font-family=\"Times,serif\" font-size=\"14.00\" fill=\"#000000\">mse = 258.693</text>\n",
       "<text text-anchor=\"middle\" x=\"640\" y=\"-22.8\" font-family=\"Times,serif\" font-size=\"14.00\" fill=\"#000000\">samples = 93</text>\n",
       "<text text-anchor=\"middle\" x=\"640\" y=\"-7.8\" font-family=\"Times,serif\" font-size=\"14.00\" fill=\"#000000\">value = 76.591</text>\n",
       "</g>\n",
       "<!-- 9&#45;&gt;11 -->\n",
       "<g id=\"edge11\" class=\"edge\">\n",
       "<title>9&#45;&gt;11</title>\n",
       "<path fill=\"none\" stroke=\"#000000\" d=\"M601.8012,-88.9777C607.1758,-80.187 612.9735,-70.7044 618.3885,-61.8477\"/>\n",
       "<polygon fill=\"#000000\" stroke=\"#000000\" points=\"621.4158,-63.6059 623.646,-53.2485 615.4436,-59.9545 621.4158,-63.6059\"/>\n",
       "</g>\n",
       "<!-- 13 -->\n",
       "<g id=\"node14\" class=\"node\">\n",
       "<title>13</title>\n",
       "<polygon fill=\"#e89051\" stroke=\"#000000\" points=\"807.5,-53 708.5,-53 708.5,0 807.5,0 807.5,-53\"/>\n",
       "<text text-anchor=\"middle\" x=\"758\" y=\"-37.8\" font-family=\"Times,serif\" font-size=\"14.00\" fill=\"#000000\">mse = 399.015</text>\n",
       "<text text-anchor=\"middle\" x=\"758\" y=\"-22.8\" font-family=\"Times,serif\" font-size=\"14.00\" fill=\"#000000\">samples = 79</text>\n",
       "<text text-anchor=\"middle\" x=\"758\" y=\"-7.8\" font-family=\"Times,serif\" font-size=\"14.00\" fill=\"#000000\">value = 75.19</text>\n",
       "</g>\n",
       "<!-- 12&#45;&gt;13 -->\n",
       "<g id=\"edge13\" class=\"edge\">\n",
       "<title>12&#45;&gt;13</title>\n",
       "<path fill=\"none\" stroke=\"#000000\" d=\"M758,-88.9777C758,-80.7364 758,-71.887 758,-63.5153\"/>\n",
       "<polygon fill=\"#000000\" stroke=\"#000000\" points=\"761.5001,-63.2484 758,-53.2485 754.5001,-63.2485 761.5001,-63.2484\"/>\n",
       "</g>\n",
       "<!-- 14 -->\n",
       "<g id=\"node15\" class=\"node\">\n",
       "<title>14</title>\n",
       "<polygon fill=\"#e58139\" stroke=\"#000000\" points=\"926,-53 826,-53 826,0 926,0 926,-53\"/>\n",
       "<text text-anchor=\"middle\" x=\"876\" y=\"-37.8\" font-family=\"Times,serif\" font-size=\"14.00\" fill=\"#000000\">mse = 275.743</text>\n",
       "<text text-anchor=\"middle\" x=\"876\" y=\"-22.8\" font-family=\"Times,serif\" font-size=\"14.00\" fill=\"#000000\">samples = 121</text>\n",
       "<text text-anchor=\"middle\" x=\"876\" y=\"-7.8\" font-family=\"Times,serif\" font-size=\"14.00\" fill=\"#000000\">value = 80.289</text>\n",
       "</g>\n",
       "<!-- 12&#45;&gt;14 -->\n",
       "<g id=\"edge14\" class=\"edge\">\n",
       "<title>12&#45;&gt;14</title>\n",
       "<path fill=\"none\" stroke=\"#000000\" d=\"M799.6024,-88.9777C811.2474,-79.4545 823.8854,-69.1191 835.4675,-59.6473\"/>\n",
       "<polygon fill=\"#000000\" stroke=\"#000000\" points=\"837.7667,-62.2885 843.292,-53.2485 833.3352,-56.8697 837.7667,-62.2885\"/>\n",
       "</g>\n",
       "</g>\n",
       "</svg>\n"
      ],
      "text/plain": [
       "<graphviz.files.Source at 0x111f95050>"
      ]
     },
     "execution_count": 6,
     "metadata": {},
     "output_type": "execute_result"
    }
   ],
   "source": [
    "biden_tree1_viz = export_graphviz(\n",
    "    biden_tree1,\n",
    "    out_file=None,\n",
    "    rounded=False,\n",
    "    filled=True\n",
    ")\n",
    "graph = graphviz.Source(biden_tree1_viz)\n",
    "graph.render(\"biden_tree1_viz\")\n",
    "graph"
   ]
  },
  {
   "cell_type": "markdown",
   "metadata": {},
   "source": [
    "The result shows that the decision tree splits the predictors into eight terminals. The classificatin procedure is shown in the graph above. The first node is `dem`. Then the left branch is splited by `rep` and the right branch is splited by `age`. In the third layer, the four nodes are further divided by `female`, `female`, `educ` and `female`. The overall MSE of the test set is around 396.19. The most accurate prediction is on the the observations with `dem`=1, `age`<=54.5 and `educ` >= 15.5. "
   ]
  },
  {
   "cell_type": "code",
   "execution_count": 7,
   "metadata": {},
   "outputs": [
    {
     "name": "stdout",
     "output_type": "stream",
     "text": [
      "The test MSE is 396.1937146321307.\n"
     ]
    }
   ],
   "source": [
    "y_pred = biden_tree1.predict(X_test)\n",
    "MSE1 = mean_squared_error(y_test, y_pred)\n",
    "print(\"The test MSE is {}.\".format(MSE1))"
   ]
  },
  {
   "cell_type": "markdown",
   "metadata": {},
   "source": [
    "#### (b)"
   ]
  },
  {
   "cell_type": "code",
   "execution_count": 8,
   "metadata": {},
   "outputs": [],
   "source": [
    "from scipy.stats import randint as sp_randint\n",
    "from sklearn.model_selection import RandomizedSearchCV"
   ]
  },
  {
   "cell_type": "code",
   "execution_count": 9,
   "metadata": {},
   "outputs": [],
   "source": [
    "param_dist1 = {\n",
    "    \"max_depth\": [3, 10],\n",
    "    \"min_samples_split\": sp_randint(2, 20),\n",
    "    \"min_samples_leaf\": sp_randint(2, 20)\n",
    "}"
   ]
  },
  {
   "cell_type": "code",
   "execution_count": 10,
   "metadata": {
    "scrolled": true
   },
   "outputs": [],
   "source": [
    "biden_tree2 = DecisionTreeRegressor()\n",
    "random_search1 = RandomizedSearchCV(\n",
    "    biden_tree2,\n",
    "    param_distributions=param_dist1,\n",
    "    n_iter=100,\n",
    "    n_jobs=-1,\n",
    "    cv=5,\n",
    "    random_state=25,\n",
    "    scoring=\"neg_mean_squared_error\"\n",
    ")"
   ]
  },
  {
   "cell_type": "markdown",
   "metadata": {},
   "source": [
    "The result of the training dataset is as follows:"
   ]
  },
  {
   "cell_type": "code",
   "execution_count": 11,
   "metadata": {},
   "outputs": [
    {
     "data": {
      "text/plain": [
       "RandomizedSearchCV(cv=5, error_score='raise-deprecating',\n",
       "                   estimator=DecisionTreeRegressor(criterion='mse',\n",
       "                                                   max_depth=None,\n",
       "                                                   max_features=None,\n",
       "                                                   max_leaf_nodes=None,\n",
       "                                                   min_impurity_decrease=0.0,\n",
       "                                                   min_impurity_split=None,\n",
       "                                                   min_samples_leaf=1,\n",
       "                                                   min_samples_split=2,\n",
       "                                                   min_weight_fraction_leaf=0.0,\n",
       "                                                   presort=False,\n",
       "                                                   random_state=None,\n",
       "                                                   splitter='best'),\n",
       "                   iid='warn', n_iter=100, n_jobs=-1,\n",
       "                   param_distributions={'max_depth': [3, 10],\n",
       "                                        'min_samples_leaf': <scipy.stats._distn_infrastructure.rv_frozen object at 0x1a22d54dd0>,\n",
       "                                        'min_samples_split': <scipy.stats._distn_infrastructure.rv_frozen object at 0x1a22d54d90>},\n",
       "                   pre_dispatch='2*n_jobs', random_state=25, refit=True,\n",
       "                   return_train_score=False, scoring='neg_mean_squared_error',\n",
       "                   verbose=0)"
      ]
     },
     "execution_count": 11,
     "metadata": {},
     "output_type": "execute_result"
    }
   ],
   "source": [
    "result1 = random_search1.fit(X_train, y_train)\n",
    "result1"
   ]
  },
  {
   "cell_type": "code",
   "execution_count": 12,
   "metadata": {},
   "outputs": [
    {
     "name": "stdout",
     "output_type": "stream",
     "text": [
      "The optimal tuning parameter values is {'max_depth': 3, 'min_samples_leaf': 2, 'min_samples_split': 9}.\n"
     ]
    }
   ],
   "source": [
    "print(\"The optimal tuning parameter values is {}.\".format(result1.best_params_))"
   ]
  },
  {
   "cell_type": "code",
   "execution_count": 13,
   "metadata": {},
   "outputs": [
    {
     "name": "stdout",
     "output_type": "stream",
     "text": [
      "The MSE of the optimal result is 404.7488359884144.\n"
     ]
    }
   ],
   "source": [
    "print(\"The MSE of the optimal result is {}.\".format(-result1.best_score_))"
   ]
  },
  {
   "cell_type": "markdown",
   "metadata": {},
   "source": [
    "The result of the whole dataset is as follows:"
   ]
  },
  {
   "cell_type": "code",
   "execution_count": 14,
   "metadata": {},
   "outputs": [
    {
     "data": {
      "text/plain": [
       "RandomizedSearchCV(cv=5, error_score='raise-deprecating',\n",
       "                   estimator=DecisionTreeRegressor(criterion='mse',\n",
       "                                                   max_depth=None,\n",
       "                                                   max_features=None,\n",
       "                                                   max_leaf_nodes=None,\n",
       "                                                   min_impurity_decrease=0.0,\n",
       "                                                   min_impurity_split=None,\n",
       "                                                   min_samples_leaf=1,\n",
       "                                                   min_samples_split=2,\n",
       "                                                   min_weight_fraction_leaf=0.0,\n",
       "                                                   presort=False,\n",
       "                                                   random_state=None,\n",
       "                                                   splitter='best'),\n",
       "                   iid='warn', n_iter=100, n_jobs=-1,\n",
       "                   param_distributions={'max_depth': [3, 10],\n",
       "                                        'min_samples_leaf': <scipy.stats._distn_infrastructure.rv_frozen object at 0x1a22d54dd0>,\n",
       "                                        'min_samples_split': <scipy.stats._distn_infrastructure.rv_frozen object at 0x1a22d54d90>},\n",
       "                   pre_dispatch='2*n_jobs', random_state=25, refit=True,\n",
       "                   return_train_score=False, scoring='neg_mean_squared_error',\n",
       "                   verbose=0)"
      ]
     },
     "execution_count": 14,
     "metadata": {},
     "output_type": "execute_result"
    }
   ],
   "source": [
    "result2 = random_search1.fit(X, y)\n",
    "result2"
   ]
  },
  {
   "cell_type": "code",
   "execution_count": 15,
   "metadata": {},
   "outputs": [
    {
     "name": "stdout",
     "output_type": "stream",
     "text": [
      "The optimal tuning parameter values is {'max_depth': 3, 'min_samples_leaf': 17, 'min_samples_split': 14}.\n"
     ]
    }
   ],
   "source": [
    "print(\"The optimal tuning parameter values is {}.\".format(result2.best_params_))"
   ]
  },
  {
   "cell_type": "code",
   "execution_count": 16,
   "metadata": {},
   "outputs": [
    {
     "name": "stdout",
     "output_type": "stream",
     "text": [
      "The MSE of the optimal result is 401.6903602232667.\n"
     ]
    }
   ],
   "source": [
    "print(\"The MSE of the optimal result is {}.\".format(-result2.best_score_))"
   ]
  },
  {
   "cell_type": "markdown",
   "metadata": {},
   "source": [
    "#### (c)"
   ]
  },
  {
   "cell_type": "code",
   "execution_count": 17,
   "metadata": {},
   "outputs": [],
   "source": [
    "param_dist2 = {\n",
    "    \"n_estimators\": [10, 200],\n",
    "    \"max_depth\": [3, 10],\n",
    "    \"min_samples_split\": sp_randint(2, 20),\n",
    "    \"min_samples_leaf\": sp_randint(2, 20),\n",
    "    \"max_features\": sp_randint(1, 5)\n",
    "}"
   ]
  },
  {
   "cell_type": "code",
   "execution_count": 18,
   "metadata": {},
   "outputs": [],
   "source": [
    "biden_tree3 = RandomForestRegressor()\n",
    "random_search2 = RandomizedSearchCV(\n",
    "    biden_tree3,\n",
    "    param_distributions=param_dist2,\n",
    "    n_iter=100,\n",
    "    n_jobs=-1,\n",
    "    cv=5,\n",
    "    random_state=25,\n",
    "    scoring=\"neg_mean_squared_error\"\n",
    ")"
   ]
  },
  {
   "cell_type": "markdown",
   "metadata": {},
   "source": [
    "The result of the training dataset is as follows:"
   ]
  },
  {
   "cell_type": "code",
   "execution_count": 19,
   "metadata": {
    "scrolled": true
   },
   "outputs": [
    {
     "data": {
      "text/plain": [
       "RandomizedSearchCV(cv=5, error_score='raise-deprecating',\n",
       "                   estimator=RandomForestRegressor(bootstrap=True,\n",
       "                                                   criterion='mse',\n",
       "                                                   max_depth=None,\n",
       "                                                   max_features='auto',\n",
       "                                                   max_leaf_nodes=None,\n",
       "                                                   min_impurity_decrease=0.0,\n",
       "                                                   min_impurity_split=None,\n",
       "                                                   min_samples_leaf=1,\n",
       "                                                   min_samples_split=2,\n",
       "                                                   min_weight_fraction_leaf=0.0,\n",
       "                                                   n_estimators='warn',\n",
       "                                                   n_jobs=None, oob_score=False,\n",
       "                                                   random_sta...\n",
       "                                        'max_features': <scipy.stats._distn_infrastructure.rv_frozen object at 0x1a22dd5a10>,\n",
       "                                        'min_samples_leaf': <scipy.stats._distn_infrastructure.rv_frozen object at 0x1a22dd57d0>,\n",
       "                                        'min_samples_split': <scipy.stats._distn_infrastructure.rv_frozen object at 0x1a22eb47d0>,\n",
       "                                        'n_estimators': [10, 200]},\n",
       "                   pre_dispatch='2*n_jobs', random_state=25, refit=True,\n",
       "                   return_train_score=False, scoring='neg_mean_squared_error',\n",
       "                   verbose=0)"
      ]
     },
     "execution_count": 19,
     "metadata": {},
     "output_type": "execute_result"
    }
   ],
   "source": [
    "result3 = random_search2.fit(X_train, y_train)\n",
    "result3"
   ]
  },
  {
   "cell_type": "code",
   "execution_count": 20,
   "metadata": {},
   "outputs": [
    {
     "name": "stdout",
     "output_type": "stream",
     "text": [
      "The optimal tuning parameter values is {'max_depth': 3, 'max_features': 3, 'min_samples_leaf': 19, 'min_samples_split': 2, 'n_estimators': 200}.\n"
     ]
    }
   ],
   "source": [
    "print(\"The optimal tuning parameter values is {}.\".format(result3.best_params_))"
   ]
  },
  {
   "cell_type": "code",
   "execution_count": 21,
   "metadata": {},
   "outputs": [
    {
     "name": "stdout",
     "output_type": "stream",
     "text": [
      "The MSE of the optimal result is 397.523140123435.\n"
     ]
    }
   ],
   "source": [
    "print(\"The MSE of the optimal result is {}.\".format(-result3.best_score_))"
   ]
  },
  {
   "cell_type": "markdown",
   "metadata": {},
   "source": [
    "The result of the whole dataset is as follows:"
   ]
  },
  {
   "cell_type": "code",
   "execution_count": 22,
   "metadata": {},
   "outputs": [
    {
     "data": {
      "text/plain": [
       "RandomizedSearchCV(cv=5, error_score='raise-deprecating',\n",
       "                   estimator=RandomForestRegressor(bootstrap=True,\n",
       "                                                   criterion='mse',\n",
       "                                                   max_depth=None,\n",
       "                                                   max_features='auto',\n",
       "                                                   max_leaf_nodes=None,\n",
       "                                                   min_impurity_decrease=0.0,\n",
       "                                                   min_impurity_split=None,\n",
       "                                                   min_samples_leaf=1,\n",
       "                                                   min_samples_split=2,\n",
       "                                                   min_weight_fraction_leaf=0.0,\n",
       "                                                   n_estimators='warn',\n",
       "                                                   n_jobs=None, oob_score=False,\n",
       "                                                   random_sta...\n",
       "                                        'max_features': <scipy.stats._distn_infrastructure.rv_frozen object at 0x1a22dd5a10>,\n",
       "                                        'min_samples_leaf': <scipy.stats._distn_infrastructure.rv_frozen object at 0x1a22dd57d0>,\n",
       "                                        'min_samples_split': <scipy.stats._distn_infrastructure.rv_frozen object at 0x1a22eb47d0>,\n",
       "                                        'n_estimators': [10, 200]},\n",
       "                   pre_dispatch='2*n_jobs', random_state=25, refit=True,\n",
       "                   return_train_score=False, scoring='neg_mean_squared_error',\n",
       "                   verbose=0)"
      ]
     },
     "execution_count": 22,
     "metadata": {},
     "output_type": "execute_result"
    }
   ],
   "source": [
    "result4 = random_search2.fit(X, y)\n",
    "result4"
   ]
  },
  {
   "cell_type": "code",
   "execution_count": 23,
   "metadata": {},
   "outputs": [
    {
     "name": "stdout",
     "output_type": "stream",
     "text": [
      "The optimal tuning parameter values is {'max_depth': 3, 'max_features': 3, 'min_samples_leaf': 17, 'min_samples_split': 12, 'n_estimators': 200}.\n"
     ]
    }
   ],
   "source": [
    "print(\"The optimal tuning parameter values is {}.\".format(result4.best_params_))"
   ]
  },
  {
   "cell_type": "code",
   "execution_count": 24,
   "metadata": {},
   "outputs": [
    {
     "name": "stdout",
     "output_type": "stream",
     "text": [
      "The MSE of the optimal result is 397.09216645538623.\n"
     ]
    }
   ],
   "source": [
    "print(\"The MSE of the optimal result is {}.\".format(-result4.best_score_))"
   ]
  },
  {
   "cell_type": "markdown",
   "metadata": {},
   "source": [
    "### Question 2"
   ]
  },
  {
   "cell_type": "markdown",
   "metadata": {},
   "source": [
    "#### (a)"
   ]
  },
  {
   "cell_type": "code",
   "execution_count": 25,
   "metadata": {},
   "outputs": [],
   "source": [
    "from sklearn.linear_model import LogisticRegression\n",
    "from sklearn.model_selection import KFold"
   ]
  },
  {
   "cell_type": "code",
   "execution_count": 26,
   "metadata": {},
   "outputs": [
    {
     "data": {
      "text/html": [
       "<div>\n",
       "<style scoped>\n",
       "    .dataframe tbody tr th:only-of-type {\n",
       "        vertical-align: middle;\n",
       "    }\n",
       "\n",
       "    .dataframe tbody tr th {\n",
       "        vertical-align: top;\n",
       "    }\n",
       "\n",
       "    .dataframe thead th {\n",
       "        text-align: right;\n",
       "    }\n",
       "</style>\n",
       "<table border=\"1\" class=\"dataframe\">\n",
       "  <thead>\n",
       "    <tr style=\"text-align: right;\">\n",
       "      <th></th>\n",
       "      <th>mpg</th>\n",
       "      <th>cylinders</th>\n",
       "      <th>displacement</th>\n",
       "      <th>horsepower</th>\n",
       "      <th>weight</th>\n",
       "      <th>acceleration</th>\n",
       "      <th>year</th>\n",
       "      <th>origin</th>\n",
       "      <th>name</th>\n",
       "    </tr>\n",
       "  </thead>\n",
       "  <tbody>\n",
       "    <tr>\n",
       "      <td>0</td>\n",
       "      <td>18.0</td>\n",
       "      <td>8</td>\n",
       "      <td>307.0</td>\n",
       "      <td>130.0</td>\n",
       "      <td>3504</td>\n",
       "      <td>12.0</td>\n",
       "      <td>70</td>\n",
       "      <td>1</td>\n",
       "      <td>chevrolet chevelle malibu</td>\n",
       "    </tr>\n",
       "    <tr>\n",
       "      <td>1</td>\n",
       "      <td>15.0</td>\n",
       "      <td>8</td>\n",
       "      <td>350.0</td>\n",
       "      <td>165.0</td>\n",
       "      <td>3693</td>\n",
       "      <td>11.5</td>\n",
       "      <td>70</td>\n",
       "      <td>1</td>\n",
       "      <td>buick skylark 320</td>\n",
       "    </tr>\n",
       "    <tr>\n",
       "      <td>2</td>\n",
       "      <td>18.0</td>\n",
       "      <td>8</td>\n",
       "      <td>318.0</td>\n",
       "      <td>150.0</td>\n",
       "      <td>3436</td>\n",
       "      <td>11.0</td>\n",
       "      <td>70</td>\n",
       "      <td>1</td>\n",
       "      <td>plymouth satellite</td>\n",
       "    </tr>\n",
       "    <tr>\n",
       "      <td>3</td>\n",
       "      <td>16.0</td>\n",
       "      <td>8</td>\n",
       "      <td>304.0</td>\n",
       "      <td>150.0</td>\n",
       "      <td>3433</td>\n",
       "      <td>12.0</td>\n",
       "      <td>70</td>\n",
       "      <td>1</td>\n",
       "      <td>amc rebel sst</td>\n",
       "    </tr>\n",
       "    <tr>\n",
       "      <td>4</td>\n",
       "      <td>17.0</td>\n",
       "      <td>8</td>\n",
       "      <td>302.0</td>\n",
       "      <td>140.0</td>\n",
       "      <td>3449</td>\n",
       "      <td>10.5</td>\n",
       "      <td>70</td>\n",
       "      <td>1</td>\n",
       "      <td>ford torino</td>\n",
       "    </tr>\n",
       "  </tbody>\n",
       "</table>\n",
       "</div>"
      ],
      "text/plain": [
       "    mpg  cylinders  displacement  horsepower  weight  acceleration  year  \\\n",
       "0  18.0          8         307.0       130.0    3504          12.0    70   \n",
       "1  15.0          8         350.0       165.0    3693          11.5    70   \n",
       "2  18.0          8         318.0       150.0    3436          11.0    70   \n",
       "3  16.0          8         304.0       150.0    3433          12.0    70   \n",
       "4  17.0          8         302.0       140.0    3449          10.5    70   \n",
       "\n",
       "   origin                       name  \n",
       "0       1  chevrolet chevelle malibu  \n",
       "1       1          buick skylark 320  \n",
       "2       1         plymouth satellite  \n",
       "3       1              amc rebel sst  \n",
       "4       1                ford torino  "
      ]
     },
     "execution_count": 26,
     "metadata": {},
     "output_type": "execute_result"
    }
   ],
   "source": [
    "auto = pd.read_csv(\"Auto.csv\", na_values=\"?\")\n",
    "auto.dropna(inplace=True)\n",
    "auto.head()"
   ]
  },
  {
   "cell_type": "code",
   "execution_count": 27,
   "metadata": {
    "scrolled": true
   },
   "outputs": [
    {
     "data": {
      "text/html": [
       "<div>\n",
       "<style scoped>\n",
       "    .dataframe tbody tr th:only-of-type {\n",
       "        vertical-align: middle;\n",
       "    }\n",
       "\n",
       "    .dataframe tbody tr th {\n",
       "        vertical-align: top;\n",
       "    }\n",
       "\n",
       "    .dataframe thead th {\n",
       "        text-align: right;\n",
       "    }\n",
       "</style>\n",
       "<table border=\"1\" class=\"dataframe\">\n",
       "  <thead>\n",
       "    <tr style=\"text-align: right;\">\n",
       "      <th></th>\n",
       "      <th>mpg</th>\n",
       "      <th>cylinders</th>\n",
       "      <th>displacement</th>\n",
       "      <th>horsepower</th>\n",
       "      <th>weight</th>\n",
       "      <th>acceleration</th>\n",
       "      <th>year</th>\n",
       "      <th>origin</th>\n",
       "      <th>name</th>\n",
       "      <th>mpg_high</th>\n",
       "      <th>orgn1</th>\n",
       "      <th>orgn2</th>\n",
       "    </tr>\n",
       "  </thead>\n",
       "  <tbody>\n",
       "    <tr>\n",
       "      <td>0</td>\n",
       "      <td>18.0</td>\n",
       "      <td>8</td>\n",
       "      <td>307.0</td>\n",
       "      <td>130.0</td>\n",
       "      <td>3504</td>\n",
       "      <td>12.0</td>\n",
       "      <td>70</td>\n",
       "      <td>1</td>\n",
       "      <td>chevrolet chevelle malibu</td>\n",
       "      <td>0</td>\n",
       "      <td>1</td>\n",
       "      <td>0</td>\n",
       "    </tr>\n",
       "    <tr>\n",
       "      <td>1</td>\n",
       "      <td>15.0</td>\n",
       "      <td>8</td>\n",
       "      <td>350.0</td>\n",
       "      <td>165.0</td>\n",
       "      <td>3693</td>\n",
       "      <td>11.5</td>\n",
       "      <td>70</td>\n",
       "      <td>1</td>\n",
       "      <td>buick skylark 320</td>\n",
       "      <td>0</td>\n",
       "      <td>1</td>\n",
       "      <td>0</td>\n",
       "    </tr>\n",
       "    <tr>\n",
       "      <td>2</td>\n",
       "      <td>18.0</td>\n",
       "      <td>8</td>\n",
       "      <td>318.0</td>\n",
       "      <td>150.0</td>\n",
       "      <td>3436</td>\n",
       "      <td>11.0</td>\n",
       "      <td>70</td>\n",
       "      <td>1</td>\n",
       "      <td>plymouth satellite</td>\n",
       "      <td>0</td>\n",
       "      <td>1</td>\n",
       "      <td>0</td>\n",
       "    </tr>\n",
       "    <tr>\n",
       "      <td>3</td>\n",
       "      <td>16.0</td>\n",
       "      <td>8</td>\n",
       "      <td>304.0</td>\n",
       "      <td>150.0</td>\n",
       "      <td>3433</td>\n",
       "      <td>12.0</td>\n",
       "      <td>70</td>\n",
       "      <td>1</td>\n",
       "      <td>amc rebel sst</td>\n",
       "      <td>0</td>\n",
       "      <td>1</td>\n",
       "      <td>0</td>\n",
       "    </tr>\n",
       "    <tr>\n",
       "      <td>4</td>\n",
       "      <td>17.0</td>\n",
       "      <td>8</td>\n",
       "      <td>302.0</td>\n",
       "      <td>140.0</td>\n",
       "      <td>3449</td>\n",
       "      <td>10.5</td>\n",
       "      <td>70</td>\n",
       "      <td>1</td>\n",
       "      <td>ford torino</td>\n",
       "      <td>0</td>\n",
       "      <td>1</td>\n",
       "      <td>0</td>\n",
       "    </tr>\n",
       "  </tbody>\n",
       "</table>\n",
       "</div>"
      ],
      "text/plain": [
       "    mpg  cylinders  displacement  horsepower  weight  acceleration  year  \\\n",
       "0  18.0          8         307.0       130.0    3504          12.0    70   \n",
       "1  15.0          8         350.0       165.0    3693          11.5    70   \n",
       "2  18.0          8         318.0       150.0    3436          11.0    70   \n",
       "3  16.0          8         304.0       150.0    3433          12.0    70   \n",
       "4  17.0          8         302.0       140.0    3449          10.5    70   \n",
       "\n",
       "   origin                       name  mpg_high  orgn1  orgn2  \n",
       "0       1  chevrolet chevelle malibu         0      1      0  \n",
       "1       1          buick skylark 320         0      1      0  \n",
       "2       1         plymouth satellite         0      1      0  \n",
       "3       1              amc rebel sst         0      1      0  \n",
       "4       1                ford torino         0      1      0  "
      ]
     },
     "execution_count": 27,
     "metadata": {},
     "output_type": "execute_result"
    }
   ],
   "source": [
    "mask1 = auto[\"mpg\"] >= auto[\"mpg\"].median()\n",
    "auto[\"mpg_high\"] = np.where(mask1, 1, 0)\n",
    "\n",
    "orig_mask1 = auto[\"origin\"] == 1\n",
    "auto[\"orgn1\"] = np.where(orig_mask1, 1, 0)\n",
    "\n",
    "orig_mask2 = auto[\"origin\"] == 2\n",
    "auto[\"orgn2\"] = np.where(orig_mask2, 1, 0)\n",
    "\n",
    "auto.head()"
   ]
  },
  {
   "cell_type": "code",
   "execution_count": 28,
   "metadata": {},
   "outputs": [],
   "source": [
    "Xvars = auto[[\"cylinders\", \"displacement\", \"horsepower\", \n",
    "          \"weight\", \"acceleration\", \"year\", \"orgn1\", \"orgn2\"]].values\n",
    "yvars = auto[\"mpg_high\"].values"
   ]
  },
  {
   "cell_type": "code",
   "execution_count": 29,
   "metadata": {
    "scrolled": true
   },
   "outputs": [
    {
     "name": "stdout",
     "output_type": "stream",
     "text": [
      "k index is 0.\n",
      "MSE of the test set 0 is 0.14285714285714285.\n",
      "Error rate of mpg_high=0 of the test set 0 is 0.13953488372093023.\n",
      "Error rate of mpg_high=1 of the test set 0 is 0.14545454545454545.\n",
      "\n",
      "\n",
      "k index is 1.\n",
      "MSE of the test set 1 is 0.09183673469387756.\n",
      "Error rate of mpg_high=0 of the test set 1 is 0.10526315789473684.\n",
      "Error rate of mpg_high=1 of the test set 1 is 0.07317073170731707.\n",
      "\n",
      "\n",
      "k index is 2.\n",
      "MSE of the test set 2 is 0.07142857142857142.\n",
      "Error rate of mpg_high=0 of the test set 2 is 0.09615384615384616.\n",
      "Error rate of mpg_high=1 of the test set 2 is 0.043478260869565216.\n",
      "\n",
      "\n",
      "k index is 3.\n",
      "MSE of the test set 3 is 0.08163265306122448.\n",
      "Error rate of mpg_high=0 of the test set 3 is 0.11363636363636363.\n",
      "Error rate of mpg_high=1 of the test set 3 is 0.05555555555555555.\n",
      "\n",
      "\n"
     ]
    }
   ],
   "source": [
    "k = 4\n",
    "kf_log = KFold(n_splits=4, shuffle=True, random_state=25)\n",
    "err_vec0 = np.zeros(k)\n",
    "err_vec1 = np.zeros(k)\n",
    "MSE_vec_kf = np.zeros(k)\n",
    "kf_log.get_n_splits(Xvars)\n",
    "\n",
    "N_loo = Xvars.shape[0]\n",
    "y_test_arr = np.zeros(N_loo)\n",
    "y_pred_arr = np.zeros(N_loo)\n",
    "\n",
    "k_ind = int(0)\n",
    "for train_index, test_index in kf_log.split(Xvars):\n",
    "    print(\"k index is {}.\".format(k_ind))\n",
    "    X_train, X_test = Xvars[train_index], Xvars[test_index]\n",
    "    y_train, y_test = yvars[train_index], yvars[test_index]\n",
    "    \n",
    "    LogReg = LogisticRegression()\n",
    "    LogReg.fit(X_train, y_train)\n",
    "    y_pred = LogReg.predict(X_test)\n",
    "    \n",
    "    err_pred0 = np.sum((y_test == 0) & (y_test != y_pred)) / np.sum(y_test == 0)\n",
    "    err_pred1 = np.sum((y_test == 1) & (y_test != y_pred)) / np.sum(y_test == 1)\n",
    "    err_vec0[k_ind] = err_pred0\n",
    "    err_vec1[k_ind] = err_pred1\n",
    "\n",
    "    MSE_vec_kf[k_ind] = (y_test != y_pred).mean()\n",
    "    \n",
    "    print(\"MSE of the test set\", k_ind, \"is {}.\".format(MSE_vec_kf[k_ind]))\n",
    "    print(\"Error rate of mpg_high=0 of the test set\", k_ind, \"is {}.\".format(err_pred0))\n",
    "    print(\"Error rate of mpg_high=1 of the test set\", k_ind, \"is {}.\".format(err_pred1))\n",
    "    \n",
    "    k_ind += 1\n",
    "    print(\"\\n\")"
   ]
  },
  {
   "cell_type": "code",
   "execution_count": 30,
   "metadata": {},
   "outputs": [
    {
     "name": "stdout",
     "output_type": "stream",
     "text": [
      "The MSE of the model is 0.09693877551020408.\n",
      "The error rate of mpg_high=0 of the model is 0.11364706285146922.\n",
      "The error rate of mpg_high=1 of the model is 0.07941477339674582.\n"
     ]
    }
   ],
   "source": [
    "MSE_kf = MSE_vec_kf.mean()\n",
    "err_0 = err_vec0.mean()\n",
    "err_1 = err_vec1.mean()\n",
    "print(\"The MSE of the model is {}.\".format(MSE_kf))\n",
    "print(\"The error rate of mpg_high=0 of the model is {}.\".format(err_0))\n",
    "print(\"The error rate of mpg_high=1 of the model is {}.\".format(err_1))"
   ]
  },
  {
   "cell_type": "markdown",
   "metadata": {},
   "source": [
    "#### (b)"
   ]
  },
  {
   "cell_type": "code",
   "execution_count": 31,
   "metadata": {},
   "outputs": [],
   "source": [
    "param_dist3 = {\n",
    "    \"n_estimators\": [10, 200],\n",
    "    \"max_depth\": [3, 8],\n",
    "    \"min_samples_split\": sp_randint(2, 20),\n",
    "    \"min_samples_leaf\": sp_randint(2, 20),\n",
    "    \"max_features\": sp_randint(1, 8)\n",
    "}"
   ]
  },
  {
   "cell_type": "code",
   "execution_count": 32,
   "metadata": {},
   "outputs": [],
   "source": [
    "auto_tree = RandomForestRegressor()\n",
    "random_search3 = RandomizedSearchCV(\n",
    "    auto_tree,\n",
    "    param_distributions=param_dist3,\n",
    "    n_iter=100,\n",
    "    n_jobs=-1,\n",
    "    cv=4,\n",
    "    random_state=25,\n",
    "    scoring=\"neg_mean_squared_error\"\n",
    ")"
   ]
  },
  {
   "cell_type": "markdown",
   "metadata": {},
   "source": [
    "The result of the whole dataset is as follows:"
   ]
  },
  {
   "cell_type": "code",
   "execution_count": 33,
   "metadata": {},
   "outputs": [
    {
     "data": {
      "text/plain": [
       "RandomizedSearchCV(cv=4, error_score='raise-deprecating',\n",
       "                   estimator=RandomForestRegressor(bootstrap=True,\n",
       "                                                   criterion='mse',\n",
       "                                                   max_depth=None,\n",
       "                                                   max_features='auto',\n",
       "                                                   max_leaf_nodes=None,\n",
       "                                                   min_impurity_decrease=0.0,\n",
       "                                                   min_impurity_split=None,\n",
       "                                                   min_samples_leaf=1,\n",
       "                                                   min_samples_split=2,\n",
       "                                                   min_weight_fraction_leaf=0.0,\n",
       "                                                   n_estimators='warn',\n",
       "                                                   n_jobs=None, oob_score=False,\n",
       "                                                   random_sta...\n",
       "                                        'max_features': <scipy.stats._distn_infrastructure.rv_frozen object at 0x1a22f61d50>,\n",
       "                                        'min_samples_leaf': <scipy.stats._distn_infrastructure.rv_frozen object at 0x1a22f61bd0>,\n",
       "                                        'min_samples_split': <scipy.stats._distn_infrastructure.rv_frozen object at 0x1a22f61150>,\n",
       "                                        'n_estimators': [10, 200]},\n",
       "                   pre_dispatch='2*n_jobs', random_state=25, refit=True,\n",
       "                   return_train_score=False, scoring='neg_mean_squared_error',\n",
       "                   verbose=0)"
      ]
     },
     "execution_count": 33,
     "metadata": {},
     "output_type": "execute_result"
    }
   ],
   "source": [
    "result5 = random_search3.fit(Xvars, yvars)\n",
    "result5"
   ]
  },
  {
   "cell_type": "code",
   "execution_count": 34,
   "metadata": {},
   "outputs": [
    {
     "name": "stdout",
     "output_type": "stream",
     "text": [
      "The optimal tuning parameter values is {'max_depth': 8, 'max_features': 1, 'min_samples_leaf': 4, 'min_samples_split': 4, 'n_estimators': 10}.\n"
     ]
    }
   ],
   "source": [
    "print(\"The optimal tuning parameter values is {}.\".format(result5.best_params_))"
   ]
  },
  {
   "cell_type": "code",
   "execution_count": 35,
   "metadata": {},
   "outputs": [
    {
     "name": "stdout",
     "output_type": "stream",
     "text": [
      "The MSE of the optimal result is 0.09389724217883406.\n"
     ]
    }
   ],
   "source": [
    "print(\"The MSE of the optimal result is {}.\".format(-result5.best_score_))"
   ]
  },
  {
   "cell_type": "markdown",
   "metadata": {},
   "source": [
    "#### (c)"
   ]
  },
  {
   "cell_type": "code",
   "execution_count": 36,
   "metadata": {},
   "outputs": [],
   "source": [
    "from sklearn.svm import SVC\n",
    "from scipy.stats import uniform as sp_uniform"
   ]
  },
  {
   "cell_type": "code",
   "execution_count": 37,
   "metadata": {},
   "outputs": [],
   "source": [
    "param_dist4 = {\n",
    "    \"C\": sp_uniform(loc=0.2, scale=4.0),\n",
    "    \"gamma\": [\"scale\", \"auto\"],\n",
    "    \"shrinking\": [True, False]\n",
    "}"
   ]
  },
  {
   "cell_type": "code",
   "execution_count": 38,
   "metadata": {},
   "outputs": [],
   "source": [
    "auto_svc = SVC(kernel=\"rbf\")\n",
    "random_search4 = RandomizedSearchCV(\n",
    "    auto_svc,\n",
    "    param_distributions=param_dist4,\n",
    "    n_iter=100,\n",
    "    n_jobs=-1,\n",
    "    cv=4,\n",
    "    random_state=25,\n",
    "    scoring=\"neg_mean_squared_error\"\n",
    ")"
   ]
  },
  {
   "cell_type": "markdown",
   "metadata": {},
   "source": [
    "The result of the whole dataset is as follows:"
   ]
  },
  {
   "cell_type": "code",
   "execution_count": 39,
   "metadata": {},
   "outputs": [
    {
     "data": {
      "text/plain": [
       "RandomizedSearchCV(cv=4, error_score='raise-deprecating',\n",
       "                   estimator=SVC(C=1.0, cache_size=200, class_weight=None,\n",
       "                                 coef0=0.0, decision_function_shape='ovr',\n",
       "                                 degree=3, gamma='auto_deprecated',\n",
       "                                 kernel='rbf', max_iter=-1, probability=False,\n",
       "                                 random_state=None, shrinking=True, tol=0.001,\n",
       "                                 verbose=False),\n",
       "                   iid='warn', n_iter=100, n_jobs=-1,\n",
       "                   param_distributions={'C': <scipy.stats._distn_infrastructure.rv_frozen object at 0x1a22d6bcd0>,\n",
       "                                        'gamma': ['scale', 'auto'],\n",
       "                                        'shrinking': [True, False]},\n",
       "                   pre_dispatch='2*n_jobs', random_state=25, refit=True,\n",
       "                   return_train_score=False, scoring='neg_mean_squared_error',\n",
       "                   verbose=0)"
      ]
     },
     "execution_count": 39,
     "metadata": {},
     "output_type": "execute_result"
    }
   ],
   "source": [
    "result6 = random_search4.fit(Xvars, yvars)\n",
    "result6"
   ]
  },
  {
   "cell_type": "code",
   "execution_count": 40,
   "metadata": {},
   "outputs": [
    {
     "name": "stdout",
     "output_type": "stream",
     "text": [
      "The optimal tuning parameter values is {'C': 1.8094629152568114, 'gamma': 'scale', 'shrinking': False}.\n"
     ]
    }
   ],
   "source": [
    "print(\"The optimal tuning parameter values is {}.\".format(result6.best_params_))"
   ]
  },
  {
   "cell_type": "code",
   "execution_count": 41,
   "metadata": {},
   "outputs": [
    {
     "name": "stdout",
     "output_type": "stream",
     "text": [
      "The MSE of the optimal result is 0.11989795918367346.\n"
     ]
    }
   ],
   "source": [
    "print(\"The MSE of the optimal result is {}.\".format(-result6.best_score_))"
   ]
  },
  {
   "cell_type": "markdown",
   "metadata": {},
   "source": [
    "#### (d)"
   ]
  },
  {
   "cell_type": "code",
   "execution_count": 42,
   "metadata": {},
   "outputs": [
    {
     "name": "stdout",
     "output_type": "stream",
     "text": [
      "MSE of logistic regression model:  0.09693877551020408\n",
      "MSE of random forest classifier:  0.09389724217883406\n",
      "MSE of support vector machine:  0.11989795918367346\n"
     ]
    }
   ],
   "source": [
    "print(\"MSE of logistic regression model: \", MSE_kf)\n",
    "print(\"MSE of random forest classifier: \", -result5.best_score_)\n",
    "print(\"MSE of support vector machine: \", -result6.best_score_)"
   ]
  },
  {
   "cell_type": "markdown",
   "metadata": {},
   "source": [
    "According to the MSE statistics above, the **random forest classifier** is the best predictor of `mpg_high` since the model has the smallest MSE."
   ]
  }
 ],
 "metadata": {
  "kernelspec": {
   "display_name": "Python 3",
   "language": "python",
   "name": "python3"
  },
  "language_info": {
   "codemirror_mode": {
    "name": "ipython",
    "version": 3
   },
   "file_extension": ".py",
   "mimetype": "text/x-python",
   "name": "python",
   "nbconvert_exporter": "python",
   "pygments_lexer": "ipython3",
   "version": "3.7.4"
  }
 },
 "nbformat": 4,
 "nbformat_minor": 2
}
