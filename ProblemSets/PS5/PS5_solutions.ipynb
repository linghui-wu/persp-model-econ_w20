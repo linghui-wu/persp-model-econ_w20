{
 "cells": [
  {
   "cell_type": "markdown",
   "metadata": {},
   "source": [
    "## Problem Set #[5]\n",
    "MACS 30150, Dr. Evans\n",
    "\n",
    "Linghui Wu"
   ]
  },
  {
   "cell_type": "markdown",
   "metadata": {},
   "source": [
    "### Question 1"
   ]
  },
  {
   "cell_type": "code",
   "execution_count": 1,
   "metadata": {},
   "outputs": [],
   "source": [
    "# Import the necessary packages\n",
    "import numpy as np \n",
    "import pandas as pd\n",
    "import numpy.linalg as lin \n",
    "import scipy.stats as sts \n",
    "import scipy.integrate as intgr \n",
    "import scipy.optimize as opt \n",
    "import matplotlib.pyplot as plt \n",
    "import warnings \n",
    "warnings.filterwarnings(\"ignore\")"
   ]
  },
  {
   "cell_type": "markdown",
   "metadata": {},
   "source": [
    "#### (a)"
   ]
  },
  {
   "cell_type": "code",
   "execution_count": 2,
   "metadata": {
    "scrolled": false
   },
   "outputs": [
    {
     "data": {
      "text/plain": [
       "array([ 53711.54439888,  99731.23334901,  84773.60541676,  75184.025931  ,\n",
       "        73390.9559334 ,  77276.56474964,  82597.32702898,  76098.11372822,\n",
       "        91850.97696668,  71750.0904012 ,  78839.14719934,  76488.842497  ,\n",
       "        98425.21508839,  89179.46995662,  69270.14146077,  98745.58813476,\n",
       "        99678.12106606, 130562.89791757,  96611.47162489, 107722.74557525,\n",
       "        89815.6930569 ,  64096.00766797, 100953.33883423, 139079.35154872,\n",
       "        56620.60756267,  93887.32671771,  54443.1018241 ,  72214.43571941,\n",
       "        85334.16381855,  78259.71280733,  83023.40314506,  88219.63714926,\n",
       "        87329.86039444,  89740.87145837,  71486.02524282,  55951.62544771,\n",
       "        66967.80460396,  85265.54454384, 126226.62999114, 110291.25329238,\n",
       "        81804.83284175,  72162.4456693 ,  68229.92749973,  86750.35322317,\n",
       "       118823.56074404, 108877.93206918,  64915.4289308 , 100934.6283851 ,\n",
       "        64519.54919916,  65975.57876619, 111441.88321069,  68291.50073029,\n",
       "        65405.50677863,  81271.06211098,  68266.6245694 ,  59772.81905086,\n",
       "        77885.52686289, 107701.31155103, 127130.06841872,  47628.56063612,\n",
       "        75968.91637072,  62587.77909837,  50550.6694123 ,  80887.96130651,\n",
       "        93855.05308739,  80342.71081485,  84481.5704707 , 109927.17888187,\n",
       "       100327.01590179,  71212.00764784,  62957.38849747,  76839.52981751,\n",
       "       104593.82994724,  83699.05296765,  99237.42459733,  79691.13901202,\n",
       "        95748.47366171,  90192.55539028,  78260.66607186,  75685.8606735 ,\n",
       "        66890.93073991,  64010.4298983 , 117890.50271996,  60070.16241545,\n",
       "        65843.76004823, 107172.29805274,  83655.77659172,  71665.6956718 ,\n",
       "        91309.69364071,  72518.84512126,  87311.99668535,  78351.94052003,\n",
       "        60752.55220277, 115387.81762639,  94504.60048865, 107008.22136773,\n",
       "        87791.55608375,  83686.36833079, 109339.17021292, 112064.34306076,\n",
       "        75119.15326623,  49812.95251305,  67375.85586057,  94810.82823602,\n",
       "        74538.629972  , 127699.16409422,  92666.2076823 ,  77611.79861624,\n",
       "        73135.22273524,  90029.70114905,  86865.89590539,  70210.76675167,\n",
       "        69446.97549445,  75421.35356992, 101451.43123367,  88768.6317559 ,\n",
       "        77395.20696398,  67068.98367332, 123655.15095391,  82367.39314627,\n",
       "       103239.98736227, 120756.41227052,  95840.81428146, 113504.56501785,\n",
       "        71883.71409924,  85870.60501343,  84375.72912671,  72682.66037916,\n",
       "        70737.36585809, 112484.1634938 ,  48263.15561574,  63231.10688171,\n",
       "        81651.10375455,  71609.02389438,  62336.20408692, 126436.08198166,\n",
       "        86619.97410597,  85476.8351135 , 100054.12244473,  87286.85055109,\n",
       "        88456.03931538,  91236.00481594,  92363.66387514,  83655.12981714,\n",
       "        87433.39654965,  66262.26052225,  86894.81839207,  83670.22110911,\n",
       "        91811.29783788,  68230.18857888,  69994.87242307, 124152.39327218,\n",
       "       105064.46156173,  98711.45434108, 105248.47285287,  79925.27853415,\n",
       "        66413.62305991,  78936.88506916,  76800.21266509,  79675.90083131,\n",
       "       106644.00545052,  74397.46789976,  84029.83615306,  65334.51668787,\n",
       "        62679.70203426, 101382.39252632,  79554.0495238 ,  93965.8019454 ,\n",
       "        88859.49396128,  73213.02853657,  55838.03628834, 100071.66591515,\n",
       "        88682.78289878, 128202.38939724,  90676.66272882,  78303.01022226,\n",
       "        58403.02981616,  91797.17038642,  99093.92945474,  94534.46070525,\n",
       "        92670.35192127,  60263.39871921,  80944.40376289, 101240.825074  ,\n",
       "       105545.62342913,  85004.8717611 ,  95876.16955718,  77390.034127  ,\n",
       "        94830.18712331,  98796.99600858,  90368.48889796,  65585.46697009,\n",
       "        80482.7947653 ,  69415.39919258,  69486.44268098, 109348.21528112,\n",
       "        89516.26616718,  84049.09619362,  81888.82849408,  99112.05465565])"
      ]
     },
     "execution_count": 2,
     "metadata": {},
     "output_type": "execute_result"
    }
   ],
   "source": [
    "# Load the income data as NumPy array\n",
    "incomes = np.loadtxt(\"data/incomes.txt\")\n",
    "incomes"
   ]
  },
  {
   "cell_type": "code",
   "execution_count": 3,
   "metadata": {},
   "outputs": [
    {
     "data": {
      "image/png": "[encoded data removed]",
      "text/plain": [
       "<Figure size 432x288 with 1 Axes>"
      ]
     },
     "metadata": {
      "needs_background": "light"
     },
     "output_type": "display_data"
    }
   ],
   "source": [
    "# Plot the histogram\n",
    "num_bins = 30\n",
    "count, bins, ignored = plt.hist(incomes, num_bins, density=True, edgecolor=\"k\")\n",
    "plt.title(\"Annual Incomes of 2018-2020 MACSS Graduates\")\n",
    "plt.xlabel(r\"Incomes\")\n",
    "plt.ylabel(r\"Population Percentage\")\n",
    "plt.xlim([45000, 140000]);"
   ]
  },
  {
   "cell_type": "markdown",
   "metadata": {},
   "source": [
    "#### (b)"
   ]
  },
  {
   "cell_type": "code",
   "execution_count": 4,
   "metadata": {},
   "outputs": [],
   "source": [
    "# Define a truncated lognormal function that generates value of a lognormal pdf\n",
    "def trunc_lognormal_pdf(xvals, mu, sigma, cut_lb, cut_ub):\n",
    "    if cut_ub == \"None\" and cut_lb == \"None\":\n",
    "        prob_not_cut = 1.0\n",
    "    elif cut_ub == \"None\" and cut_lb != \"None\":\n",
    "        prob_not_cut = 1.0 - sts.lognorm.cdf(cut_lb, s=sigma, scale=np.exp(mu))\n",
    "    elif cut_ub != \"None\" and cut_lb == \"None\":\n",
    "        prob_not_cut = sts.lognorm.cdf(cut_ub, s=sigma, scale=np.exp(mu))\n",
    "    elif cut_ub != \"None\" and cut_lb != \"None\":\n",
    "        prob_not_cut = sts.lognorm.cdf(cut_ub, s=sigma, scale=np.exp(mu)) - \\\n",
    "                        sts.lognorm.cdf(cut_lb, s=sigma, scale=np.exp(mu))\n",
    "\n",
    "    pdf_vals = (1 / prob_not_cut) * 1 / (xvals * sigma * np.sqrt(2 * np.pi)) * \\\n",
    "                np.exp(- (np.log(xvals) - mu) ** 2 / (2 * sigma ** 2))\n",
    "    return pdf_vals"
   ]
  },
  {
   "cell_type": "code",
   "execution_count": 5,
   "metadata": {},
   "outputs": [],
   "source": [
    "# Define a function that computes the two data moments for GMM\n",
    "def data_moments(xvals):\n",
    "    mean_data = xvals.mean()\n",
    "    std_data = xvals.std()\n",
    "    return mean_data, std_data"
   ]
  },
  {
   "cell_type": "code",
   "execution_count": 6,
   "metadata": {},
   "outputs": [],
   "source": [
    "# Define a function that computes the two model moments for GMM\n",
    "def model_moments(mu, sigma, cut_lb, cut_ub):\n",
    "    xfx = lambda x: x * trunc_lognormal_pdf(x, mu, sigma, cut_lb, cut_ub)\n",
    "    mean_model, m_m_err = intgr.quad(xfx, cut_lb, cut_ub)\n",
    "    x2fx = lambda x: (x - mean_model) ** 2 * trunc_lognormal_pdf(x, mu, sigma, cut_lb, cut_ub)\n",
    "    var_model, v_m_err = intgr.quad(x2fx, cut_lb, cut_ub) \n",
    "    return mean_model, np.sqrt(var_model)"
   ]
  },
  {
   "cell_type": "code",
   "execution_count": 7,
   "metadata": {},
   "outputs": [],
   "source": [
    "# Define the moment error function\n",
    "def err_vec(xvals, mu, sigma, cut_lb, cut_ub, simple):\n",
    "    mean_data, std_data = data_moments(xvals)\n",
    "    moms_data = np.array([[mean_data], [std_data]])\n",
    "    mean_model, std_model = model_moments(mu, sigma, cut_lb, cut_ub)\n",
    "    moms_model = np.array([[mean_model], [std_model]])\n",
    "    \n",
    "    if simple:\n",
    "        err_vec = moms_model - moms_data\n",
    "    else:\n",
    "        err_vec = (moms_model - moms_data) / moms_data\n",
    "    return err_vec"
   ]
  },
  {
   "cell_type": "code",
   "execution_count": 8,
   "metadata": {},
   "outputs": [],
   "source": [
    "# Define the criterion function\n",
    "def criterion(params, *args):\n",
    "    mu, sigma = params\n",
    "    xvals, cub_lb, cut_ub, W = args\n",
    "    err = err_vec(xvals, mu, sigma, cut_lb, cut_ub, simple=False)\n",
    "    crit_val = err.T @ W @ err\n",
    "    return crit_val"
   ]
  },
  {
   "cell_type": "code",
   "execution_count": 9,
   "metadata": {},
   "outputs": [
    {
     "name": "stdout",
     "output_type": "stream",
     "text": [
      "mu_GMM1 =  11.333599613401049\n",
      "sig_GMM1 =  0.21325529509280278\n"
     ]
    },
    {
     "data": {
      "text/plain": [
       "      fun: array([[6.39929185e-16]])\n",
       " hess_inv: <2x2 LbfgsInvHessProduct with dtype=float64>\n",
       "      jac: array([-1.14975167e-08, -2.93651208e-08])\n",
       "  message: b'CONVERGENCE: REL_REDUCTION_OF_F_<=_FACTR*EPSMCH'\n",
       "     nfev: 45\n",
       "      nit: 10\n",
       "   status: 0\n",
       "  success: True\n",
       "        x: array([11.33359961,  0.2132553 ])"
      ]
     },
     "execution_count": 9,
     "metadata": {},
     "output_type": "execute_result"
    }
   ],
   "source": [
    "# Estimate the parameters of the lognormal dist. by GMM\n",
    "mu_init = 11\n",
    "sig_init = 0.5\n",
    "params_init = np.array([mu_init, sig_init])\n",
    "cut_lb = 0.0\n",
    "cut_ub = 150000.0\n",
    "W_hat = np.eye(2)  # Generate the identity matrix\n",
    "gmm_args = (incomes, cut_lb, cut_ub, W_hat)\n",
    "results = opt.minimize(criterion, params_init, args=gmm_args, tol=1e-14, method=\"L-BFGS-B\", bounds=((1e-10, None), (1e-10, None)))\n",
    "mu_GMM1, sig_GMM1 = results.x\n",
    "print(\"mu_GMM1 = \", mu_GMM1)\n",
    "print(\"sig_GMM1 = \", sig_GMM1)\n",
    "results"
   ]
  },
  {
   "cell_type": "code",
   "execution_count": 10,
   "metadata": {},
   "outputs": [
    {
     "name": "stdout",
     "output_type": "stream",
     "text": [
      "Mean of the incomes =  85276.82360625811 , s.t.d. of the incomes =  17992.542128046523\n",
      "Mean of the model =  85276.82405854714 , s.t.d. of the model =  17992.541683008654\n",
      "Error Vector =  [ 5.30377427e-09 -2.47345743e-08]\n",
      "Minimized value of the GMM criterion function =  [[6.39929185e-16]]\n"
     ]
    }
   ],
   "source": [
    "# Report the estimate results\n",
    "mean_data, std_data = data_moments(incomes)\n",
    "mean_model, std_model = model_moments(mu_GMM1, sig_GMM1, cut_lb, cut_ub)\n",
    "err1 = err_vec(incomes, mu_GMM1, sig_GMM1, cut_lb, cut_ub, simple=False).reshape(2, )\n",
    "\n",
    "print(\"Mean of the incomes = \", mean_data, \", s.t.d. of the incomes = \", std_data)\n",
    "print(\"Mean of the model = \", mean_model, \", s.t.d. of the model = \", std_model)\n",
    "print(\"Error Vector = \", err1)\n",
    "print(\"Minimized value of the GMM criterion function = \", results.fun)"
   ]
  },
  {
   "cell_type": "code",
   "execution_count": 11,
   "metadata": {
    "scrolled": true
   },
   "outputs": [
    {
     "data": {
      "image/png": "[encoded data removed]",
      "text/plain": [
       "<Figure size 432x288 with 1 Axes>"
      ]
     },
     "metadata": {
      "needs_background": "light"
     },
     "output_type": "display_data"
    }
   ],
   "source": [
    "# Plot the estimated lognormal PDF against the histogram\n",
    "num_bins = 30\n",
    "count, bins, ignored = plt.hist(incomes, num_bins, density=True, edgecolor=\"k\")\n",
    "plt.title(\"Annual Incomes of 2018-2020 MACSS Graduates\")\n",
    "plt.xlabel(r\"Incomes\")\n",
    "plt.ylabel(r\"Population Percentage\")\n",
    "plt.xlim([1e-10, 150000])\n",
    "\n",
    "dist_incomes = np.linspace(1e-10, 150000, 5000)\n",
    "plt.plot(dist_incomes, trunc_lognormal_pdf(dist_incomes, mu_GMM1, sig_GMM1, 0, 150000), \\\n",
    "         lw=2, color=\"r\", label=r\"$\\mu$ = {}, $\\sigma$ = {}\".format(round(mu_GMM1, 2), round(sig_GMM1, 2)))\n",
    "         \n",
    "plt.legend(loc=\"best\");"
   ]
  },
  {
   "cell_type": "markdown",
   "metadata": {},
   "source": [
    "**The two data moments and the two model moments are close up to the two decimal points.**"
   ]
  },
  {
   "cell_type": "markdown",
   "metadata": {},
   "source": [
    "#### (c)"
   ]
  },
  {
   "cell_type": "code",
   "execution_count": 12,
   "metadata": {},
   "outputs": [],
   "source": [
    "# Define a function that computes the R * N matrix of error from each observations for each moment\n",
    "def get_Err_mat_2(xvals, mu, sigma, cut_lb, cut_ub, simple=False):\n",
    "    R = 2\n",
    "    N = len(xvals)\n",
    "    Err_mat = np.zeros((R, N))\n",
    "    mean_data, std_data = data_moments(xvals)\n",
    "    mean_model, std_model = model_moments(mu, sigma, cut_lb, cut_ub)\n",
    "    if simple:\n",
    "        Err_mat[0, :] = xvals - mean_model\n",
    "        Err_mat[1, :] = np.sqrt((mean_data - xvals) ** 2) - std_model\n",
    "    else:\n",
    "        Err_mat[0, :] = (xvals - mean_model) / mean_model\n",
    "        Err_mat[1, :] = (np.sqrt((mean_data - xvals) ** 2) - std_model) / std_model\n",
    "    return Err_mat"
   ]
  },
  {
   "cell_type": "code",
   "execution_count": 13,
   "metadata": {},
   "outputs": [
    {
     "name": "stdout",
     "output_type": "stream",
     "text": [
      "The estimate for the var.-cov. matrix = \n",
      " [[0.04451671 0.02724079]\n",
      " [0.02724079 0.40593057]]\n"
     ]
    }
   ],
   "source": [
    "# Calculate the new estimate of the var.-cov. matrix\n",
    "err_mat = get_Err_mat_2(incomes, mu_GMM1, sig_GMM1, cut_lb, cut_ub, simple=False)\n",
    "N = incomes.shape[0]\n",
    "VCV2 = 1 / N  * err_mat @ err_mat.T\n",
    "print(\"The estimate for the var.-cov. matrix = \\n\", VCV2)"
   ]
  },
  {
   "cell_type": "code",
   "execution_count": 14,
   "metadata": {},
   "outputs": [
    {
     "name": "stdout",
     "output_type": "stream",
     "text": [
      "The two-step estimator for the optimal weighting matrix = \n",
      " [[23.42542598 -1.57201036]\n",
      " [-1.57201036  2.56896839]]\n"
     ]
    }
   ],
   "source": [
    "# Calculate the new optimal weighing matrix\n",
    "W_hat2 = lin.inv(VCV2)\n",
    "print(\"The two-step estimator for the optimal weighting matrix = \\n\", W_hat2)"
   ]
  },
  {
   "cell_type": "code",
   "execution_count": 15,
   "metadata": {
    "scrolled": false
   },
   "outputs": [
    {
     "name": "stdout",
     "output_type": "stream",
     "text": [
      "mu_GMM2 =  11.333599603575983\n",
      "sig_GMM2 =  0.21325529803982507\n"
     ]
    },
    {
     "data": {
      "text/plain": [
       "      fun: array([[6.39929185e-16]])\n",
       " hess_inv: <2x2 LbfgsInvHessProduct with dtype=float64>\n",
       "      jac: array([-1.14975167e-08, -2.93651208e-08])\n",
       "  message: b'CONVERGENCE: REL_REDUCTION_OF_F_<=_FACTR*EPSMCH'\n",
       "     nfev: 45\n",
       "      nit: 10\n",
       "   status: 0\n",
       "  success: True\n",
       "        x: array([11.33359961,  0.2132553 ])"
      ]
     },
     "execution_count": 15,
     "metadata": {},
     "output_type": "execute_result"
    }
   ],
   "source": [
    "# Estimate the parameters of the lognormal dist. by two-step GMM\n",
    "params_init = np.array([mu_GMM1, sig_GMM1])\n",
    "cut_lb = 0.0\n",
    "cut_ub = 150000.0\n",
    "gmm_args2 = (incomes, cut_lb, cut_ub, W_hat2)\n",
    "results2 = opt.minimize(criterion, params_init, args=gmm_args2, tol=1e-14, method=\"L-BFGS-B\", bounds=((1e-10, None), (1e-10, None)))\n",
    "mu_GMM2, sig_GMM2 = results2.x\n",
    "print(\"mu_GMM2 = \", mu_GMM2)\n",
    "print(\"sig_GMM2 = \", sig_GMM2)\n",
    "results"
   ]
  },
  {
   "cell_type": "code",
   "execution_count": 16,
   "metadata": {},
   "outputs": [
    {
     "name": "stdout",
     "output_type": "stream",
     "text": [
      "Mean of the incomes =  85276.82360625811 , s.t.d. of the incomes =  17992.542128046523\n",
      "Mean of the model =  85276.8232751028 , s.t.d. of the model =  17992.541776223767\n",
      "Error Vector =  [-3.88329796e-09 -1.95538104e-08]\n",
      "Minimized value of the GMM criterion function =  [[6.39929185e-16]]\n"
     ]
    }
   ],
   "source": [
    "# Report the estimate results\n",
    "mean_data, std_data = data_moments(incomes)\n",
    "mean_model, std_model = model_moments(mu_GMM2, sig_GMM2, cut_lb, cut_ub)\n",
    "err2 = err_vec(incomes, mu_GMM2, sig_GMM2, cut_lb, cut_ub, simple=False).reshape(2, )\n",
    "\n",
    "print(\"Mean of the incomes = \", mean_data, \", s.t.d. of the incomes = \", std_data)\n",
    "print(\"Mean of the model = \", mean_model, \", s.t.d. of the model = \", std_model)\n",
    "print(\"Error Vector = \", err2)\n",
    "print(\"Minimized value of the GMM criterion function = \", results.fun)"
   ]
  },
  {
   "cell_type": "code",
   "execution_count": 17,
   "metadata": {
    "scrolled": true
   },
   "outputs": [
    {
     "data": {
      "image/png": "[encoded data removed]",
      "text/plain": [
       "<Figure size 432x288 with 1 Axes>"
      ]
     },
     "metadata": {
      "needs_background": "light"
     },
     "output_type": "display_data"
    }
   ],
   "source": [
    "# Plot the estimated lognormal PDF against the histogram\n",
    "num_bins = 30\n",
    "count, bins, ignored = plt.hist(incomes, num_bins, density=True, edgecolor=\"k\")\n",
    "plt.title(\"Annual Incomes of 2018-2020 MACSS Graduates\")\n",
    "plt.xlabel(r\"Incomes\")\n",
    "plt.ylabel(r\"Population Percentage\")\n",
    "plt.xlim([1e-10, 150000])\n",
    "\n",
    "dist_incomes = np.linspace(1e-10, 150000, 5000)\n",
    "plt.plot(dist_incomes, trunc_lognormal_pdf(dist_incomes, mu_GMM1, sig_GMM1, 0, 150000), \\\n",
    "         lw=2, color=\"r\", label=r\"$\\mu$ = {}, $\\sigma$ = {}\".format(mu_GMM1, sig_GMM1))\n",
    "\n",
    "plt.plot(dist_incomes, trunc_lognormal_pdf(dist_incomes, mu_GMM2, sig_GMM2, 0, 150000), \\\n",
    "         lw=2, ls=\"--\", color=\"y\", label=r\"$\\mu$ = {}, $\\sigma$ = {}\".format(mu_GMM2, sig_GMM2))\n",
    "\n",
    "plt.legend(loc=\"best\");"
   ]
  },
  {
   "cell_type": "markdown",
   "metadata": {},
   "source": [
    "**As before, the two data moments and the two model moments are very close.**\n",
    "\n",
    "**And the two-step GMM estimation has very similar results with the previous estimation.**"
   ]
  },
  {
   "cell_type": "markdown",
   "metadata": {},
   "source": [
    "#### (d) Three moments, identity weighting matrix"
   ]
  },
  {
   "cell_type": "code",
   "execution_count": 18,
   "metadata": {},
   "outputs": [],
   "source": [
    "# Define a function that computes the three data moments for GMM\n",
    "def data_moments3(xvals):\n",
    "    N = xvals.shape[0]\n",
    "    bpct_1_dat = xvals[xvals < 75000.0].shape[0] / N\n",
    "    bpct_2_dat = xvals[(xvals >= 75000.0) & (xvals < 100000.0)].shape[0] / N\n",
    "    bpct_3_dat = xvals[xvals > 100000.0].shape[0] / N\n",
    "    return bpct_1_dat, bpct_2_dat, bpct_3_dat"
   ]
  },
  {
   "cell_type": "code",
   "execution_count": 19,
   "metadata": {},
   "outputs": [],
   "source": [
    "# Define a function that compute the three model moments for GMM\n",
    "def model_moments3(mu, sigma, cut_lb, cut_ub):\n",
    "    xfx = lambda x: trunc_lognormal_pdf(x, mu, sigma, cut_lb, cut_ub)\n",
    "    bpct_1_mod, bp_1_err = intgr.quad(xfx, 0.0, 75000.0)\n",
    "    bpct_2_mod, bp_2_err = intgr.quad(xfx, 75000.0, 100000.0)\n",
    "    bpct_3_mod, bp_3_err = intgr.quad(xfx, 100000.0, 150000.0)\n",
    "    return bpct_1_mod, bpct_2_mod, bpct_3_mod"
   ]
  },
  {
   "cell_type": "code",
   "execution_count": 20,
   "metadata": {},
   "outputs": [],
   "source": [
    "# Define the moment error function\n",
    "def err_vec3(xvals, mu, sigma, cut_lb, cut_ub, simple):\n",
    "    bpct_1_dat, bpct_2_dat, bpct_3_dat = data_moments3(xvals)\n",
    "    moms_data = np.array([[bpct_1_dat], [bpct_2_dat], [bpct_3_dat]])\n",
    "    bpct_1_mod, bpct_2_mod, bpct_3_mod = model_moments3(mu, sigma, cut_lb, cut_ub)\n",
    "    moms_mod = np.array([[bpct_1_mod], [bpct_2_mod], [bpct_3_mod]])\n",
    "    if simple:\n",
    "        err_vec = moms_mod - moms_data\n",
    "    else:\n",
    "        err_vec = (moms_mod - moms_data) / moms_data\n",
    "    return err_vec"
   ]
  },
  {
   "cell_type": "code",
   "execution_count": 21,
   "metadata": {},
   "outputs": [],
   "source": [
    "def criterion3(params, *args):\n",
    "    mu, sigma = params\n",
    "    xvals, cub_lb, cut_ub, W = args\n",
    "    err = err_vec3(xvals, mu, sigma, cut_lb, cut_ub, simple=False)\n",
    "    crit_val = err.T @ W @ err\n",
    "    return crit_val"
   ]
  },
  {
   "cell_type": "code",
   "execution_count": 22,
   "metadata": {},
   "outputs": [
    {
     "name": "stdout",
     "output_type": "stream",
     "text": [
      "mu_GMM3_1 =  11.336705181100031\n",
      "sig_GMM3_1 =  0.21151351584300565\n"
     ]
    },
    {
     "data": {
      "text/plain": [
       "      fun: array([[1.82841985e-15]])\n",
       " hess_inv: <2x2 LbfgsInvHessProduct with dtype=float64>\n",
       "      jac: array([1.72499409e-07, 7.61405060e-09])\n",
       "  message: b'CONVERGENCE: REL_REDUCTION_OF_F_<=_FACTR*EPSMCH'\n",
       "     nfev: 153\n",
       "      nit: 22\n",
       "   status: 0\n",
       "  success: True\n",
       "        x: array([11.33670518,  0.21151352])"
      ]
     },
     "execution_count": 22,
     "metadata": {},
     "output_type": "execute_result"
    }
   ],
   "source": [
    "# Estimate the params by 3-moment GMM\n",
    "mu_init = 11\n",
    "sig_init = 0.5\n",
    "params_init = np.array([mu_init, sig_init])\n",
    "cut_lb = 0.0\n",
    "cut_ub = 150000.0\n",
    "W_hat = np.eye(3)  # Generate the identity matrix\n",
    "gmm_args3 = (incomes, cut_lb, cut_ub, W_hat)\n",
    "results3 = opt.minimize(criterion3, params_init, args=gmm_args3, \\\n",
    "                        tol=1e-14, method=\"L-BFGS-B\", bounds=((1e-10, None), (1e-10, None)))\n",
    "mu_GMM3_1, sig_GMM3_1 = results3.x\n",
    "print(\"mu_GMM3_1 = \", mu_GMM3_1)\n",
    "print(\"sig_GMM3_1 = \", sig_GMM3_1)\n",
    "results3"
   ]
  },
  {
   "cell_type": "code",
   "execution_count": 23,
   "metadata": {},
   "outputs": [
    {
     "name": "stdout",
     "output_type": "stream",
     "text": [
      "Params =  [11.336705181100031, 0.21151351584300565]\n",
      "Data moments =  (0.3, 0.5, 0.2)\n",
      "Model moments =  (0.3000000012519241, 0.5000000068113886, 0.19999999193668755)\n",
      "Error vector = \n",
      " [[ 4.17308040e-09]\n",
      " [ 1.36227771e-08]\n",
      " [-4.03165623e-08]]\n",
      "Minimized value of the GMM criterion function =  [[1.82841985e-15]]\n"
     ]
    }
   ],
   "source": [
    "# Report the estimate results\n",
    "bpct_1_mod, bpct_2_mod, bpct_3_mod = model_moments3(mu_GMM3_1, sig_GMM3_1, cut_lb, cut_ub)\n",
    "err3_1 = err_vec3(incomes, mu_GMM3_1, sig_GMM3_1, cut_lb, cut_ub, False)\n",
    "\n",
    "print(\"Params = \", [mu_GMM3_1, sig_GMM3_1])\n",
    "print(\"Data moments = \", data_moments3(incomes))\n",
    "print(\"Model moments = \", model_moments3(mu_GMM3_1, sig_GMM3_1, cut_lb, cut_ub))\n",
    "print(\"Error vector = \\n\", err3_1)\n",
    "print(\"Minimized value of the GMM criterion function = \", results3.fun)"
   ]
  },
  {
   "cell_type": "code",
   "execution_count": 24,
   "metadata": {},
   "outputs": [
    {
     "data": {
      "image/png": "[encoded data removed]",
      "text/plain": [
       "<Figure size 432x288 with 1 Axes>"
      ]
     },
     "metadata": {
      "needs_background": "light"
     },
     "output_type": "display_data"
    }
   ],
   "source": [
    "# Plot the estimated lognormal PDF against the histogram\n",
    "num_bins = 30\n",
    "count, bins, ignored = plt.hist(incomes, num_bins, density=True, edgecolor=\"k\")\n",
    "plt.title(\"Annual Incomes of 2018-2020 MACSS Graduates\")\n",
    "plt.xlabel(r\"Incomes\")\n",
    "plt.ylabel(r\"Population Percentage\")\n",
    "plt.xlim([1e-10, 150000])\n",
    "\n",
    "dist_incomes = np.linspace(1e-10, 150000, 5000)\n",
    "plt.plot(dist_incomes, trunc_lognormal_pdf(dist_incomes, mu_GMM3_1, sig_GMM3_1, 0, 150000), \\\n",
    "         lw=2, color=\"r\", label=r\"$\\mu$ = {}, $\\sigma$ = {}\".format(round(mu_GMM3_1, 2), round(sig_GMM3_1, 2)))\n",
    "         \n",
    "plt.legend(loc=\"best\");"
   ]
  },
  {
   "cell_type": "markdown",
   "metadata": {},
   "source": [
    "#### (e) Three moments, two-step estimator for the optimal weighting matrix"
   ]
  },
  {
   "cell_type": "code",
   "execution_count": 25,
   "metadata": {},
   "outputs": [],
   "source": [
    "# Define a function that computes the R * N matrix of error from each observations for each moment\n",
    "def get_Err_mat_3(xvals, mu, sigma, cut_lb, cut_ub, simple=False):\n",
    "    R = 3\n",
    "    N = len(xvals)\n",
    "    err_mat3 = np.zeros((R, N))\n",
    "    income_group1 = xvals < 75000.0\n",
    "    income_group2 = (xvals >= 75000.0) & (xvals <100000.0)\n",
    "    income_group3 = xvals >= 100000.0\n",
    "    bpct_1_mod, bpct_2_mod, bpct_3_mod = model_moments3(mu, sigma, cut_lb, cut_ub)\n",
    "    if simple:\n",
    "        err_mat3[0, :] = income_group1 - bpct_1_mod\n",
    "        err_mat3[1, :] = income_group2 - bpct_2_mod\n",
    "        err_mat3[2, :] = income_group3 - bpct_3_mod\n",
    "    else:\n",
    "        err_mat3[0, :] = (income_group1 - bpct_1_mod) / income_group1 \n",
    "        err_mat3[1, :] = (income_group2 - bpct_2_mod) / income_group2\n",
    "        err_mat3[2, :] = (income_group3 - bpct_3_mod) / income_group3\n",
    "    return err_mat3"
   ]
  },
  {
   "cell_type": "code",
   "execution_count": 26,
   "metadata": {
    "scrolled": true
   },
   "outputs": [
    {
     "name": "stdout",
     "output_type": "stream",
     "text": [
      "The estimate for the var.-cov. matrix = \n",
      " [[ 0.21 -0.15 -0.06]\n",
      " [-0.15  0.25 -0.1 ]\n",
      " [-0.06 -0.1   0.16]]\n"
     ]
    }
   ],
   "source": [
    "# Calculate the new estimate of the var.-cov. matrix\n",
    "err_mat3 = get_Err_mat_3(incomes, mu_GMM3_1, sig_GMM3_1, cut_lb, cut_ub, simple=True)\n",
    "N = incomes.shape[0]\n",
    "VCV3_2 = 1 / N  * err_mat3 @ err_mat3.T\n",
    "print(\"The estimate for the var.-cov. matrix = \\n\", VCV3_2)"
   ]
  },
  {
   "cell_type": "code",
   "execution_count": 27,
   "metadata": {},
   "outputs": [
    {
     "name": "stdout",
     "output_type": "stream",
     "text": [
      "The two-step estimator for the optimal weighting matrix = \n",
      " [[ 2.25925926 -0.62962963 -1.62962963]\n",
      " [-0.62962963  1.81481481 -1.18518519]\n",
      " [-1.62962963 -1.18518519  2.81481481]]\n"
     ]
    }
   ],
   "source": [
    "# Calculate the new optimal weighing matrix\n",
    "W_hat3_2 = lin.pinv(VCV3_2)\n",
    "print(\"The two-step estimator for the optimal weighting matrix = \\n\", W_hat3_2)"
   ]
  },
  {
   "cell_type": "code",
   "execution_count": 28,
   "metadata": {},
   "outputs": [
    {
     "name": "stdout",
     "output_type": "stream",
     "text": [
      "mu_GMM3_2 =  11.33670517977796\n",
      "sig_GMM3_2 =  0.21151351746070032\n"
     ]
    },
    {
     "data": {
      "text/plain": [
       "      fun: array([[7.9821992e-15]])\n",
       " hess_inv: <2x2 LbfgsInvHessProduct with dtype=float64>\n",
       "      jac: array([2.26794122e-08, 1.05839759e-08])\n",
       "  message: b'CONVERGENCE: REL_REDUCTION_OF_F_<=_FACTR*EPSMCH'\n",
       "     nfev: 120\n",
       "      nit: 14\n",
       "   status: 0\n",
       "  success: True\n",
       "        x: array([11.33670518,  0.21151352])"
      ]
     },
     "execution_count": 28,
     "metadata": {},
     "output_type": "execute_result"
    }
   ],
   "source": [
    "# Estimate the params by 3-moment two-step GMM\n",
    "mu_init = 11\n",
    "sig_init = 0.2\n",
    "params_init = np.array([mu_init, sig_init])\n",
    "cut_lb = 0.0\n",
    "cut_ub = 150000.0\n",
    "gmm_args3_2 = (incomes, cut_lb, cut_ub, W_hat3_2)\n",
    "results3_2 = opt.minimize(criterion3, params_init, args=gmm_args3_2, \\\n",
    "                          tol=1e-14, method=\"L-BFGS-B\", bounds=((1e-10, None), (1e-10, None)))\n",
    "mu_GMM3_2, sig_GMM3_2 = results3_2.x\n",
    "print(\"mu_GMM3_2 = \", mu_GMM3_2)\n",
    "print(\"sig_GMM3_2 = \", sig_GMM3_2)\n",
    "results3_2"
   ]
  },
  {
   "cell_type": "code",
   "execution_count": 29,
   "metadata": {},
   "outputs": [
    {
     "name": "stdout",
     "output_type": "stream",
     "text": [
      "Params =  [11.33670517977796, 0.21151351746070032]\n",
      "Data moments =  (0.3, 0.5, 0.2)\n",
      "Model moments =  (0.3000000048727936, 0.5000000032639967, 0.19999999186320977)\n",
      "Error vector = \n",
      " [[ 1.62426454e-08]\n",
      " [ 6.52799348e-09]\n",
      " [-4.06839512e-08]]\n",
      "Minimized value of the GMM criterion function =  [[7.9821992e-15]]\n"
     ]
    }
   ],
   "source": [
    "# Report the estimate results\n",
    "bpct_1_mod, bpct_2_mod, bpct_3_mod = model_moments3(mu_GMM3_2, sig_GMM3_2, cut_lb, cut_ub)\n",
    "err3_2 = err_vec3(incomes, mu_GMM3_2, sig_GMM3_2, cut_lb, cut_ub, False)\n",
    "\n",
    "print(\"Params = \", [mu_GMM3_2, sig_GMM3_2])\n",
    "print(\"Data moments = \", data_moments3(incomes))\n",
    "print(\"Model moments = \", model_moments3(mu_GMM3_2, sig_GMM3_2, cut_lb, cut_ub))\n",
    "print(\"Error vector = \\n\", err3_2)\n",
    "print(\"Minimized value of the GMM criterion function = \", results3_2.fun)"
   ]
  },
  {
   "cell_type": "code",
   "execution_count": 30,
   "metadata": {
    "scrolled": true
   },
   "outputs": [
    {
     "data": {
      "image/png": "[encoded data removed]",
      "text/plain": [
       "<Figure size 432x288 with 1 Axes>"
      ]
     },
     "metadata": {
      "needs_background": "light"
     },
     "output_type": "display_data"
    }
   ],
   "source": [
    "# Plot the estimated lognormal PDF against the histogram\n",
    "num_bins = 30\n",
    "count, bins, ignored = plt.hist(incomes, num_bins, density=True, edgecolor=\"k\")\n",
    "plt.title(\"Annual Incomes of 2018-2020 MACSS Graduates\")\n",
    "plt.xlabel(r\"Incomes\")\n",
    "plt.ylabel(r\"Population Percentage\")\n",
    "plt.xlim([1e-10, 150000])\n",
    "\n",
    "dist_incomes = np.linspace(1e-10, 150000, 5000)\n",
    "plt.plot(dist_incomes, trunc_lognormal_pdf(dist_incomes, mu_GMM3_1, sig_GMM3_1, 0, 150000), \\\n",
    "         lw=2, color=\"r\", label=r\"$\\mu$ = {}, $\\sigma$ = {}\".format(mu_GMM3_1, sig_GMM3_1))\n",
    "plt.plot(dist_incomes, trunc_lognormal_pdf(dist_incomes, mu_GMM3_2, sig_GMM3_2, 0, 150000), \\\n",
    "         lw=2, ls=\"--\", color=\"y\", label=r\"$\\mu$ = {}, $\\sigma$ = {}\".format(mu_GMM3_2, sig_GMM3_2))\n",
    "\n",
    "plt.legend(loc=\"best\");"
   ]
  },
  {
   "cell_type": "markdown",
   "metadata": {},
   "source": [
    "**As before, the four data moments and the four model moments are very close up to the 8th decimal points.**\n",
    "\n",
    "**And the four-moment two-step GMM estimation has very similar results with the previous four-moment GMM estimation.**"
   ]
  },
  {
   "cell_type": "markdown",
   "metadata": {},
   "source": [
    "#### (f)"
   ]
  },
  {
   "cell_type": "code",
   "execution_count": 31,
   "metadata": {},
   "outputs": [
    {
     "data": {
      "text/html": [
       "<div>\n",
       "<style scoped>\n",
       "    .dataframe tbody tr th:only-of-type {\n",
       "        vertical-align: middle;\n",
       "    }\n",
       "\n",
       "    .dataframe tbody tr th {\n",
       "        vertical-align: top;\n",
       "    }\n",
       "\n",
       "    .dataframe thead th {\n",
       "        text-align: right;\n",
       "    }\n",
       "</style>\n",
       "<table border=\"1\" class=\"dataframe\">\n",
       "  <thead>\n",
       "    <tr style=\"text-align: right;\">\n",
       "      <th></th>\n",
       "      <th>mu</th>\n",
       "      <th>sig</th>\n",
       "      <th>Criterion Function Value</th>\n",
       "    </tr>\n",
       "  </thead>\n",
       "  <tbody>\n",
       "    <tr>\n",
       "      <td>2 Moments with Identity</td>\n",
       "      <td>11.333600</td>\n",
       "      <td>0.213255</td>\n",
       "      <td>6.399292e-16</td>\n",
       "    </tr>\n",
       "    <tr>\n",
       "      <td>2 Moments with 2-step</td>\n",
       "      <td>11.333600</td>\n",
       "      <td>0.213255</td>\n",
       "      <td>1.096769e-15</td>\n",
       "    </tr>\n",
       "    <tr>\n",
       "      <td>3 Moments with Identity</td>\n",
       "      <td>11.336705</td>\n",
       "      <td>0.211514</td>\n",
       "      <td>1.828420e-15</td>\n",
       "    </tr>\n",
       "    <tr>\n",
       "      <td>3 Moments with 2-step</td>\n",
       "      <td>11.336705</td>\n",
       "      <td>0.211514</td>\n",
       "      <td>7.982199e-15</td>\n",
       "    </tr>\n",
       "  </tbody>\n",
       "</table>\n",
       "</div>"
      ],
      "text/plain": [
       "                                mu       sig  Criterion Function Value\n",
       "2 Moments with Identity  11.333600  0.213255              6.399292e-16\n",
       "2 Moments with 2-step    11.333600  0.213255              1.096769e-15\n",
       "3 Moments with Identity  11.336705  0.211514              1.828420e-15\n",
       "3 Moments with 2-step    11.336705  0.211514              7.982199e-15"
      ]
     },
     "execution_count": 31,
     "metadata": {},
     "output_type": "execute_result"
    }
   ],
   "source": [
    "method = [\"2 Moments with Identity\",\n",
    "          \"2 Moments with 2-step\",\n",
    "          \"3 Moments with Identity\",\n",
    "          \"3 Moments with 2-step\"]\n",
    "mu_list = [mu_GMM1, mu_GMM2, mu_GMM3_1, mu_GMM3_2]\n",
    "sig_list = [sig_GMM1, sig_GMM2, sig_GMM3_1, sig_GMM3_2]\n",
    "val_list = [results.fun, results2.fun, results3.fun, results3_2.fun]\n",
    "\n",
    "pd.DataFrame(index=method, data={\"mu\": mu_list,\n",
    "                                 \"sig\": sig_list,\n",
    "                                 \"Criterion Function Value\": val_list}).astype(float)"
   ]
  },
  {
   "cell_type": "markdown",
   "metadata": {},
   "source": [
    "**Generally speaking, the GMM estimations are very similar to each other up to the 15th decimal. The GMM model using 2 moments and identity matrix, i.e. model (b) fits the data best because it has the smallest value of the criterion function.**"
   ]
  },
  {
   "cell_type": "markdown",
   "metadata": {},
   "source": [
    "### Question 2"
   ]
  },
  {
   "cell_type": "markdown",
   "metadata": {},
   "source": [
    "#### (a)"
   ]
  },
  {
   "cell_type": "code",
   "execution_count": 32,
   "metadata": {},
   "outputs": [
    {
     "data": {
      "text/html": [
       "<div>\n",
       "<style scoped>\n",
       "    .dataframe tbody tr th:only-of-type {\n",
       "        vertical-align: middle;\n",
       "    }\n",
       "\n",
       "    .dataframe tbody tr th {\n",
       "        vertical-align: top;\n",
       "    }\n",
       "\n",
       "    .dataframe thead th {\n",
       "        text-align: right;\n",
       "    }\n",
       "</style>\n",
       "<table border=\"1\" class=\"dataframe\">\n",
       "  <thead>\n",
       "    <tr style=\"text-align: right;\">\n",
       "      <th></th>\n",
       "      <th>sick</th>\n",
       "      <th>age</th>\n",
       "      <th>children</th>\n",
       "      <th>avgtemp_winter</th>\n",
       "    </tr>\n",
       "  </thead>\n",
       "  <tbody>\n",
       "    <tr>\n",
       "      <td>0</td>\n",
       "      <td>1.67</td>\n",
       "      <td>57.47</td>\n",
       "      <td>3.04</td>\n",
       "      <td>54.10</td>\n",
       "    </tr>\n",
       "    <tr>\n",
       "      <td>1</td>\n",
       "      <td>0.71</td>\n",
       "      <td>26.77</td>\n",
       "      <td>1.20</td>\n",
       "      <td>36.54</td>\n",
       "    </tr>\n",
       "    <tr>\n",
       "      <td>2</td>\n",
       "      <td>1.39</td>\n",
       "      <td>41.85</td>\n",
       "      <td>2.31</td>\n",
       "      <td>32.38</td>\n",
       "    </tr>\n",
       "    <tr>\n",
       "      <td>3</td>\n",
       "      <td>1.37</td>\n",
       "      <td>51.27</td>\n",
       "      <td>2.46</td>\n",
       "      <td>52.94</td>\n",
       "    </tr>\n",
       "    <tr>\n",
       "      <td>4</td>\n",
       "      <td>1.45</td>\n",
       "      <td>44.22</td>\n",
       "      <td>2.72</td>\n",
       "      <td>45.90</td>\n",
       "    </tr>\n",
       "  </tbody>\n",
       "</table>\n",
       "</div>"
      ],
      "text/plain": [
       "   sick    age  children  avgtemp_winter\n",
       "0  1.67  57.47      3.04           54.10\n",
       "1  0.71  26.77      1.20           36.54\n",
       "2  1.39  41.85      2.31           32.38\n",
       "3  1.37  51.27      2.46           52.94\n",
       "4  1.45  44.22      2.72           45.90"
      ]
     },
     "execution_count": 32,
     "metadata": {},
     "output_type": "execute_result"
    }
   ],
   "source": [
    "# Load the sick data as dataframe\n",
    "df = pd.read_csv(\"data/sick.txt\").astype(float)\n",
    "df.head()"
   ]
  },
  {
   "cell_type": "code",
   "execution_count": 33,
   "metadata": {},
   "outputs": [],
   "source": [
    "# Define the moment error function\n",
    "def get_err_vec(df, b0, b1, b2, b3):\n",
    "    err_vec = df[\"sick\"] - b0 - b1 * df[\"age\"] - b2 * df[\"children\"] - b3 * df[\"avgtemp_winter\"]\n",
    "    return err_vec"
   ]
  },
  {
   "cell_type": "code",
   "execution_count": 34,
   "metadata": {},
   "outputs": [],
   "source": [
    "# Define the criterion function\n",
    "def criterion2(params, *args):\n",
    "    b0, b1, b2, b3 = params\n",
    "    df, W = args\n",
    "    err = get_err_vec(df, b0, b1, b2, b3)\n",
    "    crit_val = err.T @ W @ err\n",
    "    return crit_val"
   ]
  },
  {
   "cell_type": "code",
   "execution_count": 35,
   "metadata": {},
   "outputs": [
    {
     "name": "stdout",
     "output_type": "stream",
     "text": [
      "GMM Estimation Result: \n",
      "\n",
      "beta_0 \t 0.2516442904858059\n",
      "beta_1 \t 0.012933508116342512\n",
      "beta_2 \t 0.40050074873123154\n",
      "beta_3 \t -0.009991722821041306\n",
      "\n",
      "GMM Criterion Function Value:  0.0018212897399234773\n"
     ]
    }
   ],
   "source": [
    "# Perform the GMM estimation\n",
    "b0_init = 0.25\n",
    "b1_init = 0.01\n",
    "b2_init = 0.4\n",
    "b3_init = -0.01\n",
    "params_init2 = np.array([b0_init, b1_init, b2_init, b3_init])\n",
    "W2 = np.eye(200)  # Generate the identity matrix\n",
    "gmm_args2 = (df, W2)\n",
    "results2 = opt.minimize(criterion2, params_init2, args=gmm_args2, method=\"L-BFGS-B\", tol=1e-14)\n",
    "b0_gmm, b1_gmm, b2_gmm, b3_gmm = results2.x\n",
    "crit_val2 = results2.fun\n",
    "print(\"GMM Estimation Result: \\n\")\n",
    "for i, b in zip(range(4), results2.x):\n",
    "    print(\"beta_{}\".format(i),\"\\t\", b)\n",
    "print(\"\\nGMM Criterion Function Value: \", crit_val2)"
   ]
  }
 ],
 "metadata": {
  "kernelspec": {
   "display_name": "Python 3",
   "language": "python",
   "name": "python3"
  },
  "language_info": {
   "codemirror_mode": {
    "name": "ipython",
    "version": 3
   },
   "file_extension": ".py",
   "mimetype": "text/x-python",
   "name": "python",
   "nbconvert_exporter": "python",
   "pygments_lexer": "ipython3",
   "version": "3.7.4"
  }
 },
 "nbformat": 4,
 "nbformat_minor": 2
}
